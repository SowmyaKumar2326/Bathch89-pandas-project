{
 "cells": [
  {
   "cell_type": "markdown",
   "metadata": {},
   "source": [
    "Pandas project Batch 89/Sowmya G"
   ]
  },
  {
   "cell_type": "code",
   "execution_count": 2,
   "metadata": {},
   "outputs": [],
   "source": [
    "%matplotlib inline\n",
    "import pandas as pd\n",
    "import numpy as np"
   ]
  },
  {
   "cell_type": "code",
   "execution_count": null,
   "metadata": {},
   "outputs": [],
   "source": [
    "title_data = pd.read_csv(\"C:\\\\Users\\\\ADMIN\\\\Documents\\\\cast.csv\")\n",
    "title_data.head()"
   ]
  },
  {
   "cell_type": "code",
   "execution_count": 23,
   "metadata": {},
   "outputs": [
    {
     "name": "stdout",
     "output_type": "stream",
     "text": [
      "<class 'pandas.core.frame.DataFrame'>\n",
      "RangeIndex: 3611212 entries, 0 to 3611211\n",
      "Data columns (total 6 columns):\n",
      " #   Column     Dtype  \n",
      "---  ------     -----  \n",
      " 0   title      object \n",
      " 1   year       int64  \n",
      " 2   name       object \n",
      " 3   type       object \n",
      " 4   character  object \n",
      " 5   n          float64\n",
      "dtypes: float64(1), int64(1), object(4)\n",
      "memory usage: 165.3+ MB\n",
      "None\n"
     ]
    }
   ],
   "source": [
    "print(title_data.info())"
   ]
  },
  {
   "cell_type": "code",
   "execution_count": 25,
   "metadata": {},
   "outputs": [],
   "source": [
    "#To create a copy of data\n",
    "Movie_title=title_data.copy()"
   ]
  },
  {
   "cell_type": "code",
   "execution_count": 26,
   "metadata": {},
   "outputs": [
    {
     "data": {
      "text/html": [
       "<div>\n",
       "<style scoped>\n",
       "    .dataframe tbody tr th:only-of-type {\n",
       "        vertical-align: middle;\n",
       "    }\n",
       "\n",
       "    .dataframe tbody tr th {\n",
       "        vertical-align: top;\n",
       "    }\n",
       "\n",
       "    .dataframe thead th {\n",
       "        text-align: right;\n",
       "    }\n",
       "</style>\n",
       "<table border=\"1\" class=\"dataframe\">\n",
       "  <thead>\n",
       "    <tr style=\"text-align: right;\">\n",
       "      <th></th>\n",
       "      <th>title</th>\n",
       "      <th>year</th>\n",
       "      <th>name</th>\n",
       "      <th>type</th>\n",
       "      <th>character</th>\n",
       "      <th>n</th>\n",
       "    </tr>\n",
       "  </thead>\n",
       "  <tbody>\n",
       "    <tr>\n",
       "      <th>0</th>\n",
       "      <td>Closet Monster</td>\n",
       "      <td>2015</td>\n",
       "      <td>Buffy #1</td>\n",
       "      <td>actor</td>\n",
       "      <td>Buffy 4</td>\n",
       "      <td>NaN</td>\n",
       "    </tr>\n",
       "    <tr>\n",
       "      <th>1</th>\n",
       "      <td>Suuri illusioni</td>\n",
       "      <td>1985</td>\n",
       "      <td>Homo $</td>\n",
       "      <td>actor</td>\n",
       "      <td>Guests</td>\n",
       "      <td>22.0</td>\n",
       "    </tr>\n",
       "    <tr>\n",
       "      <th>2</th>\n",
       "      <td>Battle of the Sexes</td>\n",
       "      <td>2017</td>\n",
       "      <td>$hutter</td>\n",
       "      <td>actor</td>\n",
       "      <td>Bobby Riggs Fan</td>\n",
       "      <td>10.0</td>\n",
       "    </tr>\n",
       "    <tr>\n",
       "      <th>3</th>\n",
       "      <td>Secret in Their Eyes</td>\n",
       "      <td>2015</td>\n",
       "      <td>$hutter</td>\n",
       "      <td>actor</td>\n",
       "      <td>2002 Dodger Fan</td>\n",
       "      <td>NaN</td>\n",
       "    </tr>\n",
       "    <tr>\n",
       "      <th>4</th>\n",
       "      <td>Steve Jobs</td>\n",
       "      <td>2015</td>\n",
       "      <td>$hutter</td>\n",
       "      <td>actor</td>\n",
       "      <td>1988 Opera House Patron</td>\n",
       "      <td>NaN</td>\n",
       "    </tr>\n",
       "    <tr>\n",
       "      <th>...</th>\n",
       "      <td>...</td>\n",
       "      <td>...</td>\n",
       "      <td>...</td>\n",
       "      <td>...</td>\n",
       "      <td>...</td>\n",
       "      <td>...</td>\n",
       "    </tr>\n",
       "    <tr>\n",
       "      <th>3611207</th>\n",
       "      <td>Foxtrot</td>\n",
       "      <td>1988</td>\n",
       "      <td>Lilja ??risd?ttir</td>\n",
       "      <td>actress</td>\n",
       "      <td>D?ra</td>\n",
       "      <td>24.0</td>\n",
       "    </tr>\n",
       "    <tr>\n",
       "      <th>3611208</th>\n",
       "      <td>Niceland (Population. 1.000.002)</td>\n",
       "      <td>2004</td>\n",
       "      <td>Sigr??ur J?na ??risd?ttir</td>\n",
       "      <td>actress</td>\n",
       "      <td>Woman in Bus</td>\n",
       "      <td>26.0</td>\n",
       "    </tr>\n",
       "    <tr>\n",
       "      <th>3611209</th>\n",
       "      <td>Skammdegi</td>\n",
       "      <td>1985</td>\n",
       "      <td>Dalla ??r?ard?ttir</td>\n",
       "      <td>actress</td>\n",
       "      <td>Hj?krunarkona</td>\n",
       "      <td>9.0</td>\n",
       "    </tr>\n",
       "    <tr>\n",
       "      <th>3611210</th>\n",
       "      <td>U.S.S.S.S...</td>\n",
       "      <td>2003</td>\n",
       "      <td>Krist?n Andrea ??r?ard?ttir</td>\n",
       "      <td>actress</td>\n",
       "      <td>Afgr.dama ? bens?nst??</td>\n",
       "      <td>17.0</td>\n",
       "    </tr>\n",
       "    <tr>\n",
       "      <th>3611211</th>\n",
       "      <td>Bye Bye Blue Bird</td>\n",
       "      <td>1999</td>\n",
       "      <td>Rosa ? R?gvu</td>\n",
       "      <td>actress</td>\n",
       "      <td>Pensionatv?rtinde</td>\n",
       "      <td>NaN</td>\n",
       "    </tr>\n",
       "  </tbody>\n",
       "</table>\n",
       "<p>3611212 rows × 6 columns</p>\n",
       "</div>"
      ],
      "text/plain": [
       "                                    title  year                         name  \\\n",
       "0                          Closet Monster  2015                     Buffy #1   \n",
       "1                         Suuri illusioni  1985                       Homo $   \n",
       "2                     Battle of the Sexes  2017                      $hutter   \n",
       "3                    Secret in Their Eyes  2015                      $hutter   \n",
       "4                              Steve Jobs  2015                      $hutter   \n",
       "...                                   ...   ...                          ...   \n",
       "3611207                           Foxtrot  1988            Lilja ??risd?ttir   \n",
       "3611208  Niceland (Population. 1.000.002)  2004    Sigr??ur J?na ??risd?ttir   \n",
       "3611209                         Skammdegi  1985           Dalla ??r?ard?ttir   \n",
       "3611210                      U.S.S.S.S...  2003  Krist?n Andrea ??r?ard?ttir   \n",
       "3611211                 Bye Bye Blue Bird  1999                 Rosa ? R?gvu   \n",
       "\n",
       "            type                character     n  \n",
       "0          actor                  Buffy 4   NaN  \n",
       "1          actor                   Guests  22.0  \n",
       "2          actor          Bobby Riggs Fan  10.0  \n",
       "3          actor          2002 Dodger Fan   NaN  \n",
       "4          actor  1988 Opera House Patron   NaN  \n",
       "...          ...                      ...   ...  \n",
       "3611207  actress                     D?ra  24.0  \n",
       "3611208  actress             Woman in Bus  26.0  \n",
       "3611209  actress            Hj?krunarkona   9.0  \n",
       "3611210  actress   Afgr.dama ? bens?nst??  17.0  \n",
       "3611211  actress        Pensionatv?rtinde   NaN  \n",
       "\n",
       "[3611212 rows x 6 columns]"
      ]
     },
     "execution_count": 26,
     "metadata": {},
     "output_type": "execute_result"
    }
   ],
   "source": [
    "Movie_title  "
   ]
  },
  {
   "cell_type": "code",
   "execution_count": 27,
   "metadata": {},
   "outputs": [
    {
     "name": "stdout",
     "output_type": "stream",
     "text": [
      "title              6\n",
      "year               0\n",
      "name               0\n",
      "type               0\n",
      "character         14\n",
      "n            1379242\n",
      "dtype: int64\n"
     ]
    }
   ],
   "source": [
    "#To check for null values\n",
    "print(Movie_title.isnull().sum())"
   ]
  },
  {
   "cell_type": "code",
   "execution_count": 28,
   "metadata": {},
   "outputs": [],
   "source": [
    "Movie_title[\"title\"]=Movie_title[\"title\"].fillna(0)\n",
    "Movie_title[\"character\"]=Movie_title[\"character\"].fillna(0)\n",
    "Movie_title[\"n\"]=Movie_title[\"n\"].fillna(0)"
   ]
  },
  {
   "cell_type": "code",
   "execution_count": 29,
   "metadata": {},
   "outputs": [
    {
     "name": "stdout",
     "output_type": "stream",
     "text": [
      "title        0\n",
      "year         0\n",
      "name         0\n",
      "type         0\n",
      "character    0\n",
      "n            0\n",
      "dtype: int64\n"
     ]
    }
   ],
   "source": [
    "print(Movie_title.isnull().sum())"
   ]
  },
  {
   "cell_type": "code",
   "execution_count": 30,
   "metadata": {},
   "outputs": [
    {
     "name": "stdout",
     "output_type": "stream",
     "text": [
      "title         object\n",
      "year           int64\n",
      "name          object\n",
      "type          object\n",
      "character     object\n",
      "n            float64\n",
      "dtype: object\n"
     ]
    }
   ],
   "source": [
    "print(Movie_title.dtypes)"
   ]
  },
  {
   "cell_type": "markdown",
   "metadata": {
    "collapsed": true
   },
   "source": [
    "### How many movies are listed in the titles dataframe?"
   ]
  },
  {
   "cell_type": "code",
   "execution_count": 31,
   "metadata": {},
   "outputs": [
    {
     "data": {
      "text/plain": [
       "(3611212, 6)"
      ]
     },
     "execution_count": 31,
     "metadata": {},
     "output_type": "execute_result"
    }
   ],
   "source": [
    "Movie_title.shape"
   ]
  },
  {
   "cell_type": "code",
   "execution_count": 32,
   "metadata": {},
   "outputs": [],
   "source": [
    "#3611212 movies are listed in the titles dataframe"
   ]
  },
  {
   "cell_type": "markdown",
   "metadata": {
    "collapsed": true
   },
   "source": [
    "### What are the earliest two films listed in the titles dataframe?"
   ]
  },
  {
   "cell_type": "code",
   "execution_count": 33,
   "metadata": {},
   "outputs": [
    {
     "data": {
      "text/plain": [
       "year\n",
       "2016    178217\n",
       "2015    149596\n",
       "2014    147878\n",
       "2013    138976\n",
       "2012    133912\n",
       "         ...  \n",
       "1907         5\n",
       "1909         3\n",
       "1894         3\n",
       "1900         2\n",
       "1905         1\n",
       "Name: count, Length: 121, dtype: int64"
      ]
     },
     "execution_count": 33,
     "metadata": {},
     "output_type": "execute_result"
    }
   ],
   "source": [
    "Movie_title.year.value_counts()"
   ]
  },
  {
   "cell_type": "code",
   "execution_count": 34,
   "metadata": {},
   "outputs": [
    {
     "data": {
      "text/plain": [
       "array([2015, 1985, 2017, ..., 1985, 2003, 1999], dtype=int64)"
      ]
     },
     "execution_count": 34,
     "metadata": {},
     "output_type": "execute_result"
    }
   ],
   "source": [
    "import numpy as np\n",
    "yeardata=np.array(Movie_title[\"year\"])\n",
    "yeardata"
   ]
  },
  {
   "cell_type": "code",
   "execution_count": 35,
   "metadata": {},
   "outputs": [
    {
     "name": "stdout",
     "output_type": "stream",
     "text": [
      "1894\n"
     ]
    }
   ],
   "source": [
    "print(min(yeardata))\n",
    "#The earliest year movie was casted is 1894"
   ]
  },
  {
   "cell_type": "code",
   "execution_count": 36,
   "metadata": {},
   "outputs": [
    {
     "data": {
      "text/html": [
       "<div>\n",
       "<style scoped>\n",
       "    .dataframe tbody tr th:only-of-type {\n",
       "        vertical-align: middle;\n",
       "    }\n",
       "\n",
       "    .dataframe tbody tr th {\n",
       "        vertical-align: top;\n",
       "    }\n",
       "\n",
       "    .dataframe thead th {\n",
       "        text-align: right;\n",
       "    }\n",
       "</style>\n",
       "<table border=\"1\" class=\"dataframe\">\n",
       "  <thead>\n",
       "    <tr style=\"text-align: right;\">\n",
       "      <th></th>\n",
       "      <th>title</th>\n",
       "      <th>year</th>\n",
       "      <th>name</th>\n",
       "      <th>type</th>\n",
       "      <th>character</th>\n",
       "      <th>n</th>\n",
       "    </tr>\n",
       "  </thead>\n",
       "  <tbody>\n",
       "  </tbody>\n",
       "</table>\n",
       "</div>"
      ],
      "text/plain": [
       "Empty DataFrame\n",
       "Columns: [title, year, name, type, character, n]\n",
       "Index: []"
      ]
     },
     "execution_count": 36,
     "metadata": {},
     "output_type": "execute_result"
    }
   ],
   "source": [
    "Movie_title[Movie_title['year'] == '1894']"
   ]
  },
  {
   "cell_type": "code",
   "execution_count": 37,
   "metadata": {},
   "outputs": [
    {
     "data": {
      "text/plain": [
       "array([2015, 1985, 2017, 2009, 2014, 1998, 2000, 2016, 2010, 1997, 1977,\n",
       "       2013, 2011, 2007, 1993, 1963, 2001, 2008, 1971, 1978, 1975, 1996,\n",
       "       2005, 1992, 1995, 2006, 1914, 2002, 1994, 1957, 1960, 1958, 1984,\n",
       "       2012, 1969, 1976, 1956, 1970, 1953, 1982, 1986, 2003, 1983, 1999,\n",
       "       1931, 1968, 1987, 1989, 1980, 1988, 2019, 2018, 1950, 1954, 1948,\n",
       "       1917, 1935, 1932, 1927, 1938, 1942, 1921, 1918, 1944, 1955, 1952,\n",
       "       1945, 1981, 1939, 1940, 1949, 1947, 1943, 1991, 2004, 1962, 1979,\n",
       "       1930, 1973, 1961, 1933, 1964, 1990, 1946, 1965, 1923, 1974, 1967,\n",
       "       1936, 1929, 1972, 1966, 1959, 1926, 1951, 1941, 1937, 1934, 1922,\n",
       "       1928, 1920, 1919, 1915, 1925, 1916, 1924, 1913, 2020, 1912, 2023,\n",
       "       1911, 1910, 2022, 1908, 1909, 1906, 2021, 1894, 1905, 1907, 1900],\n",
       "      dtype=int64)"
      ]
     },
     "execution_count": 37,
     "metadata": {},
     "output_type": "execute_result"
    }
   ],
   "source": [
    "Movie_title[\"year\"].unique()"
   ]
  },
  {
   "cell_type": "code",
   "execution_count": 38,
   "metadata": {},
   "outputs": [
    {
     "name": "stdout",
     "output_type": "stream",
     "text": [
      "The number of movies made in the year 1894 are 3\n"
     ]
    }
   ],
   "source": [
    "no1894=np.count_nonzero(yeardata==1894)\n",
    "print(f\"The number of movies made in the year 1894 are {no1894}\")"
   ]
  },
  {
   "cell_type": "code",
   "execution_count": 39,
   "metadata": {},
   "outputs": [
    {
     "name": "stdout",
     "output_type": "stream",
     "text": [
      "Empty DataFrame\n",
      "Columns: [title, year, name, type, character, n]\n",
      "Index: []\n"
     ]
    }
   ],
   "source": [
    "early_movie=Movie_title[Movie_title['year']=='1894']\n",
    "print(early_movie)"
   ]
  },
  {
   "cell_type": "markdown",
   "metadata": {
    "collapsed": true
   },
   "source": [
    "### How many movies have the title \"Hamlet\"?"
   ]
  },
  {
   "cell_type": "code",
   "execution_count": 40,
   "metadata": {},
   "outputs": [
    {
     "name": "stdout",
     "output_type": "stream",
     "text": [
      "405 movies have the title 'Hamlet'.\n"
     ]
    }
   ],
   "source": [
    "count_Hamlet=Movie_title.applymap(lambda x:x==\"Hamlet\").sum().sum()\n",
    "print(f\"{count_Hamlet} movies have the title 'Hamlet'.\")"
   ]
  },
  {
   "cell_type": "markdown",
   "metadata": {
    "collapsed": true
   },
   "source": [
    "### How many movies are titled \"North by Northwest\"?"
   ]
  },
  {
   "cell_type": "code",
   "execution_count": 41,
   "metadata": {},
   "outputs": [
    {
     "name": "stdout",
     "output_type": "stream",
     "text": [
      "112 movies have the title 'North by Northwest'.\n"
     ]
    }
   ],
   "source": [
    "Count_North_by_Northwest=Movie_title.applymap(lambda x:x==\"North by Northwest\").sum().sum()\n",
    "print(f\"{Count_North_by_Northwest} movies have the title 'North by Northwest'.\")"
   ]
  },
  {
   "cell_type": "markdown",
   "metadata": {
    "collapsed": true
   },
   "source": [
    "### When was the first movie titled \"Hamlet\" made?"
   ]
  },
  {
   "cell_type": "code",
   "execution_count": 42,
   "metadata": {},
   "outputs": [
    {
     "name": "stdout",
     "output_type": "stream",
     "text": [
      "                 title  year          name   type              character     n\n",
      "1615            Hamlet  1996    Riz Abbasi  actor  Attendant to Claudius   1.0\n",
      "0       Closet Monster  2015      Buffy #1  actor                Buffy 4   0.0\n",
      "897089          Ritual  2002        Hamlet  actor                 Priest  21.0\n",
      "0       Closet Monster  2015      Buffy #1  actor                Buffy 4   0.0\n",
      "6003             Sugar  2008  Hamlet Abreu  actor                 Hamlet  58.0\n",
      "0       Closet Monster  2015      Buffy #1  actor                Buffy 4   0.0\n"
     ]
    }
   ],
   "source": [
    "first_H=Movie_title.applymap(lambda x:x==\"Hamlet\")\n",
    "first_index=first_H.apply(np.argmax,axis=0)\n",
    "first_occur_row=Movie_title.loc[first_index]\n",
    "print(first_occur_row)\n",
    "##The movie titled 'Hamlet'  was made in the year 1996"
   ]
  },
  {
   "cell_type": "code",
   "execution_count": 43,
   "metadata": {},
   "outputs": [
    {
     "data": {
      "text/html": [
       "<div>\n",
       "<style scoped>\n",
       "    .dataframe tbody tr th:only-of-type {\n",
       "        vertical-align: middle;\n",
       "    }\n",
       "\n",
       "    .dataframe tbody tr th {\n",
       "        vertical-align: top;\n",
       "    }\n",
       "\n",
       "    .dataframe thead th {\n",
       "        text-align: right;\n",
       "    }\n",
       "</style>\n",
       "<table border=\"1\" class=\"dataframe\">\n",
       "  <thead>\n",
       "    <tr style=\"text-align: right;\">\n",
       "      <th></th>\n",
       "      <th>title</th>\n",
       "      <th>year</th>\n",
       "      <th>name</th>\n",
       "      <th>type</th>\n",
       "      <th>character</th>\n",
       "      <th>n</th>\n",
       "    </tr>\n",
       "  </thead>\n",
       "  <tbody>\n",
       "    <tr>\n",
       "      <th>1615</th>\n",
       "      <td>Hamlet</td>\n",
       "      <td>1996</td>\n",
       "      <td>Riz Abbasi</td>\n",
       "      <td>actor</td>\n",
       "      <td>Attendant to Claudius</td>\n",
       "      <td>1.0</td>\n",
       "    </tr>\n",
       "    <tr>\n",
       "      <th>1</th>\n",
       "      <td>Suuri illusioni</td>\n",
       "      <td>1985</td>\n",
       "      <td>Homo $</td>\n",
       "      <td>actor</td>\n",
       "      <td>Guests</td>\n",
       "      <td>22.0</td>\n",
       "    </tr>\n",
       "  </tbody>\n",
       "</table>\n",
       "</div>"
      ],
      "text/plain": [
       "                title  year        name   type              character     n\n",
       "1615           Hamlet  1996  Riz Abbasi  actor  Attendant to Claudius   1.0\n",
       "1     Suuri illusioni  1985      Homo $  actor                 Guests  22.0"
      ]
     },
     "execution_count": 43,
     "metadata": {},
     "output_type": "execute_result"
    }
   ],
   "source": [
    "#checking if Hamlet is present in the location 1615\n",
    "Movie_title.iloc[[1615,1]]"
   ]
  },
  {
   "cell_type": "markdown",
   "metadata": {
    "collapsed": true
   },
   "source": [
    "### List all of the \"Treasure Island\" movies from earliest to most recent."
   ]
  },
  {
   "cell_type": "code",
   "execution_count": 44,
   "metadata": {},
   "outputs": [
    {
     "data": {
      "text/html": [
       "<div>\n",
       "<style scoped>\n",
       "    .dataframe tbody tr th:only-of-type {\n",
       "        vertical-align: middle;\n",
       "    }\n",
       "\n",
       "    .dataframe tbody tr th {\n",
       "        vertical-align: top;\n",
       "    }\n",
       "\n",
       "    .dataframe thead th {\n",
       "        text-align: right;\n",
       "    }\n",
       "</style>\n",
       "<table border=\"1\" class=\"dataframe\">\n",
       "  <thead>\n",
       "    <tr style=\"text-align: right;\">\n",
       "      <th></th>\n",
       "      <th>title</th>\n",
       "      <th>year</th>\n",
       "      <th>name</th>\n",
       "      <th>type</th>\n",
       "      <th>character</th>\n",
       "      <th>n</th>\n",
       "    </tr>\n",
       "  </thead>\n",
       "  <tbody>\n",
       "    <tr>\n",
       "      <th>9432</th>\n",
       "      <td>Treasure Island</td>\n",
       "      <td>1934</td>\n",
       "      <td>Robert Adair</td>\n",
       "      <td>actor</td>\n",
       "      <td>Tom - Seaman</td>\n",
       "      <td>0.0</td>\n",
       "    </tr>\n",
       "    <tr>\n",
       "      <th>13253</th>\n",
       "      <td>Treasure Island</td>\n",
       "      <td>1950</td>\n",
       "      <td>Chris Adcock</td>\n",
       "      <td>actor</td>\n",
       "      <td>Pike</td>\n",
       "      <td>26.0</td>\n",
       "    </tr>\n",
       "    <tr>\n",
       "      <th>16246</th>\n",
       "      <td>Treasure Island</td>\n",
       "      <td>1985</td>\n",
       "      <td>Yves Afonso</td>\n",
       "      <td>actor</td>\n",
       "      <td>French captain</td>\n",
       "      <td>8.0</td>\n",
       "    </tr>\n",
       "    <tr>\n",
       "      <th>42039</th>\n",
       "      <td>Treasure Island</td>\n",
       "      <td>1972</td>\n",
       "      <td>Cristino Almod?var</td>\n",
       "      <td>actor</td>\n",
       "      <td>O'Brien</td>\n",
       "      <td>16.0</td>\n",
       "    </tr>\n",
       "    <tr>\n",
       "      <th>55071</th>\n",
       "      <td>Treasure Island</td>\n",
       "      <td>1934</td>\n",
       "      <td>John (XII) Anderson</td>\n",
       "      <td>actor</td>\n",
       "      <td>Pirate of the Spanish Main</td>\n",
       "      <td>18.0</td>\n",
       "    </tr>\n",
       "    <tr>\n",
       "      <th>...</th>\n",
       "      <td>...</td>\n",
       "      <td>...</td>\n",
       "      <td>...</td>\n",
       "      <td>...</td>\n",
       "      <td>...</td>\n",
       "      <td>...</td>\n",
       "    </tr>\n",
       "    <tr>\n",
       "      <th>3415912</th>\n",
       "      <td>Treasure Island</td>\n",
       "      <td>1999</td>\n",
       "      <td>Rachel Singer</td>\n",
       "      <td>actress</td>\n",
       "      <td>Anna</td>\n",
       "      <td>6.0</td>\n",
       "    </tr>\n",
       "    <tr>\n",
       "      <th>3471316</th>\n",
       "      <td>Treasure Island</td>\n",
       "      <td>1934</td>\n",
       "      <td>Jane Talent</td>\n",
       "      <td>actress</td>\n",
       "      <td>Streetwalker</td>\n",
       "      <td>0.0</td>\n",
       "    </tr>\n",
       "    <tr>\n",
       "      <th>3507587</th>\n",
       "      <td>Treasure Island</td>\n",
       "      <td>1999</td>\n",
       "      <td>Guinevere Turner</td>\n",
       "      <td>actress</td>\n",
       "      <td>Evelyn</td>\n",
       "      <td>14.0</td>\n",
       "    </tr>\n",
       "    <tr>\n",
       "      <th>3553298</th>\n",
       "      <td>Treasure Island</td>\n",
       "      <td>1918</td>\n",
       "      <td>Eleanor Washington</td>\n",
       "      <td>actress</td>\n",
       "      <td>Prologue Player</td>\n",
       "      <td>0.0</td>\n",
       "    </tr>\n",
       "    <tr>\n",
       "      <th>3556764</th>\n",
       "      <td>Treasure Island</td>\n",
       "      <td>1973</td>\n",
       "      <td>Jane Webb</td>\n",
       "      <td>actress</td>\n",
       "      <td>Mrs. Hawkins</td>\n",
       "      <td>6.0</td>\n",
       "    </tr>\n",
       "  </tbody>\n",
       "</table>\n",
       "<p>190 rows × 6 columns</p>\n",
       "</div>"
      ],
      "text/plain": [
       "                   title  year                 name     type  \\\n",
       "9432     Treasure Island  1934         Robert Adair    actor   \n",
       "13253    Treasure Island  1950         Chris Adcock    actor   \n",
       "16246    Treasure Island  1985          Yves Afonso    actor   \n",
       "42039    Treasure Island  1972   Cristino Almod?var    actor   \n",
       "55071    Treasure Island  1934  John (XII) Anderson    actor   \n",
       "...                  ...   ...                  ...      ...   \n",
       "3415912  Treasure Island  1999        Rachel Singer  actress   \n",
       "3471316  Treasure Island  1934          Jane Talent  actress   \n",
       "3507587  Treasure Island  1999     Guinevere Turner  actress   \n",
       "3553298  Treasure Island  1918   Eleanor Washington  actress   \n",
       "3556764  Treasure Island  1973            Jane Webb  actress   \n",
       "\n",
       "                          character     n  \n",
       "9432                   Tom - Seaman   0.0  \n",
       "13253                          Pike  26.0  \n",
       "16246                French captain   8.0  \n",
       "42039                       O'Brien  16.0  \n",
       "55071    Pirate of the Spanish Main  18.0  \n",
       "...                             ...   ...  \n",
       "3415912                        Anna   6.0  \n",
       "3471316                Streetwalker   0.0  \n",
       "3507587                      Evelyn  14.0  \n",
       "3553298             Prologue Player   0.0  \n",
       "3556764                Mrs. Hawkins   6.0  \n",
       "\n",
       "[190 rows x 6 columns]"
      ]
     },
     "execution_count": 44,
     "metadata": {},
     "output_type": "execute_result"
    }
   ],
   "source": [
    "Movie_title[Movie_title['title'].isin(['Treasure Island'])]"
   ]
  },
  {
   "cell_type": "markdown",
   "metadata": {
    "collapsed": true
   },
   "source": [
    "### How many movies were made in the year 1950?"
   ]
  },
  {
   "cell_type": "code",
   "execution_count": 45,
   "metadata": {},
   "outputs": [
    {
     "name": "stdout",
     "output_type": "stream",
     "text": [
      "[2015 1985 2017 ... 1985 2003 1999]\n",
      "3611212\n",
      "The number of movies made in the year 1950 are 22006\n"
     ]
    }
   ],
   "source": [
    "print(yeardata)\n",
    "print(len(yeardata))\n",
    "no1950=np.count_nonzero(yeardata==1950)\n",
    "print(f\"The number of movies made in the year 1950 are {no1950}\")"
   ]
  },
  {
   "cell_type": "markdown",
   "metadata": {
    "collapsed": true
   },
   "source": [
    "### How many movies were made in the year 1960?"
   ]
  },
  {
   "cell_type": "code",
   "execution_count": 46,
   "metadata": {},
   "outputs": [
    {
     "name": "stdout",
     "output_type": "stream",
     "text": [
      "The number of movies made in the year 1960 are 18456.\n"
     ]
    }
   ],
   "source": [
    "no1960=np.count_nonzero(yeardata==1960)\n",
    "print(f\"The number of movies made in the year 1960 are {no1960}.\")"
   ]
  },
  {
   "cell_type": "markdown",
   "metadata": {
    "collapsed": true
   },
   "source": [
    "### How many movies were made from 1950 through 1959?"
   ]
  },
  {
   "cell_type": "code",
   "execution_count": 47,
   "metadata": {},
   "outputs": [
    {
     "name": "stdout",
     "output_type": "stream",
     "text": [
      "[1959. 1958. 1957. 1956. 1955. 1954. 1953. 1952. 1951. 1950.]\n",
      "The number of movies made from 1950 through 1959 are 10.\n"
     ]
    }
   ],
   "source": [
    "list1=[]\n",
    "for y in range(len(yeardata)):\n",
    "    if y<1960 and y>1949:\n",
    "        list1=np.append(y,list1)\n",
    "print(list1)        \n",
    "l=len(list1)\n",
    "print(f\"The number of movies made from 1950 through 1959 are {l}.\")"
   ]
  },
  {
   "cell_type": "markdown",
   "metadata": {
    "collapsed": true
   },
   "source": [
    "### In what years has a movie titled \"Batman\" been released?"
   ]
  },
  {
   "cell_type": "code",
   "execution_count": 48,
   "metadata": {},
   "outputs": [
    {
     "name": "stdout",
     "output_type": "stream",
     "text": [
      "                       title  year          name   type    character    n\n",
      "95672                 Batman  1943  Frank Austin  actor  Hotel Clerk  0.0\n",
      "0             Closet Monster  2015      Buffy #1  actor      Buffy 4  0.0\n",
      "0             Closet Monster  2015      Buffy #1  actor      Buffy 4  0.0\n",
      "0             Closet Monster  2015      Buffy #1  actor      Buffy 4  0.0\n",
      "1026   Batman Fights Dracula  1967   Jing Abalos  actor       Batman  1.0\n",
      "0             Closet Monster  2015      Buffy #1  actor      Buffy 4  0.0\n"
     ]
    }
   ],
   "source": [
    "Batman_year=Movie_title.applymap(lambda x:x==\"Batman\")\n",
    "first_bat=Batman_year.apply(np.argmax,axis=0)\n",
    "first_bat_row=Movie_title.loc[first_bat]\n",
    "print(first_bat_row)\n",
    "\n",
    "##Batman movie was first released in the year 1943"
   ]
  },
  {
   "cell_type": "markdown",
   "metadata": {
    "collapsed": true
   },
   "source": [
    "### How many roles were there in the movie \"Inception\"?"
   ]
  },
  {
   "cell_type": "code",
   "execution_count": 49,
   "metadata": {},
   "outputs": [
    {
     "name": "stdout",
     "output_type": "stream",
     "text": [
      "                title  year                  name   type      character    n\n",
      "94333       Inception  2010  Michael (III) August  actor  LAX Passenger  0.0\n",
      "0      Closet Monster  2015              Buffy #1  actor        Buffy 4  0.0\n",
      "0      Closet Monster  2015              Buffy #1  actor        Buffy 4  0.0\n",
      "0      Closet Monster  2015              Buffy #1  actor        Buffy 4  0.0\n",
      "0      Closet Monster  2015              Buffy #1  actor        Buffy 4  0.0\n",
      "0      Closet Monster  2015              Buffy #1  actor        Buffy 4  0.0\n"
     ]
    }
   ],
   "source": [
    "Incept_role=Movie_title.applymap(lambda x:x==\"Inception\")\n",
    "Incept_index=Incept_role.apply(np.argmax,axis=0)\n",
    "Incept=Movie_title.loc[Incept_index]\n",
    "print(Incept)\n",
    "\n",
    "##Number of characters in the movie inception  is 1. "
   ]
  },
  {
   "cell_type": "code",
   "execution_count": 50,
   "metadata": {},
   "outputs": [
    {
     "data": {
      "text/plain": [
       "title                   Inception\n",
       "year                         2010\n",
       "name         Michael (III) August\n",
       "type                        actor\n",
       "character           LAX Passenger\n",
       "n                             0.0\n",
       "Name: 94333, dtype: object"
      ]
     },
     "execution_count": 50,
     "metadata": {},
     "output_type": "execute_result"
    }
   ],
   "source": [
    "#checking if it is in the location\n",
    "Movie_title.iloc[94333]"
   ]
  },
  {
   "cell_type": "markdown",
   "metadata": {
    "collapsed": true
   },
   "source": [
    "### How many roles in the movie \"Inception\" are NOT ranked by an \"n\" value?"
   ]
  },
  {
   "cell_type": "code",
   "execution_count": 51,
   "metadata": {},
   "outputs": [
    {
     "name": "stdout",
     "output_type": "stream",
     "text": [
      "             title  year                  name     type  \\\n",
      "94333    Inception  2010  Michael (III) August    actor   \n",
      "143138   Inception  2010          Peter Basham    actor   \n",
      "176819   Inception  2010          Tom Berenger    actor   \n",
      "190249   Inception  2010              Ken Bhan    actor   \n",
      "250191   Inception  2010        Virgile Bramly    actor   \n",
      "...            ...   ...                   ...      ...   \n",
      "3238950  Inception  2010            Ellen Page  actress   \n",
      "3292669  Inception  2010        Nicole Pulliam  actress   \n",
      "3319073  Inception  2010    Lisa (II) Reynolds  actress   \n",
      "3325768  Inception  2010         Talulah Riley  actress   \n",
      "3560127  Inception  2010        Shannon Welles  actress   \n",
      "\n",
      "                     character     n  \n",
      "94333            LAX Passenger   0.0  \n",
      "143138   Fischer's Jet Captain  44.0  \n",
      "176819                Browning   8.0  \n",
      "190249        Mombasan Gambler   0.0  \n",
      "250191          Bridge Sub Con  29.0  \n",
      "...                        ...   ...  \n",
      "3238950                Ariadne   3.0  \n",
      "3292669          Lobby Sub Con  43.0  \n",
      "3319073          Private Nurse  48.0  \n",
      "3325768                 Blonde  25.0  \n",
      "3560127                Old Mal  51.0  \n",
      "\n",
      "[77 rows x 6 columns]\n"
     ]
    }
   ],
   "source": [
    "Incept_data=Movie_title[Movie_title['title'].isin(['Inception'])]\n",
    "print(Incept_data)"
   ]
  },
  {
   "cell_type": "code",
   "execution_count": 52,
   "metadata": {},
   "outputs": [
    {
     "name": "stdout",
     "output_type": "stream",
     "text": [
      "77 movies are having the title 'Inception'.\n",
      "26 number of roles are not having the 'n' value\n"
     ]
    }
   ],
   "source": [
    "n=np.array(Incept_data['n'])\n",
    "inceptlen=len(n)\n",
    "print(f\"{inceptlen} movies are having the title 'Inception'.\")\n",
    "ncount=np.count_nonzero(n==0.0)   \n",
    "print(f\"{ncount} number of roles are not having the 'n' value\")"
   ]
  },
  {
   "cell_type": "markdown",
   "metadata": {
    "collapsed": true
   },
   "source": [
    "### But how many roles in the movie \"Inception\" did receive an \"n\" value?"
   ]
  },
  {
   "cell_type": "code",
   "execution_count": 13,
   "metadata": {},
   "outputs": [],
   "source": [
    "#It will be 77-26 which is 51."
   ]
  },
  {
   "cell_type": "markdown",
   "metadata": {
    "collapsed": true
   },
   "source": [
    "### Display the cast of \"North by Northwest\" in their correct \"n\"-value order, ignoring roles that did not earn a numeric \"n\" value."
   ]
  },
  {
   "cell_type": "code",
   "execution_count": 53,
   "metadata": {},
   "outputs": [
    {
     "name": "stdout",
     "output_type": "stream",
     "text": [
      "                      title  year               name     type  \\\n",
      "12151    North by Northwest  1959      Stanley Adams    actor   \n",
      "27852    North by Northwest  1959         Andy Albin    actor   \n",
      "54093    North by Northwest  1959       Don Anderson    actor   \n",
      "54307    North by Northwest  1959    Ernest Anderson    actor   \n",
      "92195    North by Northwest  1959  Malcolm Atterbury    actor   \n",
      "...                     ...   ...                ...      ...   \n",
      "3361396  North by Northwest  1959    Eva Marie Saint  actress   \n",
      "3416124  North by Northwest  1959        Doris Singh  actress   \n",
      "3437248  North by Northwest  1959       Helen Spring  actress   \n",
      "3567500  North by Northwest  1959      Susan Whitney  actress   \n",
      "3578877  North by Northwest  1959     Paula Winslowe  actress   \n",
      "\n",
      "                                 character    n  \n",
      "12151                   Lieutenant Harding  0.0  \n",
      "27852                               Farmer  0.0  \n",
      "54093                               Worker  0.0  \n",
      "54307     Porter on Twentieth Century Ltd.  0.0  \n",
      "92195              Man at Prairie Crossing  0.0  \n",
      "...                                    ...  ...  \n",
      "3361396                        Eve Kendall  2.0  \n",
      "3416124  First United Nations Receptionist  0.0  \n",
      "3437248                             Bidder  0.0  \n",
      "3567500                          Attendant  0.0  \n",
      "3578877                   Woman at Auction  0.0  \n",
      "\n",
      "[112 rows x 6 columns]\n"
     ]
    }
   ],
   "source": [
    "North_by_Northwest=Movie_title[Movie_title['title'].isin(['North by Northwest'])]\n",
    "print(North_by_Northwest)"
   ]
  },
  {
   "cell_type": "code",
   "execution_count": null,
   "metadata": {},
   "outputs": [],
   "source": []
  },
  {
   "cell_type": "markdown",
   "metadata": {
    "collapsed": true
   },
   "source": [
    "### Display the entire cast, in \"n\"-order, of the 1972 film \"Sleuth\"."
   ]
  },
  {
   "cell_type": "code",
   "execution_count": 54,
   "metadata": {},
   "outputs": [
    {
     "name": "stdout",
     "output_type": "stream",
     "text": [
      "[ 0.  0.  0.  0.  0.  0.  0.  0.  0.  0.  0. 15.  0.  5.  0.  0.  0.  0.\n",
      " 13.  0.  0.  0.  0.  0.  0.  0. 11.  0.  0.  0.  0.  0.  1.  0.  0.  0.\n",
      "  0.  0.  0.  0.  0.  0.  0.  0.  0.  0.  8.  0.  0.  0. 16.  0.  0.  0.\n",
      "  3.  0. 14.  0.  0.  0.  0.  0.  7. 10.  0.  0.  0.  0.  0.  0.  0.  0.\n",
      "  0.  0.  0.  0.  0.  0.  0.  0.  0.  0.  0. 12.  0.  0.  0.  9.  0.  0.\n",
      "  0.  0.  0.  0.  0.  0.  0.  0.  0.  0.  6.  0.  4.  0.  0.  0.  0.  2.\n",
      "  0.  0.  0.  0.]\n"
     ]
    }
   ],
   "source": [
    "#Convert n into an array\n",
    "NbN=np.array(North_by_Northwest['n'])\n",
    "print(NbN)"
   ]
  },
  {
   "cell_type": "code",
   "execution_count": 55,
   "metadata": {},
   "outputs": [
    {
     "name": "stdout",
     "output_type": "stream",
     "text": [
      "The number of movies having 'n' values are 16\n",
      "[ 2.  4.  6.  9. 12. 10.  7. 14.  3. 16.  8.  1. 11. 13.  5. 15.]\n"
     ]
    }
   ],
   "source": [
    "NN=[]\n",
    "for i in range(len(NbN)):\n",
    "    if NbN[i]>0:\n",
    "        NN=np.append(NbN[i],NN)\n",
    "lenNN=len(NN)        \n",
    "print(f\"The number of movies having 'n' values are {lenNN}\")        \n",
    "print(NN)"
   ]
  },
  {
   "cell_type": "code",
   "execution_count": 56,
   "metadata": {},
   "outputs": [
    {
     "name": "stdout",
     "output_type": "stream",
     "text": [
      "[(840374, 'n')]\n"
     ]
    }
   ],
   "source": [
    "loc=North_by_Northwest[North_by_Northwest==1].stack().index.tolist()\n",
    "print(loc)"
   ]
  },
  {
   "cell_type": "code",
   "execution_count": 57,
   "metadata": {},
   "outputs": [
    {
     "data": {
      "text/plain": [
       "title        North by Northwest\n",
       "year                       1959\n",
       "name                 Cary Grant\n",
       "type                      actor\n",
       "character    Roger O. Thornhill\n",
       "n                           1.0\n",
       "Name: 840374, dtype: object"
      ]
     },
     "execution_count": 57,
     "metadata": {},
     "output_type": "execute_result"
    }
   ],
   "source": [
    "North_by_Northwest.loc[840374]"
   ]
  },
  {
   "cell_type": "markdown",
   "metadata": {
    "collapsed": true
   },
   "source": [
    "### Now display the entire cast, in \"n\"-order, of the 2007 version of \"Sleuth\"."
   ]
  },
  {
   "cell_type": "code",
   "execution_count": 58,
   "metadata": {},
   "outputs": [
    {
     "name": "stdout",
     "output_type": "stream",
     "text": [
      "                                    title  year                  name   type  \\\n",
      "665149   C.O.O.L.I.O Time Travel Gangster  2014     Nathan (XV) Evans  actor   \n",
      "1164226                          Zeta One  1969           Steve Kirby  actor   \n",
      "1363119             Andzamb tchanachum em  1958              P. Malek  actor   \n",
      "1654211                  Darmozjad polski  1998  Slawomir Orzechowski  actor   \n",
      "1865676                   American Yakuza  1993         Scott Roberts  actor   \n",
      "1865679                       No Way Back  1995         Scott Roberts  actor   \n",
      "2424344                    Przyspieszenie  1985      Andrzej Zarnecki  actor   \n",
      "\n",
      "        character     n  \n",
      "665149     Sleuth   0.0  \n",
      "1164226    Sleuth  13.0  \n",
      "1363119    Sleuth  17.0  \n",
      "1654211    Sleuth   8.0  \n",
      "1865676    Sleuth   0.0  \n",
      "1865679    Sleuth   0.0  \n",
      "2424344    Sleuth   0.0  \n"
     ]
    }
   ],
   "source": [
    "Sleuth_data=Movie_title[Movie_title['character'].isin(['Sleuth'])]\n",
    "print(Sleuth_data)"
   ]
  },
  {
   "cell_type": "code",
   "execution_count": 59,
   "metadata": {},
   "outputs": [
    {
     "data": {
      "text/plain": [
       "(7, 6)"
      ]
     },
     "execution_count": 59,
     "metadata": {},
     "output_type": "execute_result"
    }
   ],
   "source": [
    "Sleuth_data.shape"
   ]
  },
  {
   "cell_type": "markdown",
   "metadata": {
    "collapsed": true
   },
   "source": [
    "### How many roles were credited in the silent 1921 version of Hamlet?"
   ]
  },
  {
   "cell_type": "code",
   "execution_count": null,
   "metadata": {
    "collapsed": true
   },
   "outputs": [],
   "source": []
  },
  {
   "cell_type": "markdown",
   "metadata": {
    "collapsed": true
   },
   "source": [
    "### How many roles were credited in Branagh’s 1996 Hamlet?"
   ]
  },
  {
   "cell_type": "code",
   "execution_count": 61,
   "metadata": {},
   "outputs": [
    {
     "name": "stdout",
     "output_type": "stream",
     "text": [
      "Empty DataFrame\n",
      "Columns: [title, year, name, type, character, n]\n",
      "Index: []\n"
     ]
    }
   ],
   "source": [
    "Bran_Ham_role=Movie_title[Movie_title['character'].isin(['Branagh'])]\n",
    "print(Bran_Ham_role)\n"
   ]
  },
  {
   "cell_type": "markdown",
   "metadata": {
    "collapsed": true
   },
   "source": [
    "### How many \"Hamlet\" roles have been listed in all film credits through history?"
   ]
  },
  {
   "cell_type": "code",
   "execution_count": 62,
   "metadata": {},
   "outputs": [
    {
     "name": "stdout",
     "output_type": "stream",
     "text": [
      "                                 title  year               name     type  \\\n",
      "6003                             Sugar  2008       Hamlet Abreu    actor   \n",
      "94018                  Top of the Town  1937        Mischa Auer    actor   \n",
      "120093             The Sound of Spying  2014      Jonathan Ball    actor   \n",
      "154451                Suivez cet avion  1989  Fran?ois Beaulieu    actor   \n",
      "154754          Nous sommes les autres  2017       Marc Beaupr?    actor   \n",
      "...                                ...   ...                ...      ...   \n",
      "2517189                       Hamlet_X  2003       Meret Becker  actress   \n",
      "2622924  Bill Shakespeare in Hollywood  2011    Rafika Chawishe  actress   \n",
      "2825750    Intikam Melegi/Kadin Hamlet  1976        Fatma Girik  actress   \n",
      "3209199                         Hamlet  1921       Asta Nielsen  actress   \n",
      "3256505                         Hamlet  2015       Maxine Peake  actress   \n",
      "\n",
      "        character     n  \n",
      "6003       Hamlet  58.0  \n",
      "94018      Hamlet   6.0  \n",
      "120093     Hamlet   0.0  \n",
      "154451     Hamlet  26.0  \n",
      "154754     Hamlet   0.0  \n",
      "...           ...   ...  \n",
      "2517189    Hamlet   0.0  \n",
      "2622924    Hamlet   0.0  \n",
      "2825750    Hamlet   1.0  \n",
      "3209199    Hamlet   1.0  \n",
      "3256505    Hamlet   1.0  \n",
      "\n",
      "[91 rows x 6 columns]\n"
     ]
    }
   ],
   "source": [
    "Ham_role=Movie_title[Movie_title['character'].isin(['Hamlet'])]\n",
    "print(Ham_role)\n"
   ]
  },
  {
   "cell_type": "code",
   "execution_count": null,
   "metadata": {
    "collapsed": true
   },
   "outputs": [],
   "source": [
    "# 91 Hamlet roles have been listed through the history."
   ]
  },
  {
   "cell_type": "markdown",
   "metadata": {
    "collapsed": true
   },
   "source": [
    "### How many people have played an \"Ophelia\"?"
   ]
  },
  {
   "cell_type": "code",
   "execution_count": 63,
   "metadata": {},
   "outputs": [
    {
     "name": "stdout",
     "output_type": "stream",
     "text": [
      "                                   title  year                  name     type  \\\n",
      "238855        The Merry Maids of Madness  2016           Amy Bourque    actor   \n",
      "395196                    Jake Gets Paid  2009        Josie Chisholm    actor   \n",
      "453835                        Inoperable  2016       Crystal Cordero    actor   \n",
      "835461   Dogg's Hamlet, Cahoot's Macbeth  2005         Lucas Grabeel    actor   \n",
      "1315145                               11  2014   Catherine (IV) Lord    actor   \n",
      "...                                  ...   ...                   ...      ...   \n",
      "3538349         Hamlet, Son of a Kingpin  2015        Ingrid Vollset  actress   \n",
      "3551691                         D.C. Cab  1983       Marsha Warfield  actress   \n",
      "3552384                         Creature  2011  Jennifer Lynn Warren  actress   \n",
      "3562331                           Hamlet  2015       Katie (II) West  actress   \n",
      "3578802                           Hamlet  1996          Kate Winslet  actress   \n",
      "\n",
      "        character     n  \n",
      "238855    Ophelia  11.0  \n",
      "395196    Ophelia   0.0  \n",
      "453835    Ophelia   0.0  \n",
      "835461    Ophelia   0.0  \n",
      "1315145   Ophelia   0.0  \n",
      "...           ...   ...  \n",
      "3538349   Ophelia   0.0  \n",
      "3551691   Ophelia   7.0  \n",
      "3552384   Ophelia  12.0  \n",
      "3562331   Ophelia   7.0  \n",
      "3578802   Ophelia  46.0  \n",
      "\n",
      "[111 rows x 6 columns]\n"
     ]
    }
   ],
   "source": [
    "Opel=Movie_title[Movie_title['character'].isin(['Ophelia'])]\n",
    "print(Opel)\n"
   ]
  },
  {
   "cell_type": "code",
   "execution_count": null,
   "metadata": {
    "collapsed": true
   },
   "outputs": [],
   "source": [
    "# 111 people have played the Ophelia."
   ]
  },
  {
   "cell_type": "markdown",
   "metadata": {
    "collapsed": true
   },
   "source": [
    "### How many people have played a role called \"The Dude\"?"
   ]
  },
  {
   "cell_type": "code",
   "execution_count": 64,
   "metadata": {},
   "outputs": [
    {
     "name": "stdout",
     "output_type": "stream",
     "text": [
      "                                  title  year                  name   type  \\\n",
      "261792                 The Big Lebowski  1998          Jeff Bridges  actor   \n",
      "326893               Terms & Conditions  2015           Jordan Cann  actor   \n",
      "480810                         Stranger  2000         Scott Crowell  actor   \n",
      "549887           Pizza Man vs. the Dude  2004        Chris DeMarcus  actor   \n",
      "588962                      Sweepstakes  1931           Mike Donlin  actor   \n",
      "607151                    Self Helpless  2010        Devin The Dude  actor   \n",
      "1051244  Jay and Silent Bob Strike Back  2001   Matthew (XIX) James  actor   \n",
      "1098711                   Explicit Ills  2008    Christopher Kadish  actor   \n",
      "1317786                 American Idiots  2013      Jason Loughridge  actor   \n",
      "1336484             The Winds of Autumn  1976           Steve Lyons  actor   \n",
      "1458465                         The Liq  2016        Mark Alan Meek  actor   \n",
      "1485772                  Wild Oats Lane  1926           Jerry Miley  actor   \n",
      "1720449               Oklahoma Badlands  1948      House Peters Jr.  actor   \n",
      "1759296            Cloud Air: The Movie  2013  Thomas (VIII) Porter  actor   \n",
      "1772919                           Hacks  1997       Jason Priestley  actor   \n",
      "2122519         Carlos Spills the Beans  2012          Bobby Styles  actor   \n",
      "2250949                       Zachariah  1971       Dick Van Patten  actor   \n",
      "2330925              It Can Be Arranged  2010            Joel Weiss  actor   \n",
      "\n",
      "        character     n  \n",
      "261792   The Dude   1.0  \n",
      "326893   The Dude   9.0  \n",
      "480810   The Dude   0.0  \n",
      "549887   The Dude   0.0  \n",
      "588962   The Dude  12.0  \n",
      "607151   The Dude   0.0  \n",
      "1051244  The Dude  37.0  \n",
      "1098711  The Dude  27.0  \n",
      "1317786  The Dude  10.0  \n",
      "1336484  The Dude  30.0  \n",
      "1458465  The Dude   0.0  \n",
      "1485772  The Dude   6.0  \n",
      "1720449  The Dude  13.0  \n",
      "1759296  The Dude   8.0  \n",
      "1772919  The Dude  11.0  \n",
      "2122519  The Dude   0.0  \n",
      "2250949  The Dude   9.0  \n",
      "2330925  The Dude   0.0  \n"
     ]
    }
   ],
   "source": [
    "TheDude=Movie_title[Movie_title['character'].isin(['The Dude'])]\n",
    "print(TheDude)\n"
   ]
  },
  {
   "cell_type": "code",
   "execution_count": 65,
   "metadata": {},
   "outputs": [
    {
     "name": "stdout",
     "output_type": "stream",
     "text": [
      "<class 'pandas.core.frame.DataFrame'>\n",
      "Index: 18 entries, 261792 to 2330925\n",
      "Data columns (total 6 columns):\n",
      " #   Column     Non-Null Count  Dtype  \n",
      "---  ------     --------------  -----  \n",
      " 0   title      18 non-null     object \n",
      " 1   year       18 non-null     int64  \n",
      " 2   name       18 non-null     object \n",
      " 3   type       18 non-null     object \n",
      " 4   character  18 non-null     object \n",
      " 5   n          18 non-null     float64\n",
      "dtypes: float64(1), int64(1), object(4)\n",
      "memory usage: 1008.0+ bytes\n"
     ]
    }
   ],
   "source": [
    "TheDude.info()"
   ]
  },
  {
   "cell_type": "code",
   "execution_count": null,
   "metadata": {},
   "outputs": [],
   "source": [
    "#The number of people that played the role 'The Dude' are 18"
   ]
  },
  {
   "cell_type": "markdown",
   "metadata": {
    "collapsed": true
   },
   "source": [
    "### How many people have played a role called \"The Stranger\"?"
   ]
  },
  {
   "cell_type": "code",
   "execution_count": 66,
   "metadata": {},
   "outputs": [
    {
     "name": "stdout",
     "output_type": "stream",
     "text": [
      "                            title  year                       name     type  \\\n",
      "24819                       Theeb  2014  Hassan Mutlag Al-Maraiyeh    actor   \n",
      "34302              My Time to Die  2014       Vincent H. Alexander    actor   \n",
      "64774                    Get Mean  1975               Tony Anthony    actor   \n",
      "64777    Lo straniero di silenzio  1968               Tony Anthony    actor   \n",
      "64779      Un dollaro tra i denti  1967               Tony Anthony    actor   \n",
      "...                           ...   ...                        ...      ...   \n",
      "3068419              The Stranger  1995                 Kathy Long  actress   \n",
      "3081837            Ever Since Eve  1921                Ethel Lynne  actress   \n",
      "3256243              Weitertanzen  2008             Rosa Maria Paz  actress   \n",
      "3276867               The Godsend  1980           Angela Pleasence  actress   \n",
      "3407234                Motherland  1927            Dorinea Shirley  actress   \n",
      "\n",
      "            character    n  \n",
      "24819    The Stranger  3.0  \n",
      "34302    The Stranger  2.0  \n",
      "64774    The Stranger  1.0  \n",
      "64777    The Stranger  1.0  \n",
      "64779    The Stranger  1.0  \n",
      "...               ...  ...  \n",
      "3068419  The Stranger  1.0  \n",
      "3081837  The Stranger  7.0  \n",
      "3256243  The Stranger  0.0  \n",
      "3276867  The Stranger  3.0  \n",
      "3407234  The Stranger  0.0  \n",
      "\n",
      "[208 rows x 6 columns]\n"
     ]
    }
   ],
   "source": [
    "Stranger=Movie_title[Movie_title['character'].isin(['The Stranger'])]\n",
    "print(Stranger)\n"
   ]
  },
  {
   "cell_type": "code",
   "execution_count": null,
   "metadata": {
    "collapsed": true
   },
   "outputs": [],
   "source": [
    "#Number of people have played the role 'The Stranger' are 208"
   ]
  },
  {
   "cell_type": "markdown",
   "metadata": {
    "collapsed": true
   },
   "source": [
    "### How many roles has Sidney Poitier played throughout his career?"
   ]
  },
  {
   "cell_type": "code",
   "execution_count": 67,
   "metadata": {},
   "outputs": [
    {
     "name": "stdout",
     "output_type": "stream",
     "text": [
      "                                title  year            name   type  \\\n",
      "1751059               A Patch of Blue  1965  Sidney Poitier  actor   \n",
      "1751060         A Piece of the Action  1977  Sidney Poitier  actor   \n",
      "1751061           A Raisin in the Sun  1961  Sidney Poitier  actor   \n",
      "1751062               A Warm December  1973  Sidney Poitier  actor   \n",
      "1751063             All the Young Men  1960  Sidney Poitier  actor   \n",
      "1751064                Band of Angels  1957  Sidney Poitier  actor   \n",
      "1751065             Blackboard Jungle  1955  Sidney Poitier  actor   \n",
      "1751066                  Brother John  1971  Sidney Poitier  actor   \n",
      "1751067         Buck and the Preacher  1972  Sidney Poitier  actor   \n",
      "1751068      Cry, the Beloved Country  1951  Sidney Poitier  actor   \n",
      "1751069                Duel at Diablo  1966  Sidney Poitier  actor   \n",
      "1751070              Edge of the City  1957  Sidney Poitier  actor   \n",
      "1751071               For Love of Ivy  1968  Sidney Poitier  actor   \n",
      "1751072                     Go Man Go  1954  Sidney Poitier  actor   \n",
      "1751073             Good-bye, My Lady  1956  Sidney Poitier  actor   \n",
      "1751074  Guess Who's Coming to Dinner  1967  Sidney Poitier  actor   \n",
      "1751075      In the Heat of the Night  1967  Sidney Poitier  actor   \n",
      "1751076             Let's Do It Again  1975  Sidney Poitier  actor   \n",
      "1751077           Lilies of the Field  1963  Sidney Poitier  actor   \n",
      "1751078                 Little Nikita  1988  Sidney Poitier  actor   \n",
      "1751079                    No Way Out  1950  Sidney Poitier  actor   \n",
      "1751080                   Paris Blues  1961  Sidney Poitier  actor   \n",
      "1751081                Porgy and Bess  1959  Sidney Poitier  actor   \n",
      "1751082                Pressure Point  1962  Sidney Poitier  actor   \n",
      "1751083              Red Ball Express  1952  Sidney Poitier  actor   \n",
      "1751084              Sepia Cinderella  1947  Sidney Poitier  actor   \n",
      "1751085                 Shoot to Kill  1988  Sidney Poitier  actor   \n",
      "1751086                      Sneakers  1992  Sidney Poitier  actor   \n",
      "1751087            Something of Value  1957  Sidney Poitier  actor   \n",
      "1751088          The Bedford Incident  1965  Sidney Poitier  actor   \n",
      "1751089              The Defiant Ones  1958  Sidney Poitier  actor   \n",
      "1751090  The Greatest Story Ever Told  1965  Sidney Poitier  actor   \n",
      "1751091                    The Jackal  1997  Sidney Poitier  actor   \n",
      "1751092                The Long Ships  1964  Sidney Poitier  actor   \n",
      "1751093                  The Lost Man  1969  Sidney Poitier  actor   \n",
      "1751094          The Mark of the Hawk  1957  Sidney Poitier  actor   \n",
      "1751095              The Organization  1971  Sidney Poitier  actor   \n",
      "1751096            The Slender Thread  1965  Sidney Poitier  actor   \n",
      "1751097          The Wilby Conspiracy  1975  Sidney Poitier  actor   \n",
      "1751098    They Call Me Mister Tibbs!  1970  Sidney Poitier  actor   \n",
      "1751099             To Sir, with Love  1967  Sidney Poitier  actor   \n",
      "1751100         Uptown Saturday Night  1974  Sidney Poitier  actor   \n",
      "1751101                 Virgin Island  1958  Sidney Poitier  actor   \n",
      "\n",
      "                                  character     n  \n",
      "1751059                        Gordon Ralfe   1.0  \n",
      "1751060                       Manny Durrell   1.0  \n",
      "1751061                  Walter Lee Younger   1.0  \n",
      "1751062                    Dr. Matt Younger   1.0  \n",
      "1751063                   Sgt. Eddie Towler   2.0  \n",
      "1751064                              Rau-Ru   3.0  \n",
      "1751065                   Gregory W. Miller  10.0  \n",
      "1751066                           John Kane   1.0  \n",
      "1751067                                Buck   1.0  \n",
      "1751068                   Reverend Msimangu   3.0  \n",
      "1751069                              Toller   2.0  \n",
      "1751070                         Tommy Tyler   2.0  \n",
      "1751071                          Jack Parks   1.0  \n",
      "1751072                       Inman Jackson   3.0  \n",
      "1751073                        Gates Watson   4.0  \n",
      "1751074                       John Prentice   2.0  \n",
      "1751075                        Virgil Tibbs   1.0  \n",
      "1751076                      Clyde Williams   1.0  \n",
      "1751077                         Homer Smith   1.0  \n",
      "1751078                       Roy Parmenter   1.0  \n",
      "1751079                   Dr. Luther Brooks   4.0  \n",
      "1751080                          Eddie Cook   3.0  \n",
      "1751081                               Porgy   1.0  \n",
      "1751082                              Doctor   1.0  \n",
      "1751083                           Robertson   5.0  \n",
      "1751084                    Night Club Extra   0.0  \n",
      "1751085                      Warren Stantin   1.0  \n",
      "1751086                       Donald Crease   4.0  \n",
      "1751087                   Kimani Wa Karanja  13.0  \n",
      "1751088                       Ben Munceford   2.0  \n",
      "1751089                         Noah Cullen   2.0  \n",
      "1751090                     Simon of Cyrene  21.0  \n",
      "1751091  FBI Deputy Director Carter Preston   3.0  \n",
      "1751092                          Aly Mansuh   2.0  \n",
      "1751093                         Jason Higgs   1.0  \n",
      "1751094                                Obam   2.0  \n",
      "1751095                        Virgil Tibbs   1.0  \n",
      "1751096                         Alan Newell   1.0  \n",
      "1751097                         Shack Twala   1.0  \n",
      "1751098                        Virgil Tibbs   1.0  \n",
      "1751099                      Mark Thackeray   1.0  \n",
      "1751100                       Steve Jackson   1.0  \n",
      "1751101                              Marcus   3.0  \n"
     ]
    }
   ],
   "source": [
    "SPoitier=Movie_title[Movie_title['name'].isin(['Sidney Poitier'])]\n",
    "print(SPoitier)\n"
   ]
  },
  {
   "cell_type": "code",
   "execution_count": 68,
   "metadata": {},
   "outputs": [
    {
     "name": "stdout",
     "output_type": "stream",
     "text": [
      "<class 'pandas.core.frame.DataFrame'>\n",
      "Index: 43 entries, 1751059 to 1751101\n",
      "Data columns (total 6 columns):\n",
      " #   Column     Non-Null Count  Dtype  \n",
      "---  ------     --------------  -----  \n",
      " 0   title      43 non-null     object \n",
      " 1   year       43 non-null     int64  \n",
      " 2   name       43 non-null     object \n",
      " 3   type       43 non-null     object \n",
      " 4   character  43 non-null     object \n",
      " 5   n          43 non-null     float64\n",
      "dtypes: float64(1), int64(1), object(4)\n",
      "memory usage: 2.4+ KB\n"
     ]
    }
   ],
   "source": [
    "SPoitier.info()"
   ]
  },
  {
   "cell_type": "code",
   "execution_count": null,
   "metadata": {},
   "outputs": [],
   "source": [
    "#Sidney Poitier has played 43 roles throughout his career"
   ]
  },
  {
   "cell_type": "markdown",
   "metadata": {
    "collapsed": true
   },
   "source": [
    "### How many roles has Judi Dench played?"
   ]
  },
  {
   "cell_type": "code",
   "execution_count": 69,
   "metadata": {},
   "outputs": [
    {
     "name": "stdout",
     "output_type": "stream",
     "text": [
      "                                                     title  year        name  \\\n",
      "2703455                              84 Charing Cross Road  1987  Judi Dench   \n",
      "2703456                                  A Handful of Dust  1988  Judi Dench   \n",
      "2703457                          A Midsummer Night's Dream  1968  Judi Dench   \n",
      "2703458                                 A Room with a View  1985  Judi Dench   \n",
      "2703459                                  A Study in Terror  1965  Judi Dench   \n",
      "2703460             Angelina Ballerina: Angelina Sets Sail  2006  Judi Dench   \n",
      "2703461                                      Casino Royale  2006  Judi Dench   \n",
      "2703462                                           Chocolat  2000  Judi Dench   \n",
      "2703463                                          Dead Cert  1974  Judi Dench   \n",
      "2703464                                    Die Another Day  2002  Judi Dench   \n",
      "2703465                                             Doogal  2006  Judi Dench   \n",
      "2703466                                Four in the Morning  1965  Judi Dench   \n",
      "2703467                                          GoldenEye  1995  Judi Dench   \n",
      "2703468                                             Hamlet  1996  Judi Dench   \n",
      "2703469                               He Who Rides a Tiger  1965  Judi Dench   \n",
      "2703470                                            Henry V  1989  Judi Dench   \n",
      "2703471                                  Home on the Range  2004  Judi Dench   \n",
      "2703472                                               Iris  2001  Judi Dench   \n",
      "2703473                                           J. Edgar  2011  Judi Dench   \n",
      "2703474                                       Jack & Sarah  1995  Judi Dench   \n",
      "2703475                                          Jane Eyre  2011  Judi Dench   \n",
      "2703476  Kenneth Branagh Theatre Company's the Winter's...  2015  Judi Dench   \n",
      "2703477                                 Ladies in Lavender  2004  Judi Dench   \n",
      "2703478                                             Luther  1974  Judi Dench   \n",
      "2703479        Miss Peregrine's Home for Peculiar Children  2016  Judi Dench   \n",
      "2703480                                          Mrs Brown  1997  Judi Dench   \n",
      "2703481                             Mrs Henderson Presents  2005  Judi Dench   \n",
      "2703482                       Murder on the Orient Express  2017  Judi Dench   \n",
      "2703483                               My Week with Marilyn  2011  Judi Dench   \n",
      "2703484                                               Nine  2009  Judi Dench   \n",
      "2703485                                 Notes on a Scandal  2006  Judi Dench   \n",
      "2703486                                          Philomena  2013  Judi Dench   \n",
      "2703487        Pirates of the Caribbean: On Stranger Tides  2011  Judi Dench   \n",
      "2703488                                  Pride & Prejudice  2005  Judi Dench   \n",
      "2703489                                  Quantum of Solace  2008  Judi Dench   \n",
      "2703490                                               Rage  2009  Judi Dench   \n",
      "2703491                                  Run for Your Wife  2012  Judi Dench   \n",
      "2703492                                      Schadenfreude  2016  Judi Dench   \n",
      "2703493                                Shakespeare in Love  1998  Judi Dench   \n",
      "2703494                                            Skyfall  2012  Judi Dench   \n",
      "2703495                                            Spectre  2015  Judi Dench   \n",
      "2703496                                    Stars in Shorts  2012  Judi Dench   \n",
      "2703497                                 Tea with Mussolini  1999  Judi Dench   \n",
      "2703498                           The Angelic Conversation  1985  Judi Dench   \n",
      "2703499                     The Best Exotic Marigold Hotel  2011  Judi Dench   \n",
      "2703500                          The Chronicles of Riddick  2004  Judi Dench   \n",
      "2703501                    The Importance of Being Earnest  2002  Judi Dench   \n",
      "2703502              The Second Best Exotic Marigold Hotel  2015  Judi Dench   \n",
      "2703503                                  The Shipping News  2001  Judi Dench   \n",
      "2703504                                   The Third Secret  1964  Judi Dench   \n",
      "2703505                            The World Is Not Enough  1999  Judi Dench   \n",
      "2703506                                Tomorrow Never Dies  1997  Judi Dench   \n",
      "2703507                                        Tulip Fever  2017  Judi Dench   \n",
      "2703508                                 Victoria and Abdul  2017  Judi Dench   \n",
      "2703509                                           Wetherby  1985  Judi Dench   \n",
      "\n",
      "            type                      character     n  \n",
      "2703455  actress                      Nora Doel   3.0  \n",
      "2703456  actress                    Mrs. Beaver  13.0  \n",
      "2703457  actress                        Titania  16.0  \n",
      "2703458  actress     Eleanor Lavish, a novelist   7.0  \n",
      "2703459  actress                          Sally   8.0  \n",
      "2703460  actress                     Miss Lilly   2.0  \n",
      "2703461  actress                              M   4.0  \n",
      "2703462  actress                 Armande Voizin  18.0  \n",
      "2703463  actress                 Laura Davidson   2.0  \n",
      "2703464  actress                              M   6.0  \n",
      "2703465  actress                       Narrator   7.0  \n",
      "2703466  actress                           Wife   2.0  \n",
      "2703467  actress                              M   6.0  \n",
      "2703468  actress                         Hecuba  12.0  \n",
      "2703469  actress                         Joanne   2.0  \n",
      "2703470  actress          Mistress Nell Quickly  26.0  \n",
      "2703471  actress                   Mrs. Caloway   7.0  \n",
      "2703472  actress                   Iris Murdoch   3.0  \n",
      "2703473  actress                   Annie Hoover  13.0  \n",
      "2703474  actress                       Margaret   3.0  \n",
      "2703475  actress                   Mrs. Fairfax  18.0  \n",
      "2703476  actress                        Paulina   0.0  \n",
      "2703477  actress                         Ursula   1.0  \n",
      "2703478  actress                      Katherine   7.0  \n",
      "2703479  actress                    Miss Avocet   4.0  \n",
      "2703480  actress                 Queen Victoria   1.0  \n",
      "2703481  actress           Mrs. Laura Henderson   1.0  \n",
      "2703482  actress           Princess Dragomiroff   0.0  \n",
      "2703483  actress           Dame Sybil Thorndike  23.0  \n",
      "2703484  actress                          Lilli   6.0  \n",
      "2703485  actress                 Barbara Covett   1.0  \n",
      "2703486  actress                      Philomena   1.0  \n",
      "2703487  actress                   Society Lady  16.0  \n",
      "2703488  actress        Lady Catherine de Bourg  20.0  \n",
      "2703489  actress                              M   4.0  \n",
      "2703490  actress                   Mona Carvell   0.0  \n",
      "2703491  actress                       Bag Lady  40.0  \n",
      "2703492  actress                   The Narrator   0.0  \n",
      "2703493  actress                Queen Elizabeth  12.0  \n",
      "2703494  actress                              M   2.0  \n",
      "2703495  actress                              M   0.0  \n",
      "2703496  actress                           Mary  29.0  \n",
      "2703497  actress                       Arabella   2.0  \n",
      "2703498  actress  Shakespeare's Sonnets read by   3.0  \n",
      "2703499  actress              Evelyn Greenslade   1.0  \n",
      "2703500  actress                         Aereon   4.0  \n",
      "2703501  actress                 Lady Bracknell   5.0  \n",
      "2703502  actress              Evelyn Greenslade   5.0  \n",
      "2703503  actress                     Agnis Hamm   3.0  \n",
      "2703504  actress                 Miss Humphries  12.0  \n",
      "2703505  actress                              M   6.0  \n",
      "2703506  actress                              M   9.0  \n",
      "2703507  actress       The Abbess of St. Ursula   0.0  \n",
      "2703508  actress                 Queen Victoria   0.0  \n",
      "2703509  actress              Marcia Pilborough   3.0  \n"
     ]
    }
   ],
   "source": [
    "Judi=Movie_title[Movie_title['name'].isin(['Judi Dench'])]\n",
    "print(Judi)\n"
   ]
  },
  {
   "cell_type": "code",
   "execution_count": 70,
   "metadata": {},
   "outputs": [
    {
     "name": "stdout",
     "output_type": "stream",
     "text": [
      "<class 'pandas.core.frame.DataFrame'>\n",
      "Index: 55 entries, 2703455 to 2703509\n",
      "Data columns (total 6 columns):\n",
      " #   Column     Non-Null Count  Dtype  \n",
      "---  ------     --------------  -----  \n",
      " 0   title      55 non-null     object \n",
      " 1   year       55 non-null     int64  \n",
      " 2   name       55 non-null     object \n",
      " 3   type       55 non-null     object \n",
      " 4   character  55 non-null     object \n",
      " 5   n          55 non-null     float64\n",
      "dtypes: float64(1), int64(1), object(4)\n",
      "memory usage: 3.0+ KB\n"
     ]
    }
   ],
   "source": [
    "Judi.info()"
   ]
  },
  {
   "cell_type": "code",
   "execution_count": 71,
   "metadata": {},
   "outputs": [],
   "source": [
    "#Judi Dench has played 55 roles"
   ]
  },
  {
   "cell_type": "markdown",
   "metadata": {
    "collapsed": true
   },
   "source": [
    "### List the supporting roles (having n=2) played by Cary Grant in the 1940s, in order by year."
   ]
  },
  {
   "cell_type": "code",
   "execution_count": 72,
   "metadata": {},
   "outputs": [
    {
     "name": "stdout",
     "output_type": "stream",
     "text": [
      "                           title  year                name   type   character  \\\n",
      "330721            Broken Promise  2006       Merrill Capps  actor  Cary Grant   \n",
      "840351   George White's Scandals  1945          Cary Grant  actor  Cary Grant   \n",
      "840415      Without Reservations  1946          Cary Grant  actor  Cary Grant   \n",
      "908803          Received Payment  1922      Kenneth Harlan  actor  Cary Grant   \n",
      "2177810           Curtsy, Mister  2017   Ashford J. Thomas  actor  Cary Grant   \n",
      "2381272              The Aviator  2004  Michael-John Wolfe  actor  Cary Grant   \n",
      "\n",
      "           n  \n",
      "330721   0.0  \n",
      "840351   0.0  \n",
      "840415   0.0  \n",
      "908803   2.0  \n",
      "2177810  0.0  \n",
      "2381272  0.0  \n"
     ]
    }
   ],
   "source": [
    "Cary=Movie_title[Movie_title['character'].isin(['Cary Grant'])]\n",
    "print(Cary)"
   ]
  },
  {
   "cell_type": "code",
   "execution_count": 74,
   "metadata": {},
   "outputs": [
    {
     "data": {
      "text/plain": [
       "title        Received Payment\n",
       "year                     1922\n",
       "name           Kenneth Harlan\n",
       "type                    actor\n",
       "character          Cary Grant\n",
       "n                         2.0\n",
       "Name: 908803, dtype: object"
      ]
     },
     "execution_count": 74,
     "metadata": {},
     "output_type": "execute_result"
    }
   ],
   "source": [
    "Movie_title.iloc[908803]"
   ]
  },
  {
   "cell_type": "code",
   "execution_count": null,
   "metadata": {},
   "outputs": [],
   "source": [
    "#Supporting role was done by Kenneth Harlan"
   ]
  },
  {
   "cell_type": "markdown",
   "metadata": {
    "collapsed": true
   },
   "source": [
    "### List the leading roles that Cary Grant played in the 1940s in order by year."
   ]
  },
  {
   "cell_type": "code",
   "execution_count": 75,
   "metadata": {},
   "outputs": [
    {
     "name": "stdout",
     "output_type": "stream",
     "text": [
      "                        title  year        name   type            character  \\\n",
      "840334    Alice in Wonderland  1933  Cary Grant  actor          Mock Turtle   \n",
      "840335  An Affair to Remember  1957  Cary Grant  actor      Nickie Ferrante   \n",
      "840336   Arsenic and Old Lace  1944  Cary Grant  actor    Mortimer Brewster   \n",
      "840337         Big Brown Eyes  1936  Cary Grant  actor           Danny Barr   \n",
      "840338           Blonde Venus  1932  Cary Grant  actor        Nick Townsend   \n",
      "...                       ...   ...         ...    ...                  ...   \n",
      "840411         Walk Don't Run  1966  Cary Grant  actor  Sir William Rutland   \n",
      "840412        Wedding Present  1936  Cary Grant  actor        Charlie Mason   \n",
      "840413    When You're in Love  1937  Cary Grant  actor         Jimmy Hudson   \n",
      "840414      Wings in the Dark  1935  Cary Grant  actor           Ken Gordon   \n",
      "840415   Without Reservations  1946  Cary Grant  actor           Cary Grant   \n",
      "\n",
      "           n  \n",
      "840334  10.0  \n",
      "840335   1.0  \n",
      "840336   1.0  \n",
      "840337   1.0  \n",
      "840338   3.0  \n",
      "...      ...  \n",
      "840411   1.0  \n",
      "840412   2.0  \n",
      "840413   2.0  \n",
      "840414   2.0  \n",
      "840415   0.0  \n",
      "\n",
      "[82 rows x 6 columns]\n"
     ]
    }
   ],
   "source": [
    "Cary=Movie_title[Movie_title['name'].isin(['Cary Grant'])]\n",
    "print(Cary)"
   ]
  },
  {
   "cell_type": "code",
   "execution_count": 78,
   "metadata": {},
   "outputs": [],
   "source": [
    "array_cary=np.array(Cary['year'])             "
   ]
  },
  {
   "cell_type": "code",
   "execution_count": 83,
   "metadata": {},
   "outputs": [
    {
     "name": "stdout",
     "output_type": "stream",
     "text": [
      "[1946. 1942. 1940. 1940. 1947. 1947. 1941. 1941. 1944. 1942. 1946. 1944.\n",
      " 1946. 1940. 1943. 1943. 1948. 1949. 1940. 1945. 1948. 1943. 1944.]\n",
      "The number roles played by Cary in 1940's are:23 \n"
     ]
    }
   ],
   "source": [
    "new_arr=[]\n",
    "for i in range(len(array_cary)):\n",
    "    if array_cary[i]<1950 and array_cary[i]>1939:\n",
    "               new_arr=np.append(array_cary[i],new_arr)\n",
    "\n",
    "               \n",
    "print(new_arr)               \n",
    "cary_len=len(new_arr)              \n",
    "print(f\"The number roles played by Cary in 1940's are:{cary_len} \")                                             "
   ]
  },
  {
   "cell_type": "code",
   "execution_count": 84,
   "metadata": {},
   "outputs": [
    {
     "data": {
      "text/plain": [
       "[1940.0,\n",
       " 1940.0,\n",
       " 1940.0,\n",
       " 1940.0,\n",
       " 1941.0,\n",
       " 1941.0,\n",
       " 1942.0,\n",
       " 1942.0,\n",
       " 1943.0,\n",
       " 1943.0,\n",
       " 1943.0,\n",
       " 1944.0,\n",
       " 1944.0,\n",
       " 1944.0,\n",
       " 1945.0,\n",
       " 1946.0,\n",
       " 1946.0,\n",
       " 1946.0,\n",
       " 1947.0,\n",
       " 1947.0,\n",
       " 1948.0,\n",
       " 1948.0,\n",
       " 1949.0]"
      ]
     },
     "execution_count": 84,
     "metadata": {},
     "output_type": "execute_result"
    }
   ],
   "source": [
    "sorted(new_arr)"
   ]
  },
  {
   "cell_type": "markdown",
   "metadata": {
    "collapsed": true
   },
   "source": [
    "### How many roles were available for actors in the 1950s?"
   ]
  },
  {
   "cell_type": "code",
   "execution_count": 85,
   "metadata": {},
   "outputs": [
    {
     "name": "stdout",
     "output_type": "stream",
     "text": [
      "                                     title  year                     name  \\\n",
      "0                           Closet Monster  2015                 Buffy #1   \n",
      "1                          Suuri illusioni  1985                   Homo $   \n",
      "2                      Battle of the Sexes  2017                  $hutter   \n",
      "3                     Secret in Their Eyes  2015                  $hutter   \n",
      "4                               Steve Jobs  2015                  $hutter   \n",
      "...                                    ...   ...                      ...   \n",
      "2440023                            Rokland  2011     Run?lfur ??rhallsson   \n",
      "2440024                        Vychislitel  2014  Dav?? Freyr ??runnarson   \n",
      "2440025                        Gauragangur  2010         Ingvar ??r?arson   \n",
      "2440026  Reykjavik Whale Watching Massacre  2009         Ingvar ??r?arson   \n",
      "2440027            The Sleep of Cyma Roget  1920         Legaren ? Hiller   \n",
      "\n",
      "          type                character     n  \n",
      "0        actor                  Buffy 4   0.0  \n",
      "1        actor                   Guests  22.0  \n",
      "2        actor          Bobby Riggs Fan  10.0  \n",
      "3        actor          2002 Dodger Fan   0.0  \n",
      "4        actor  1988 Opera House Patron   0.0  \n",
      "...        ...                      ...   ...  \n",
      "2440023  actor     Viking Squad Captain   0.0  \n",
      "2440024  actor                 Kannibal  15.0  \n",
      "2440025  actor             Prison Guard   0.0  \n",
      "2440026  actor                  Himself  29.0  \n",
      "2440027  actor        Undetermined Role   5.0  \n",
      "\n",
      "[2440028 rows x 6 columns]\n"
     ]
    }
   ],
   "source": [
    "actor=Movie_title[Movie_title['type'].isin(['actor'])]\n",
    "print(actor)\n"
   ]
  },
  {
   "cell_type": "code",
   "execution_count": 86,
   "metadata": {},
   "outputs": [
    {
     "name": "stdout",
     "output_type": "stream",
     "text": [
      "[1950. 1950. 1950. ... 1950. 1950. 1950.]\n",
      "The number of roles available for actors in 1950 were 16512\n"
     ]
    }
   ],
   "source": [
    "array1950=np.array(actor['year'])\n",
    "arr1=[]    \n",
    "for i in range(len(array1950)):\n",
    "    if array1950[i]==1950:\n",
    "        arr1=np.append(array1950[i],arr1)\n",
    "print(arr1)  \n",
    "print(\"The number of roles available for actors in 1950 were\",len(arr1))\n",
    "        \n"
   ]
  },
  {
   "cell_type": "code",
   "execution_count": 87,
   "metadata": {},
   "outputs": [
    {
     "data": {
      "text/html": [
       "<div>\n",
       "<style scoped>\n",
       "    .dataframe tbody tr th:only-of-type {\n",
       "        vertical-align: middle;\n",
       "    }\n",
       "\n",
       "    .dataframe tbody tr th {\n",
       "        vertical-align: top;\n",
       "    }\n",
       "\n",
       "    .dataframe thead th {\n",
       "        text-align: right;\n",
       "    }\n",
       "</style>\n",
       "<table border=\"1\" class=\"dataframe\">\n",
       "  <thead>\n",
       "    <tr style=\"text-align: right;\">\n",
       "      <th></th>\n",
       "      <th>title</th>\n",
       "      <th>year</th>\n",
       "      <th>name</th>\n",
       "      <th>type</th>\n",
       "      <th>character</th>\n",
       "      <th>n</th>\n",
       "    </tr>\n",
       "  </thead>\n",
       "  <tbody>\n",
       "    <tr>\n",
       "      <th>0</th>\n",
       "      <td>Closet Monster</td>\n",
       "      <td>2015</td>\n",
       "      <td>Buffy #1</td>\n",
       "      <td>actor</td>\n",
       "      <td>Buffy 4</td>\n",
       "      <td>0.0</td>\n",
       "    </tr>\n",
       "    <tr>\n",
       "      <th>1</th>\n",
       "      <td>Suuri illusioni</td>\n",
       "      <td>1985</td>\n",
       "      <td>Homo $</td>\n",
       "      <td>actor</td>\n",
       "      <td>Guests</td>\n",
       "      <td>22.0</td>\n",
       "    </tr>\n",
       "    <tr>\n",
       "      <th>2</th>\n",
       "      <td>Battle of the Sexes</td>\n",
       "      <td>2017</td>\n",
       "      <td>$hutter</td>\n",
       "      <td>actor</td>\n",
       "      <td>Bobby Riggs Fan</td>\n",
       "      <td>10.0</td>\n",
       "    </tr>\n",
       "  </tbody>\n",
       "</table>\n",
       "</div>"
      ],
      "text/plain": [
       "                 title  year      name   type        character     n\n",
       "0       Closet Monster  2015  Buffy #1  actor          Buffy 4   0.0\n",
       "1      Suuri illusioni  1985    Homo $  actor           Guests  22.0\n",
       "2  Battle of the Sexes  2017   $hutter  actor  Bobby Riggs Fan  10.0"
      ]
     },
     "execution_count": 87,
     "metadata": {},
     "output_type": "execute_result"
    }
   ],
   "source": [
    "Movie_title.head(3)"
   ]
  },
  {
   "cell_type": "markdown",
   "metadata": {
    "collapsed": true
   },
   "source": [
    "### How many roles were available for actresses in the 1950s?"
   ]
  },
  {
   "cell_type": "code",
   "execution_count": 88,
   "metadata": {},
   "outputs": [
    {
     "name": "stdout",
     "output_type": "stream",
     "text": [
      "                                                  title  year  \\\n",
      "2440028                             Night of the Demons  2009   \n",
      "2440029  The Bad Lieutenant: Port of Call - New Orleans  2009   \n",
      "2440030  The Bad Lieutenant: Port of Call - New Orleans  2009   \n",
      "2440031                          A Woman of Distinction  1950   \n",
      "2440032                                Around the World  1943   \n",
      "...                                                 ...   ...   \n",
      "3611207                                         Foxtrot  1988   \n",
      "3611208                Niceland (Population. 1.000.002)  2004   \n",
      "3611209                                       Skammdegi  1985   \n",
      "3611210                                    U.S.S.S.S...  2003   \n",
      "3611211                               Bye Bye Blue Bird  1999   \n",
      "\n",
      "                                   name     type               character     n  \n",
      "2440028  Stefanie Oxmann Mcgaha \"Steff\"  actress              Goth raver   0.0  \n",
      "2440029  Stefanie Oxmann Mcgaha \"Steff\"  actress                 Gambler   0.0  \n",
      "2440030  Stefanie Oxmann Mcgaha \"Steff\"  actress              Bar patron   0.0  \n",
      "2440031               Lucienne & Ashour  actress          Apache Dancers   0.0  \n",
      "2440032               Lucienne & Ashour  actress          Apache Dancers   0.0  \n",
      "...                                 ...      ...                     ...   ...  \n",
      "3611207               Lilja ??risd?ttir  actress                    D?ra  24.0  \n",
      "3611208       Sigr??ur J?na ??risd?ttir  actress            Woman in Bus  26.0  \n",
      "3611209              Dalla ??r?ard?ttir  actress           Hj?krunarkona   9.0  \n",
      "3611210     Krist?n Andrea ??r?ard?ttir  actress  Afgr.dama ? bens?nst??  17.0  \n",
      "3611211                    Rosa ? R?gvu  actress       Pensionatv?rtinde   0.0  \n",
      "\n",
      "[1171184 rows x 6 columns]\n"
     ]
    }
   ],
   "source": [
    "female=Movie_title.query('type == \"actress\"')\n",
    "print(female)\n"
   ]
  },
  {
   "cell_type": "code",
   "execution_count": 89,
   "metadata": {},
   "outputs": [
    {
     "name": "stdout",
     "output_type": "stream",
     "text": [
      "[1950. 1950. 1950. ... 1950. 1950. 1950.]\n",
      "The number of roles available for actress in 1950 were 5494\n"
     ]
    }
   ],
   "source": [
    "arrayfemale=np.array(female['year'])\n",
    "arr2=[]    \n",
    "for i in range(len(arrayfemale)):\n",
    "    if arrayfemale[i]==1950:\n",
    "        arr2=np.append(arrayfemale[i],arr2)\n",
    "print(arr2)  \n",
    "print(\"The number of roles available for actress in 1950 were\",len(arr2))\n",
    "        \n"
   ]
  },
  {
   "cell_type": "markdown",
   "metadata": {
    "collapsed": true
   },
   "source": [
    "### How many leading roles (n=1) were available from the beginning of film history through 1980?"
   ]
  },
  {
   "cell_type": "code",
   "execution_count": 90,
   "metadata": {},
   "outputs": [
    {
     "data": {
      "text/plain": [
       "array([2015, 1985, 2017, ..., 1985, 2003, 1999], dtype=int64)"
      ]
     },
     "execution_count": 90,
     "metadata": {},
     "output_type": "execute_result"
    }
   ],
   "source": [
    "yeardata"
   ]
  },
  {
   "cell_type": "code",
   "execution_count": null,
   "metadata": {},
   "outputs": [],
   "source": [
    "arr1980=[]\n",
    "for i in range(len(yeardata)):\n",
    "    if yeardata[i]>=1980 and yeardata[i]<1990:\n",
    "        arr1980=np.append(yeardata[i],arr1980)\n",
    "print(arr1980)        \n",
    "print(len(arr1980))"
   ]
  },
  {
   "cell_type": "markdown",
   "metadata": {
    "collapsed": true
   },
   "source": [
    "### How many non-leading roles were available through from the beginning of film history through 1980?"
   ]
  },
  {
   "cell_type": "code",
   "execution_count": null,
   "metadata": {},
   "outputs": [],
   "source": []
  },
  {
   "cell_type": "markdown",
   "metadata": {
    "collapsed": true
   },
   "source": [
    "### How many roles through 1980 were minor enough that they did not warrant a numeric \"n\" rank?"
   ]
  },
  {
   "cell_type": "code",
   "execution_count": null,
   "metadata": {},
   "outputs": [],
   "source": []
  }
 ],
 "metadata": {
  "kernelspec": {
   "display_name": "Python 3 (ipykernel)",
   "language": "python",
   "name": "python3"
  },
  "language_info": {
   "codemirror_mode": {
    "name": "ipython",
    "version": 3
   },
   "file_extension": ".py",
   "mimetype": "text/x-python",
   "name": "python",
   "nbconvert_exporter": "python",
   "pygments_lexer": "ipython3",
   "version": "3.11.5"
  }
 },
 "nbformat": 4,
 "nbformat_minor": 1
}
