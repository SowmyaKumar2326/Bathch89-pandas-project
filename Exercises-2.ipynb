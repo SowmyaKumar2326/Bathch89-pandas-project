{
 "cells": [
  {
   "cell_type": "code",
   "execution_count": 1,
   "metadata": {},
   "outputs": [],
   "source": [
    "import seaborn as sns\n",
    "import pandas as pd\n",
    "import numpy as np\n",
    "import matplotlib.pyplot as plt\n",
    "%matplotlib inline"
   ]
  },
  {
   "cell_type": "code",
   "execution_count": 2,
   "metadata": {},
   "outputs": [
    {
     "name": "stdout",
     "output_type": "stream",
     "text": [
      "                     title  year\n",
      "0           The Rising Son  1990\n",
      "1  The Thousand Plane Raid  1969\n",
      "2         Crucea de piatra  1993\n",
      "3                  Country  2000\n",
      "4               Gaiking II  2011\n"
     ]
    }
   ],
   "source": [
    "#importing the data set\n",
    "datatitle = pd.read_csv(\"C:\\\\Users\\\\ADMIN\\\\Documents\\\\titles.csv\")\n",
    "sns.get_dataset_names()\n",
    "print(datatitle.head(5))\n"
   ]
  },
  {
   "cell_type": "code",
   "execution_count": 24,
   "metadata": {},
   "outputs": [
    {
     "data": {
      "text/html": [
       "<div>\n",
       "<style scoped>\n",
       "    .dataframe tbody tr th:only-of-type {\n",
       "        vertical-align: middle;\n",
       "    }\n",
       "\n",
       "    .dataframe tbody tr th {\n",
       "        vertical-align: top;\n",
       "    }\n",
       "\n",
       "    .dataframe thead th {\n",
       "        text-align: right;\n",
       "    }\n",
       "</style>\n",
       "<table border=\"1\" class=\"dataframe\">\n",
       "  <thead>\n",
       "    <tr style=\"text-align: right;\">\n",
       "      <th></th>\n",
       "      <th>title</th>\n",
       "      <th>year</th>\n",
       "      <th>name</th>\n",
       "      <th>type</th>\n",
       "      <th>character</th>\n",
       "      <th>n</th>\n",
       "    </tr>\n",
       "  </thead>\n",
       "  <tbody>\n",
       "    <tr>\n",
       "      <th>0</th>\n",
       "      <td>Closet Monster</td>\n",
       "      <td>2015</td>\n",
       "      <td>Buffy #1</td>\n",
       "      <td>actor</td>\n",
       "      <td>Buffy 4</td>\n",
       "      <td>NaN</td>\n",
       "    </tr>\n",
       "    <tr>\n",
       "      <th>1</th>\n",
       "      <td>Suuri illusioni</td>\n",
       "      <td>1985</td>\n",
       "      <td>Homo $</td>\n",
       "      <td>actor</td>\n",
       "      <td>Guests</td>\n",
       "      <td>22.0</td>\n",
       "    </tr>\n",
       "    <tr>\n",
       "      <th>2</th>\n",
       "      <td>Battle of the Sexes</td>\n",
       "      <td>2017</td>\n",
       "      <td>$hutter</td>\n",
       "      <td>actor</td>\n",
       "      <td>Bobby Riggs Fan</td>\n",
       "      <td>10.0</td>\n",
       "    </tr>\n",
       "    <tr>\n",
       "      <th>3</th>\n",
       "      <td>Secret in Their Eyes</td>\n",
       "      <td>2015</td>\n",
       "      <td>$hutter</td>\n",
       "      <td>actor</td>\n",
       "      <td>2002 Dodger Fan</td>\n",
       "      <td>NaN</td>\n",
       "    </tr>\n",
       "    <tr>\n",
       "      <th>4</th>\n",
       "      <td>Steve Jobs</td>\n",
       "      <td>2015</td>\n",
       "      <td>$hutter</td>\n",
       "      <td>actor</td>\n",
       "      <td>1988 Opera House Patron</td>\n",
       "      <td>NaN</td>\n",
       "    </tr>\n",
       "  </tbody>\n",
       "</table>\n",
       "</div>"
      ],
      "text/plain": [
       "                  title  year      name   type                character     n\n",
       "0        Closet Monster  2015  Buffy #1  actor                  Buffy 4   NaN\n",
       "1       Suuri illusioni  1985    Homo $  actor                   Guests  22.0\n",
       "2   Battle of the Sexes  2017   $hutter  actor          Bobby Riggs Fan  10.0\n",
       "3  Secret in Their Eyes  2015   $hutter  actor          2002 Dodger Fan   NaN\n",
       "4            Steve Jobs  2015   $hutter  actor  1988 Opera House Patron   NaN"
      ]
     },
     "execution_count": 24,
     "metadata": {},
     "output_type": "execute_result"
    }
   ],
   "source": [
    "cast = pd.read_csv(\"C:\\\\Users\\\\ADMIN\\\\Documents\\\\cast.csv\")\n",
    "cast.head()"
   ]
  },
  {
   "cell_type": "code",
   "execution_count": 4,
   "metadata": {},
   "outputs": [],
   "source": [
    "data_title=datatitle"
   ]
  },
  {
   "cell_type": "code",
   "execution_count": 5,
   "metadata": {},
   "outputs": [
    {
     "name": "stdout",
     "output_type": "stream",
     "text": [
      "<class 'pandas.core.frame.DataFrame'>\n",
      "RangeIndex: 230621 entries, 0 to 230620\n",
      "Data columns (total 2 columns):\n",
      " #   Column  Non-Null Count   Dtype \n",
      "---  ------  --------------   ----- \n",
      " 0   title   230620 non-null  object\n",
      " 1   year    230621 non-null  int64 \n",
      "dtypes: int64(1), object(1)\n",
      "memory usage: 3.5+ MB\n"
     ]
    }
   ],
   "source": [
    "data_title.info()"
   ]
  },
  {
   "cell_type": "code",
   "execution_count": 6,
   "metadata": {},
   "outputs": [
    {
     "data": {
      "text/html": [
       "<div>\n",
       "<style scoped>\n",
       "    .dataframe tbody tr th:only-of-type {\n",
       "        vertical-align: middle;\n",
       "    }\n",
       "\n",
       "    .dataframe tbody tr th {\n",
       "        vertical-align: top;\n",
       "    }\n",
       "\n",
       "    .dataframe thead th {\n",
       "        text-align: right;\n",
       "    }\n",
       "</style>\n",
       "<table border=\"1\" class=\"dataframe\">\n",
       "  <thead>\n",
       "    <tr style=\"text-align: right;\">\n",
       "      <th></th>\n",
       "      <th>year</th>\n",
       "    </tr>\n",
       "  </thead>\n",
       "  <tbody>\n",
       "    <tr>\n",
       "      <th>count</th>\n",
       "      <td>230621.000000</td>\n",
       "    </tr>\n",
       "    <tr>\n",
       "      <th>mean</th>\n",
       "      <td>1985.695097</td>\n",
       "    </tr>\n",
       "    <tr>\n",
       "      <th>std</th>\n",
       "      <td>29.371587</td>\n",
       "    </tr>\n",
       "    <tr>\n",
       "      <th>min</th>\n",
       "      <td>1894.000000</td>\n",
       "    </tr>\n",
       "    <tr>\n",
       "      <th>25%</th>\n",
       "      <td>1966.000000</td>\n",
       "    </tr>\n",
       "    <tr>\n",
       "      <th>50%</th>\n",
       "      <td>1995.000000</td>\n",
       "    </tr>\n",
       "    <tr>\n",
       "      <th>75%</th>\n",
       "      <td>2011.000000</td>\n",
       "    </tr>\n",
       "    <tr>\n",
       "      <th>max</th>\n",
       "      <td>2026.000000</td>\n",
       "    </tr>\n",
       "  </tbody>\n",
       "</table>\n",
       "</div>"
      ],
      "text/plain": [
       "                year\n",
       "count  230621.000000\n",
       "mean     1985.695097\n",
       "std        29.371587\n",
       "min      1894.000000\n",
       "25%      1966.000000\n",
       "50%      1995.000000\n",
       "75%      2011.000000\n",
       "max      2026.000000"
      ]
     },
     "execution_count": 6,
     "metadata": {},
     "output_type": "execute_result"
    }
   ],
   "source": [
    "datatitle.describe()"
   ]
  },
  {
   "cell_type": "code",
   "execution_count": 7,
   "metadata": {},
   "outputs": [
    {
     "data": {
      "text/html": [
       "<div>\n",
       "<style scoped>\n",
       "    .dataframe tbody tr th:only-of-type {\n",
       "        vertical-align: middle;\n",
       "    }\n",
       "\n",
       "    .dataframe tbody tr th {\n",
       "        vertical-align: top;\n",
       "    }\n",
       "\n",
       "    .dataframe thead th {\n",
       "        text-align: right;\n",
       "    }\n",
       "</style>\n",
       "<table border=\"1\" class=\"dataframe\">\n",
       "  <thead>\n",
       "    <tr style=\"text-align: right;\">\n",
       "      <th></th>\n",
       "      <th>title</th>\n",
       "      <th>year</th>\n",
       "    </tr>\n",
       "  </thead>\n",
       "  <tbody>\n",
       "    <tr>\n",
       "      <th>0</th>\n",
       "      <td>The Rising Son</td>\n",
       "      <td>1990</td>\n",
       "    </tr>\n",
       "    <tr>\n",
       "      <th>1</th>\n",
       "      <td>The Thousand Plane Raid</td>\n",
       "      <td>1969</td>\n",
       "    </tr>\n",
       "    <tr>\n",
       "      <th>2</th>\n",
       "      <td>Crucea de piatra</td>\n",
       "      <td>1993</td>\n",
       "    </tr>\n",
       "    <tr>\n",
       "      <th>3</th>\n",
       "      <td>Country</td>\n",
       "      <td>2000</td>\n",
       "    </tr>\n",
       "    <tr>\n",
       "      <th>4</th>\n",
       "      <td>Gaiking II</td>\n",
       "      <td>2011</td>\n",
       "    </tr>\n",
       "    <tr>\n",
       "      <th>...</th>\n",
       "      <td>...</td>\n",
       "      <td>...</td>\n",
       "    </tr>\n",
       "    <tr>\n",
       "      <th>230616</th>\n",
       "      <td>Nobody Waved Good-bye</td>\n",
       "      <td>1964</td>\n",
       "    </tr>\n",
       "    <tr>\n",
       "      <th>230617</th>\n",
       "      <td>E yue</td>\n",
       "      <td>2005</td>\n",
       "    </tr>\n",
       "    <tr>\n",
       "      <th>230618</th>\n",
       "      <td>Lakota Girls</td>\n",
       "      <td>2015</td>\n",
       "    </tr>\n",
       "    <tr>\n",
       "      <th>230619</th>\n",
       "      <td>Kroniki domowe</td>\n",
       "      <td>1997</td>\n",
       "    </tr>\n",
       "    <tr>\n",
       "      <th>230620</th>\n",
       "      <td>Death in the Valley of Good and Evil</td>\n",
       "      <td>2018</td>\n",
       "    </tr>\n",
       "  </tbody>\n",
       "</table>\n",
       "<p>230621 rows × 2 columns</p>\n",
       "</div>"
      ],
      "text/plain": [
       "                                       title  year\n",
       "0                             The Rising Son  1990\n",
       "1                    The Thousand Plane Raid  1969\n",
       "2                           Crucea de piatra  1993\n",
       "3                                    Country  2000\n",
       "4                                 Gaiking II  2011\n",
       "...                                      ...   ...\n",
       "230616                 Nobody Waved Good-bye  1964\n",
       "230617                                 E yue  2005\n",
       "230618                          Lakota Girls  2015\n",
       "230619                        Kroniki domowe  1997\n",
       "230620  Death in the Valley of Good and Evil  2018\n",
       "\n",
       "[230621 rows x 2 columns]"
      ]
     },
     "execution_count": 7,
     "metadata": {},
     "output_type": "execute_result"
    }
   ],
   "source": [
    "data_title"
   ]
  },
  {
   "cell_type": "markdown",
   "metadata": {
    "collapsed": true
   },
   "source": [
    "### What are the ten most common movie names of all time?"
   ]
  },
  {
   "cell_type": "code",
   "execution_count": 8,
   "metadata": {},
   "outputs": [
    {
     "data": {
      "text/plain": [
       "title\n",
       "Hamlet                  18\n",
       "Carmen                  16\n",
       "Macbeth                 15\n",
       "The Outsider            12\n",
       "The Three Musketeers    11\n",
       "Othello                 11\n",
       "Freedom                 11\n",
       "Kismet                  11\n",
       "Temptation              11\n",
       "Maya                    11\n",
       "Name: count, dtype: int64"
      ]
     },
     "execution_count": 8,
     "metadata": {},
     "output_type": "execute_result"
    }
   ],
   "source": [
    "data_title.title.value_counts().head(10)"
   ]
  },
  {
   "cell_type": "raw",
   "metadata": {},
   "source": [
    "# Above are the  10 most movies of all time."
   ]
  },
  {
   "cell_type": "code",
   "execution_count": 9,
   "metadata": {},
   "outputs": [
    {
     "data": {
      "text/plain": [
       "title\n",
       "Trading Hearts                                                   1\n",
       "Al Shearer: The Other Black Guy Running for President in 2012    1\n",
       "I Was a Criminal                                                 1\n",
       "Alava iz                                                         1\n",
       "Let Each One Go Where He May                                     1\n",
       "Quo Vadis, Baby?                                                 1\n",
       "El idioma imposible                                              1\n",
       "Pyromaniac                                                       1\n",
       "Tied in Blood                                                    1\n",
       "Death in the Valley of Good and Evil                             1\n",
       "Name: count, dtype: int64"
      ]
     },
     "execution_count": 9,
     "metadata": {},
     "output_type": "execute_result"
    }
   ],
   "source": [
    "data_title.title.value_counts().tail(10)"
   ]
  },
  {
   "cell_type": "markdown",
   "metadata": {
    "collapsed": true
   },
   "source": [
    "### Which three years of the 1930s saw the most films released?"
   ]
  },
  {
   "cell_type": "code",
   "execution_count": 10,
   "metadata": {},
   "outputs": [
    {
     "name": "stdout",
     "output_type": "stream",
     "text": [
      "The least year is 1894\n"
     ]
    }
   ],
   "source": [
    "year_array=data_title['year'].to_numpy()\n",
    "min_year=min(year_array)\n",
    "print(f\"The least year is {min_year}\")"
   ]
  },
  {
   "cell_type": "code",
   "execution_count": 11,
   "metadata": {},
   "outputs": [
    {
     "name": "stdout",
     "output_type": "stream",
     "text": [
      "The least year is 1894\n"
     ]
    }
   ],
   "source": [
    "year_array=data_title['year'].to_numpy()\n",
    "min_year=min(year_array)\n",
    "print(f\"The least year is {min_year}\")"
   ]
  },
  {
   "cell_type": "code",
   "execution_count": 12,
   "metadata": {},
   "outputs": [
    {
     "name": "stdout",
     "output_type": "stream",
     "text": [
      "3\n",
      "37\n",
      "6498\n",
      "8783\n",
      "10082\n",
      "8539\n",
      "12656\n",
      "17474\n",
      "18646\n",
      "20195\n",
      "22189\n",
      "38636\n",
      "66703\n",
      "180\n"
     ]
    }
   ],
   "source": [
    "#group 10 years into a list\n",
    "list1=np.array([])\n",
    "list2=np.array([])\n",
    "list3=np.array([])\n",
    "list4=np.array([])\n",
    "list5=np.array([])\n",
    "list6=np.array([])\n",
    "list7=np.array([])\n",
    "list8=np.array([])\n",
    "list9=np.array([])\n",
    "list10=np.array([])\n",
    "list11=np.array([])\n",
    "list12=np.array([])\n",
    "list13=np.array([])\n",
    "list14=np.array([])\n",
    "for i in year_array:\n",
    "    if i<1900:\n",
    "        list1=np.append(list1,i)\n",
    "    elif i<1910:\n",
    "        list2=np.append(list2,i)\n",
    "    elif i<1920:\n",
    "        list3=np.append(list3,i)\n",
    "    elif i<1930:\n",
    "        list4=np.append(list4,i)\n",
    "    elif i<1940:\n",
    "        list5=np.append(list5,i)    \n",
    "    elif i<1950:\n",
    "        list6=np.append(list6,i)\n",
    "    elif i<1960:\n",
    "        list7=np.append(list7,i)   \n",
    "    elif i<1970:\n",
    "        list8=np.append(list8,i)\n",
    "    elif i<1980:\n",
    "        list9=np.append(list9,i)\n",
    "    elif i<1990:\n",
    "        list10=np.append(list10,i)\n",
    "    elif i<2000:\n",
    "        list11=np.append(list11,i)\n",
    "    elif i<2010:\n",
    "        list12=np.append(list12,i)\n",
    "    elif i<2020:\n",
    "        list13=np.append(list13,i)\n",
    "    elif i<2030:\n",
    "        list14=np.append(list14,i)\n",
    "        \n",
    "#print(list1\\n,list2\\n,list3\\n,list4\\n,list5\\n,list6\\n,list7\\n,list8\\n,list9\\n,list10\\n,list11\\n,list12\\n,list13\\n,list14\\n)\n",
    "print(len(list1))\n",
    "print(len(list2))\n",
    "print(len(list3))\n",
    "print(len(list4))\n",
    "print(len(list5))\n",
    "print(len(list6))\n",
    "print(len(list7))\n",
    "print(len(list8))\n",
    "print(len(list9))\n",
    "print(len(list10))\n",
    "print(len(list11))\n",
    "print(len(list12))\n",
    "print(len(list13))\n",
    "print(len(list14))"
   ]
  },
  {
   "cell_type": "code",
   "execution_count": 13,
   "metadata": {},
   "outputs": [
    {
     "name": "stdout",
     "output_type": "stream",
     "text": [
      "[1932. 1934. 1934. ... 1936. 1933. 1932.]\n"
     ]
    }
   ],
   "source": [
    "print(list5)"
   ]
  },
  {
   "cell_type": "code",
   "execution_count": 14,
   "metadata": {},
   "outputs": [
    {
     "data": {
      "text/plain": [
       "10082"
      ]
     },
     "execution_count": 14,
     "metadata": {},
     "output_type": "execute_result"
    }
   ],
   "source": [
    "len(list5)"
   ]
  },
  {
   "cell_type": "code",
   "execution_count": 15,
   "metadata": {},
   "outputs": [
    {
     "name": "stdout",
     "output_type": "stream",
     "text": [
      "Number of movies in the year 1930: 819\n",
      "Number of movies in the year 1931: 885\n",
      "Number of movies in the year 1932: 935\n",
      "Number of movies in the year 1933: 894\n",
      "Number of movies in the year 1934: 965\n",
      "Number of movies in the year 1935: 1050\n",
      "Number of movies in the year 1936: 1139\n",
      "Number of movies in the year 1937: 1194\n",
      "Number of movies in the year 1938: 1127\n",
      "Number of movies in the year 1939: 1074\n"
     ]
    }
   ],
   "source": [
    "new1=np.array([])\n",
    "new2=np.array([])\n",
    "new3=np.array([])\n",
    "new4=np.array([])\n",
    "new5=np.array([])\n",
    "new6=np.array([])\n",
    "new7=np.array([])\n",
    "new8=np.array([])\n",
    "new9=np.array([])\n",
    "new10=np.array([])\n",
    "for i in list5:\n",
    "    if i==1930:\n",
    "        new1=np.append(new1,i)\n",
    "    elif i==1931:\n",
    "        new2=np.append(new2,i)\n",
    "    elif i==1932: \n",
    "        new3=np.append(new3,i)\n",
    "    elif i==1933:\n",
    "        new4=np.append(new4,i)\n",
    "    elif i==1934:\n",
    "        new5=np.append(new5,i)\n",
    "    elif i==1935:\n",
    "        new6=np.append(new6,i)\n",
    "    elif i==1936:\n",
    "        new7=np.append(new7,i)\n",
    "    elif i==1937:\n",
    "        new8=np.append(new8,i)\n",
    "    elif i==1938:    \n",
    "        new9=np.append(new9,i)\n",
    "    elif i==1939: \n",
    "        new10=np.append(new10,i)\n",
    "print(f\"Number of movies in the year 1930:\",len(new1))\n",
    "print(f\"Number of movies in the year 1931:\",len(new2))\n",
    "print(f\"Number of movies in the year 1932:\",len(new3))\n",
    "print(f\"Number of movies in the year 1933:\",len(new4))\n",
    "print(f\"Number of movies in the year 1934:\",len(new5))\n",
    "print(f\"Number of movies in the year 1935:\",len(new6))\n",
    "print(f\"Number of movies in the year 1936:\",len(new7))\n",
    "print(f\"Number of movies in the year 1937:\",len(new8))\n",
    "print(f\"Number of movies in the year 1938:\",len(new9))\n",
    "print(f\"Number of movies in the year 1939:\",len(new10))\n",
    "    "
   ]
  },
  {
   "cell_type": "markdown",
   "metadata": {},
   "source": [
    "Most number of movies were released in the year 1937,1936 and 1939. "
   ]
  },
  {
   "cell_type": "markdown",
   "metadata": {
    "collapsed": true
   },
   "source": [
    "### Plot the number of films that have been released each decade over the history of cinema."
   ]
  },
  {
   "cell_type": "code",
   "execution_count": 16,
   "metadata": {},
   "outputs": [
    {
     "data": {
      "text/html": [
       "<div>\n",
       "<style scoped>\n",
       "    .dataframe tbody tr th:only-of-type {\n",
       "        vertical-align: middle;\n",
       "    }\n",
       "\n",
       "    .dataframe tbody tr th {\n",
       "        vertical-align: top;\n",
       "    }\n",
       "\n",
       "    .dataframe thead th {\n",
       "        text-align: right;\n",
       "    }\n",
       "</style>\n",
       "<table border=\"1\" class=\"dataframe\">\n",
       "  <thead>\n",
       "    <tr style=\"text-align: right;\">\n",
       "      <th></th>\n",
       "      <th>Number_of_movies</th>\n",
       "      <th>each_decade</th>\n",
       "    </tr>\n",
       "  </thead>\n",
       "  <tbody>\n",
       "    <tr>\n",
       "      <th>1890</th>\n",
       "      <td>3</td>\n",
       "      <td>1890</td>\n",
       "    </tr>\n",
       "    <tr>\n",
       "      <th>1900</th>\n",
       "      <td>37</td>\n",
       "      <td>1900</td>\n",
       "    </tr>\n",
       "    <tr>\n",
       "      <th>1910</th>\n",
       "      <td>6498</td>\n",
       "      <td>1910</td>\n",
       "    </tr>\n",
       "    <tr>\n",
       "      <th>1920</th>\n",
       "      <td>8783</td>\n",
       "      <td>1920</td>\n",
       "    </tr>\n",
       "    <tr>\n",
       "      <th>1930</th>\n",
       "      <td>10082</td>\n",
       "      <td>1930</td>\n",
       "    </tr>\n",
       "    <tr>\n",
       "      <th>1940</th>\n",
       "      <td>8539</td>\n",
       "      <td>1940</td>\n",
       "    </tr>\n",
       "    <tr>\n",
       "      <th>1950</th>\n",
       "      <td>12656</td>\n",
       "      <td>1950</td>\n",
       "    </tr>\n",
       "    <tr>\n",
       "      <th>1960</th>\n",
       "      <td>17474</td>\n",
       "      <td>1960</td>\n",
       "    </tr>\n",
       "    <tr>\n",
       "      <th>1970</th>\n",
       "      <td>18646</td>\n",
       "      <td>1970</td>\n",
       "    </tr>\n",
       "    <tr>\n",
       "      <th>1980</th>\n",
       "      <td>20195</td>\n",
       "      <td>1980</td>\n",
       "    </tr>\n",
       "    <tr>\n",
       "      <th>1990</th>\n",
       "      <td>22189</td>\n",
       "      <td>1990</td>\n",
       "    </tr>\n",
       "    <tr>\n",
       "      <th>2000</th>\n",
       "      <td>38636</td>\n",
       "      <td>2000</td>\n",
       "    </tr>\n",
       "    <tr>\n",
       "      <th>2010</th>\n",
       "      <td>66703</td>\n",
       "      <td>2010</td>\n",
       "    </tr>\n",
       "    <tr>\n",
       "      <th>2020</th>\n",
       "      <td>180</td>\n",
       "      <td>2020</td>\n",
       "    </tr>\n",
       "  </tbody>\n",
       "</table>\n",
       "</div>"
      ],
      "text/plain": [
       "      Number_of_movies each_decade\n",
       "1890                 3        1890\n",
       "1900                37        1900\n",
       "1910              6498        1910\n",
       "1920              8783        1920\n",
       "1930             10082        1930\n",
       "1940              8539        1940\n",
       "1950             12656        1950\n",
       "1960             17474        1960\n",
       "1970             18646        1970\n",
       "1980             20195        1980\n",
       "1990             22189        1990\n",
       "2000             38636        2000\n",
       "2010             66703        2010\n",
       "2020               180        2020"
      ]
     },
     "execution_count": 16,
     "metadata": {},
     "output_type": "execute_result"
    }
   ],
   "source": [
    "newdf=pd.DataFrame(([3,\"1890\"],\n",
    "                    [37,\"1900\"],\n",
    "                    [6498,\"1910\"],\n",
    "                    [8783,\"1920\"],\n",
    "                    [10082,\"1930\"],\n",
    "                    [8539,\"1940\"],\n",
    "                    [12656,\"1950\"],\n",
    "                    [17474,\"1960\"],\n",
    "                    [18646,\"1970\"],\n",
    "                    [20195,\"1980\"],\n",
    "                    [22189,\"1990\"],\n",
    "                    [38636,\"2000\"],\n",
    "                    [66703,\"2010\"],\n",
    "                    [180,'2020']),\n",
    "                    index=([\"1890\",\"1900\",\"1910\",\"1920\",\"1930\",\"1940\",\"1950\",\"1960\",\"1970\",\"1980\",\"1990\",\"2000\",\"2010\",\"2020\"]),\n",
    "                    columns=([\"Number_of_movies\",\"each_decade\"]))\n",
    "                  \n",
    "newdf"
   ]
  },
  {
   "cell_type": "code",
   "execution_count": 53,
   "metadata": {},
   "outputs": [
    {
     "data": {
      "text/plain": [
       "<Axes: ylabel='Number of movies'>"
      ]
     },
     "execution_count": 53,
     "metadata": {},
     "output_type": "execute_result"
    },
    {
     "data": {
      "image/png": "[encoded data removed]",
      "text/plain": [
       "<Figure size 640x480 with 1 Axes>"
      ]
     },
     "metadata": {},
     "output_type": "display_data"
    }
   ],
   "source": [
    "newdf[[\"Number_of_movies\"]].plot(kind=\"bar\",grid=True,ylabel=\"Number of movies\",style=\"r\",fontsize=15,legend=False)"
   ]
  },
  {
   "cell_type": "code",
   "execution_count": 18,
   "metadata": {},
   "outputs": [
    {
     "data": {
      "text/plain": [
       "array([<Axes: ylabel='Number_of_movies'>], dtype=object)"
      ]
     },
     "execution_count": 18,
     "metadata": {},
     "output_type": "execute_result"
    },
    {
     "data": {
      "image/png": "[encoded data removed]",
      "text/plain": [
       "<Figure size 640x480 with 1 Axes>"
      ]
     },
     "metadata": {},
     "output_type": "display_data"
    }
   ],
   "source": [
    "newdf.Number_of_movies.plot(kind='pie',legend=False,subplots=True)"
   ]
  },
  {
   "cell_type": "raw",
   "metadata": {},
   "source": [
    "From  the above charts we can say that more number of movies were made between 2010 and 2020.\n",
    "Least number of movies were made in the 1890's"
   ]
  },
  {
   "cell_type": "markdown",
   "metadata": {
    "collapsed": true
   },
   "source": [
    "### Plot the number of \"Hamlet\" films made each decade."
   ]
  },
  {
   "cell_type": "code",
   "execution_count": 32,
   "metadata": {},
   "outputs": [
    {
     "data": {
      "text/plain": [
       "array(['Closet Monster', 'Suuri illusioni', 'Battle of the Sexes', ...,\n",
       "       'Skammdegi', 'U.S.S.S.S...', 'Bye Bye Blue Bird'], dtype=object)"
      ]
     },
     "execution_count": 32,
     "metadata": {},
     "output_type": "execute_result"
    }
   ],
   "source": [
    "import numpy as np\n",
    "titledata=np.array(cast[\"title\"])\n",
    "titledata\n",
    "    "
   ]
  },
  {
   "cell_type": "code",
   "execution_count": 30,
   "metadata": {},
   "outputs": [
    {
     "data": {
      "text/html": [
       "<div>\n",
       "<style scoped>\n",
       "    .dataframe tbody tr th:only-of-type {\n",
       "        vertical-align: middle;\n",
       "    }\n",
       "\n",
       "    .dataframe tbody tr th {\n",
       "        vertical-align: top;\n",
       "    }\n",
       "\n",
       "    .dataframe thead th {\n",
       "        text-align: right;\n",
       "    }\n",
       "</style>\n",
       "<table border=\"1\" class=\"dataframe\">\n",
       "  <thead>\n",
       "    <tr style=\"text-align: right;\">\n",
       "      <th></th>\n",
       "      <th>title</th>\n",
       "      <th>year</th>\n",
       "      <th>name</th>\n",
       "      <th>type</th>\n",
       "      <th>character</th>\n",
       "      <th>n</th>\n",
       "    </tr>\n",
       "  </thead>\n",
       "  <tbody>\n",
       "    <tr>\n",
       "      <th>0</th>\n",
       "      <td>Closet Monster</td>\n",
       "      <td>2015</td>\n",
       "      <td>Buffy #1</td>\n",
       "      <td>actor</td>\n",
       "      <td>Buffy 4</td>\n",
       "      <td>NaN</td>\n",
       "    </tr>\n",
       "    <tr>\n",
       "      <th>1</th>\n",
       "      <td>Suuri illusioni</td>\n",
       "      <td>1985</td>\n",
       "      <td>Homo $</td>\n",
       "      <td>actor</td>\n",
       "      <td>Guests</td>\n",
       "      <td>22.0</td>\n",
       "    </tr>\n",
       "  </tbody>\n",
       "</table>\n",
       "</div>"
      ],
      "text/plain": [
       "             title  year      name   type character     n\n",
       "0   Closet Monster  2015  Buffy #1  actor   Buffy 4   NaN\n",
       "1  Suuri illusioni  1985    Homo $  actor    Guests  22.0"
      ]
     },
     "execution_count": 30,
     "metadata": {},
     "output_type": "execute_result"
    }
   ],
   "source": [
    "cast.head(2)"
   ]
  },
  {
   "cell_type": "code",
   "execution_count": 33,
   "metadata": {},
   "outputs": [
    {
     "name": "stdout",
     "output_type": "stream",
     "text": [
      "          title  year              name     type              character     n\n",
      "1615     Hamlet  1996        Riz Abbasi    actor  Attendant to Claudius   1.0\n",
      "7438     Hamlet  1921  Fritz Achterberg    actor            Fortinbras,   9.0\n",
      "11242    Hamlet  2009      Hayden Adams    actor                Laertes   7.0\n",
      "11243    Hamlet  2009      Hayden Adams    actor                 Player   7.0\n",
      "13907    Hamlet  1913       Eric Adeney    actor               Reynaldo  14.0\n",
      "...         ...   ...               ...      ...                    ...   ...\n",
      "3505738  Hamlet  1969    Jennifer Tudor  actress             Court lady  23.0\n",
      "3528322  Hamlet  2000      Diane Venora  actress               Gertrude   3.0\n",
      "3557773  Hamlet  1996     Perdita Weeks  actress          Second Player  44.0\n",
      "3562331  Hamlet  2015   Katie (II) West  actress                Ophelia   7.0\n",
      "3578802  Hamlet  1996      Kate Winslet  actress                Ophelia  46.0\n",
      "\n",
      "[313 rows x 6 columns]\n"
     ]
    }
   ],
   "source": [
    "hamlet=cast[cast['title'].isin(['Hamlet'])]\n",
    "print(hamlet)"
   ]
  },
  {
   "cell_type": "code",
   "execution_count": 42,
   "metadata": {},
   "outputs": [
    {
     "data": {
      "text/plain": [
       "array([1996, 1921, 2009, 2009, 1913, 2000, 1964, 1964, 1964, 1913, 1990,\n",
       "       1969, 2015, 1996, 1948, 1913, 2000, 1990, 1996, 1973, 1913, 1996,\n",
       "       1996, 1996, 1996, 1996, 1996, 1964, 1973, 1948, 1996, 2009, 2009,\n",
       "       2009, 1996, 1969, 1990, 2011, 1969, 1969, 1921, 1913, 1964, 1976,\n",
       "       1964, 1996, 1964, 1964, 1948, 1996, 1973, 1921, 1996, 1969, 1990,\n",
       "       1996, 1990, 1996, 1964, 1990, 1964, 1964, 1996, 1996, 1969, 1913,\n",
       "       1964, 1964, 1964, 1990, 1969, 1990, 1996, 1996, 2000, 2000, 1913,\n",
       "       1964, 2011, 1969, 1964, 2000, 1964, 1990, 1964, 1996, 1969, 2000,\n",
       "       2015, 2000, 1969, 2009, 2009, 2000, 1964, 2000, 1913, 1973, 1911,\n",
       "       1996, 1964, 1990, 1948, 1990, 1969, 1964, 1964, 2009, 2009, 2009,\n",
       "       1996, 1969, 1996, 1969, 1921, 1996, 1948, 2000, 1911, 1948, 1948,\n",
       "       1996, 1969, 1969, 1948, 1969, 2011, 1990, 1948, 1948, 2000, 1948,\n",
       "       2000, 1996, 1990, 1996, 2000, 2000, 1996, 1990, 1973, 2000, 2009,\n",
       "       1990, 1976, 1976, 1976, 1976, 1964, 1996, 1996, 1913, 1996, 1948,\n",
       "       1910, 2000, 1990, 2000, 2000, 1911, 2015, 2015, 2015, 1948, 1990,\n",
       "       1990, 1913, 1969, 1990, 2009, 2000, 1948, 1964, 1969, 2011, 1964,\n",
       "       1913, 1913, 1990, 1913, 1913, 2011, 2000, 2000, 1964, 1913, 1973,\n",
       "       1913, 1913, 1996, 2000, 2009, 1990, 1913, 1996, 1996, 2000, 1976,\n",
       "       1976, 1976, 2015, 2015, 2011, 2015, 1996, 1987, 1996, 2011, 1976,\n",
       "       1964, 1921, 2015, 2015, 2015, 2011, 1948, 1996, 1948, 1996, 1948,\n",
       "       2000, 2000, 2011, 1969, 1948, 1921, 1964, 1996, 1990, 1948, 1996,\n",
       "       1969, 2011, 1948, 2000, 1996, 1990, 1964, 1996, 2000, 1911, 2015,\n",
       "       2011, 1990, 2015, 2015, 1964, 2015, 1990, 1913, 1921, 2015, 2015,\n",
       "       1973, 2009, 1996, 1990, 2000, 1948, 1996, 2000, 1996, 1913, 1969,\n",
       "       2000, 1996, 2011, 2000, 1996, 1948, 1964, 1987, 1969, 1921, 2000,\n",
       "       1973, 1996, 1911, 1996, 1948, 2000, 1964, 2015, 2015, 2015, 2009,\n",
       "       2009, 1976, 1976, 1921, 2000, 1969, 2015, 1990, 1996, 1996, 2000,\n",
       "       1987, 1913, 1911, 2000, 1948, 1990, 1990, 1954, 2000, 2009, 1964,\n",
       "       1969, 2000, 1996, 2015, 1996], dtype=int64)"
      ]
     },
     "execution_count": 42,
     "metadata": {},
     "output_type": "execute_result"
    }
   ],
   "source": [
    "import numpy as np\n",
    "year_ham=np.array(hamlet[\"year\"])\n",
    "year_ham  "
   ]
  },
  {
   "cell_type": "code",
   "execution_count": 43,
   "metadata": {},
   "outputs": [
    {
     "data": {
      "text/plain": [
       "1910"
      ]
     },
     "execution_count": 43,
     "metadata": {},
     "output_type": "execute_result"
    }
   ],
   "source": [
    "min(year_ham)"
   ]
  },
  {
   "cell_type": "code",
   "execution_count": 36,
   "metadata": {},
   "outputs": [
    {
     "data": {
      "text/plain": [
       "2023"
      ]
     },
     "execution_count": 36,
     "metadata": {},
     "output_type": "execute_result"
    }
   ],
   "source": [
    "max(year_ham)"
   ]
  },
  {
   "cell_type": "code",
   "execution_count": 44,
   "metadata": {},
   "outputs": [
    {
     "data": {
      "text/plain": [
       "313"
      ]
     },
     "execution_count": 44,
     "metadata": {},
     "output_type": "execute_result"
    }
   ],
   "source": [
    "len(year_ham)"
   ]
  },
  {
   "cell_type": "code",
   "execution_count": 45,
   "metadata": {},
   "outputs": [],
   "source": [
    "list111=np.array([])\n",
    "list112=np.array([])\n",
    "list113=np.array([])\n",
    "list114=np.array([])\n",
    "list115=np.array([])\n",
    "list116=np.array([])\n",
    "list117=np.array([])\n",
    "list118=np.array([])\n",
    "list119=np.array([])\n",
    "list120=np.array([])\n",
    "list121=np.array([])\n",
    "list122=np.array([])"
   ]
  },
  {
   "cell_type": "code",
   "execution_count": 46,
   "metadata": {},
   "outputs": [
    {
     "name": "stdout",
     "output_type": "stream",
     "text": [
      "28\n",
      "9\n",
      "0\n",
      "24\n",
      "1\n",
      "57\n",
      "19\n",
      "3\n",
      "83\n",
      "55\n",
      "34\n",
      "0\n"
     ]
    }
   ],
   "source": [
    "for i in year_ham:\n",
    "    if i<1920:\n",
    "        list111=np.append(list111,i)\n",
    "    elif i<1930:\n",
    "        list112=np.append(list112,i)\n",
    "    elif i<1940:\n",
    "        list113=np.append(list113,i)\n",
    "    elif i<1950:\n",
    "        list114=np.append(list114,i)\n",
    "    elif i<1960:\n",
    "        list115=np.append(list115,i)    \n",
    "    elif i<1970:\n",
    "        list116=np.append(list116,i)\n",
    "    elif i<1980:\n",
    "        list117=np.append(list117,i)   \n",
    "    elif i<1990:\n",
    "        list118=np.append(list118,i)\n",
    "    elif i<2000:\n",
    "        list119=np.append(list119,i)\n",
    "    elif i<2010:\n",
    "        list120=np.append(list120,i)\n",
    "    elif i<2020:\n",
    "        list121=np.append(list121,i)\n",
    "    elif i<2030:\n",
    "        list122=np.append(list122,i)\n",
    "print(len(list111))\n",
    "print(len(list112))\n",
    "print(len(list113))\n",
    "print(len(list114))\n",
    "print(len(list115))\n",
    "print(len(list116))\n",
    "print(len(list117))\n",
    "print(len(list118))\n",
    "print(len(list119))\n",
    "print(len(list120))\n",
    "print(len(list121))\n",
    "print(len(list122))       "
   ]
  },
  {
   "cell_type": "code",
   "execution_count": 57,
   "metadata": {},
   "outputs": [
    {
     "data": {
      "text/html": [
       "<div>\n",
       "<style scoped>\n",
       "    .dataframe tbody tr th:only-of-type {\n",
       "        vertical-align: middle;\n",
       "    }\n",
       "\n",
       "    .dataframe tbody tr th {\n",
       "        vertical-align: top;\n",
       "    }\n",
       "\n",
       "    .dataframe thead th {\n",
       "        text-align: right;\n",
       "    }\n",
       "</style>\n",
       "<table border=\"1\" class=\"dataframe\">\n",
       "  <thead>\n",
       "    <tr style=\"text-align: right;\">\n",
       "      <th></th>\n",
       "      <th>Number of movies</th>\n",
       "    </tr>\n",
       "  </thead>\n",
       "  <tbody>\n",
       "    <tr>\n",
       "      <th>1910's</th>\n",
       "      <td>28</td>\n",
       "    </tr>\n",
       "    <tr>\n",
       "      <th>1920's</th>\n",
       "      <td>9</td>\n",
       "    </tr>\n",
       "    <tr>\n",
       "      <th>1930's</th>\n",
       "      <td>0</td>\n",
       "    </tr>\n",
       "    <tr>\n",
       "      <th>1940's</th>\n",
       "      <td>24</td>\n",
       "    </tr>\n",
       "    <tr>\n",
       "      <th>1950's</th>\n",
       "      <td>1</td>\n",
       "    </tr>\n",
       "    <tr>\n",
       "      <th>1960's</th>\n",
       "      <td>57</td>\n",
       "    </tr>\n",
       "    <tr>\n",
       "      <th>1970's</th>\n",
       "      <td>19</td>\n",
       "    </tr>\n",
       "    <tr>\n",
       "      <th>1980's</th>\n",
       "      <td>3</td>\n",
       "    </tr>\n",
       "    <tr>\n",
       "      <th>1990's</th>\n",
       "      <td>83</td>\n",
       "    </tr>\n",
       "    <tr>\n",
       "      <th>2000's</th>\n",
       "      <td>55</td>\n",
       "    </tr>\n",
       "    <tr>\n",
       "      <th>2010's</th>\n",
       "      <td>34</td>\n",
       "    </tr>\n",
       "    <tr>\n",
       "      <th>2020's</th>\n",
       "      <td>0</td>\n",
       "    </tr>\n",
       "  </tbody>\n",
       "</table>\n",
       "</div>"
      ],
      "text/plain": [
       "        Number of movies\n",
       "1910's                28\n",
       "1920's                 9\n",
       "1930's                 0\n",
       "1940's                24\n",
       "1950's                 1\n",
       "1960's                57\n",
       "1970's                19\n",
       "1980's                 3\n",
       "1990's                83\n",
       "2000's                55\n",
       "2010's                34\n",
       "2020's                 0"
      ]
     },
     "execution_count": 57,
     "metadata": {},
     "output_type": "execute_result"
    }
   ],
   "source": [
    "new_ham=pd.DataFrame(([28],[9],[0],[24],[1],[57],[19],[3],[83],[55],[34],[0]),\n",
    "                    index=([\"1910's\",\"1920's\",\"1930's\",\"1940's\",\"1950's\",\"1960's\",\"1970's\",\"1980's\",\"1990's\",\"2000's\",\"2010's\",\"2020's\"]),\n",
    "                    columns=([\"Number of movies\"]))\n",
    "new_ham"
   ]
  },
  {
   "cell_type": "code",
   "execution_count": 59,
   "metadata": {},
   "outputs": [
    {
     "data": {
      "text/plain": [
       "<Axes: xlabel='Each decade', ylabel='Hamlet movies'>"
      ]
     },
     "execution_count": 59,
     "metadata": {},
     "output_type": "execute_result"
    },
    {
     "data": {
      "image/png": "[encoded data removed]",
      "text/plain": [
       "<Figure size 640x480 with 1 Axes>"
      ]
     },
     "metadata": {},
     "output_type": "display_data"
    }
   ],
   "source": [
    "new_ham[\"Number of movies\"].plot(kind=\"barh\",xlabel=\"Each decade\",ylabel=\"Hamlet movies\",legend=True)"
   ]
  },
  {
   "cell_type": "markdown",
   "metadata": {},
   "source": [
    "More number movies were made in the 1990's.\n",
    "Least number of movies were made in the1950's.\n",
    "No movies were made in the 1930's.\n"
   ]
  },
  {
   "cell_type": "markdown",
   "metadata": {
    "collapsed": true
   },
   "source": [
    "### Plot the number of \"Rustler\" characters in each decade of the history of film."
   ]
  },
  {
   "cell_type": "code",
   "execution_count": 65,
   "metadata": {},
   "outputs": [
    {
     "name": "stdout",
     "output_type": "stream",
     "text": [
      "                          title  year               name   type character  \\\n",
      "12939              Pinto Canyon  1940     Victor Adamson  actor   Rustler   \n",
      "13071         Two Gun Troubador  1939     Victor Adamson  actor   Rustler   \n",
      "43474            The Last Stand  1938        Gene Alsace  actor   Rustler   \n",
      "75334                    Wanted  1967         Bruno Ari?  actor   Rustler   \n",
      "93303             Silent Valley  1935       Jimmy Aubrey  actor   Rustler   \n",
      "...                         ...   ...                ...    ...       ...   \n",
      "2347048  The Mysterious Avenger  1936  Blackie Whiteford  actor   Rustler   \n",
      "2347659            The Marksman  1953      Russ Whiteman  actor   Rustler   \n",
      "2367579             The Cowboys  1972        Henry Wills  actor   Rustler   \n",
      "2389802        The Frontiersmen  1938  Bob (II) Woodward  actor   Rustler   \n",
      "2415232             The Cowboys  1972       Joe Yrigoyen  actor   Rustler   \n",
      "\n",
      "            n  \n",
      "12939     NaN  \n",
      "13071     NaN  \n",
      "43474     NaN  \n",
      "75334     NaN  \n",
      "93303     NaN  \n",
      "...       ...  \n",
      "2347048   NaN  \n",
      "2347659   9.0  \n",
      "2367579  42.0  \n",
      "2389802   NaN  \n",
      "2415232  43.0  \n",
      "\n",
      "[134 rows x 6 columns]\n"
     ]
    }
   ],
   "source": [
    "Rust=cast[cast['character'].isin(['Rustler'])]\n",
    "print(Rust)"
   ]
  },
  {
   "cell_type": "code",
   "execution_count": 66,
   "metadata": {},
   "outputs": [
    {
     "data": {
      "text/plain": [
       "array([1940, 1939, 1938, 1967, 1935, 1952, 1929, 1940, 1938, 1932, 1938,\n",
       "       1934, 1928, 1972, 1934, 1946, 1934, 1938, 1946, 1929, 1990, 1972,\n",
       "       1932, 1956, 1935, 1929, 1956, 1937, 1942, 1937, 1942, 1953, 1936,\n",
       "       1972, 1938, 1937, 1953, 1934, 1937, 1936, 1938, 1938, 1938, 1937,\n",
       "       1932, 1972, 1972, 1936, 1934, 1960, 1935, 1934, 1999, 1999, 1941,\n",
       "       1934, 1946, 1972, 1938, 1937, 1935, 1938, 1953, 1942, 1937, 1946,\n",
       "       1940, 1947, 1932, 1938, 1932, 1934, 2000, 1936, 1942, 1935, 1929,\n",
       "       1937, 1934, 1946, 1937, 1943, 1932, 1939, 1929, 1934, 1938, 1938,\n",
       "       1930, 1932, 1937, 1937, 1938, 1936, 1937, 1932, 1934, 1983, 1999,\n",
       "       1937, 1938, 1934, 1937, 1938, 1972, 1932, 2000, 1932, 1936, 1932,\n",
       "       1942, 1953, 1933, 1932, 1937, 1932, 1931, 1935, 1938, 1943, 1940,\n",
       "       1934, 1938, 1938, 1936, 1935, 1932, 1934, 1934, 1936, 1953, 1972,\n",
       "       1938, 1972], dtype=int64)"
      ]
     },
     "execution_count": 66,
     "metadata": {},
     "output_type": "execute_result"
    }
   ],
   "source": [
    "year_rust=np.array(Rust[\"year\"])\n",
    "year_rust"
   ]
  },
  {
   "cell_type": "code",
   "execution_count": 67,
   "metadata": {},
   "outputs": [
    {
     "data": {
      "text/plain": [
       "1928"
      ]
     },
     "execution_count": 67,
     "metadata": {},
     "output_type": "execute_result"
    }
   ],
   "source": [
    "min(year_rust)"
   ]
  },
  {
   "cell_type": "code",
   "execution_count": 68,
   "metadata": {},
   "outputs": [
    {
     "data": {
      "text/plain": [
       "2000"
      ]
     },
     "execution_count": 68,
     "metadata": {},
     "output_type": "execute_result"
    }
   ],
   "source": [
    "max(year_rust)"
   ]
  },
  {
   "cell_type": "code",
   "execution_count": 69,
   "metadata": {},
   "outputs": [
    {
     "data": {
      "text/plain": [
       "134"
      ]
     },
     "execution_count": 69,
     "metadata": {},
     "output_type": "execute_result"
    }
   ],
   "source": [
    "len(year_rust)"
   ]
  },
  {
   "cell_type": "code",
   "execution_count": 70,
   "metadata": {},
   "outputs": [],
   "source": [
    "list211=np.array([])\n",
    "list212=np.array([])\n",
    "list213=np.array([])\n",
    "list214=np.array([])\n",
    "list215=np.array([])\n",
    "list216=np.array([])\n",
    "list217=np.array([])\n",
    "list218=np.array([])\n",
    "list219=np.array([])"
   ]
  },
  {
   "cell_type": "code",
   "execution_count": 71,
   "metadata": {},
   "outputs": [
    {
     "name": "stdout",
     "output_type": "stream",
     "text": [
      "37\n",
      "0\n",
      "24\n",
      "1\n",
      "57\n",
      "19\n",
      "3\n",
      "83\n",
      "55\n"
     ]
    }
   ],
   "source": [
    "for i in year_ham:\n",
    "    if i<1930:\n",
    "        list211=np.append(list211,i)\n",
    "    elif i<1940:\n",
    "        list112=np.append(list212,i)\n",
    "    elif i<1950:\n",
    "        list213=np.append(list213,i)\n",
    "    elif i<1960:\n",
    "        list214=np.append(list214,i)\n",
    "    elif i<1970:\n",
    "        list215=np.append(list215,i)    \n",
    "    elif i<1980:\n",
    "        list216=np.append(list216,i)\n",
    "    elif i<1990:\n",
    "        list217=np.append(list217,i)   \n",
    "    elif i<2000:\n",
    "        list218=np.append(list218,i)\n",
    "    elif i<2010:\n",
    "        list219=np.append(list219,i)\n",
    "print(len(list211))\n",
    "print(len(list212))\n",
    "print(len(list213))\n",
    "print(len(list214))\n",
    "print(len(list215))\n",
    "print(len(list216))\n",
    "print(len(list217))\n",
    "print(len(list218))\n",
    "print(len(list219))"
   ]
  },
  {
   "cell_type": "code",
   "execution_count": 73,
   "metadata": {},
   "outputs": [
    {
     "data": {
      "text/html": [
       "<div>\n",
       "<style scoped>\n",
       "    .dataframe tbody tr th:only-of-type {\n",
       "        vertical-align: middle;\n",
       "    }\n",
       "\n",
       "    .dataframe tbody tr th {\n",
       "        vertical-align: top;\n",
       "    }\n",
       "\n",
       "    .dataframe thead th {\n",
       "        text-align: right;\n",
       "    }\n",
       "</style>\n",
       "<table border=\"1\" class=\"dataframe\">\n",
       "  <thead>\n",
       "    <tr style=\"text-align: right;\">\n",
       "      <th></th>\n",
       "      <th>Number of movies</th>\n",
       "    </tr>\n",
       "  </thead>\n",
       "  <tbody>\n",
       "    <tr>\n",
       "      <th>1920's</th>\n",
       "      <td>37</td>\n",
       "    </tr>\n",
       "    <tr>\n",
       "      <th>1930's</th>\n",
       "      <td>0</td>\n",
       "    </tr>\n",
       "    <tr>\n",
       "      <th>1940's</th>\n",
       "      <td>24</td>\n",
       "    </tr>\n",
       "    <tr>\n",
       "      <th>1950's</th>\n",
       "      <td>1</td>\n",
       "    </tr>\n",
       "    <tr>\n",
       "      <th>1960's</th>\n",
       "      <td>57</td>\n",
       "    </tr>\n",
       "    <tr>\n",
       "      <th>1970's</th>\n",
       "      <td>19</td>\n",
       "    </tr>\n",
       "    <tr>\n",
       "      <th>1980's</th>\n",
       "      <td>3</td>\n",
       "    </tr>\n",
       "    <tr>\n",
       "      <th>1990's</th>\n",
       "      <td>83</td>\n",
       "    </tr>\n",
       "    <tr>\n",
       "      <th>2000's</th>\n",
       "      <td>55</td>\n",
       "    </tr>\n",
       "  </tbody>\n",
       "</table>\n",
       "</div>"
      ],
      "text/plain": [
       "        Number of movies\n",
       "1920's                37\n",
       "1930's                 0\n",
       "1940's                24\n",
       "1950's                 1\n",
       "1960's                57\n",
       "1970's                19\n",
       "1980's                 3\n",
       "1990's                83\n",
       "2000's                55"
      ]
     },
     "execution_count": 73,
     "metadata": {},
     "output_type": "execute_result"
    }
   ],
   "source": [
    "rust_df=pd.DataFrame(([37],[0],[24],[1],[57],[19],[3],[83],[55]),\n",
    "                    index=([\"1920's\",\"1930's\",\"1940's\",\"1950's\",\"1960's\",\"1970's\",\"1980's\",\"1990's\",\"2000's\"]),\n",
    "                    columns=([\"Number of movies\"]))\n",
    "rust_df"
   ]
  },
  {
   "cell_type": "code",
   "execution_count": 84,
   "metadata": {},
   "outputs": [
    {
     "data": {
      "text/plain": [
       "<Axes: title={'center': 'Rustler character'}, xlabel='Number of movies', ylabel='Hamlet movies'>"
      ]
     },
     "execution_count": 84,
     "metadata": {},
     "output_type": "execute_result"
    },
    {
     "data": {
      "image/png": "[encoded data removed]",
      "text/plain": [
       "<Figure size 640x480 with 1 Axes>"
      ]
     },
     "metadata": {},
     "output_type": "display_data"
    }
   ],
   "source": [
    "rust_df[\"Number of movies\"].plot(title=\"Rustler character\",kind=\"area\",style=[\"g\"],\n",
    "                                 xlabel=\"Number of movies\",ylabel=\"Hamlet movies\",grid=True,legend=False)"
   ]
  },
  {
   "cell_type": "markdown",
   "metadata": {},
   "source": [
    "In the 1990's the Rustler character was most played.\n",
    "Whereas it was very less played during the 1930's,1950's and 1980's."
   ]
  },
  {
   "cell_type": "markdown",
   "metadata": {
    "collapsed": true
   },
   "source": [
    "### Plot the number of \"Hamlet\" characters each decade."
   ]
  },
  {
   "cell_type": "code",
   "execution_count": 85,
   "metadata": {},
   "outputs": [
    {
     "name": "stdout",
     "output_type": "stream",
     "text": [
      "                                 title  year               name     type  \\\n",
      "6003                             Sugar  2008       Hamlet Abreu    actor   \n",
      "94018                  Top of the Town  1937        Mischa Auer    actor   \n",
      "120093             The Sound of Spying  2014      Jonathan Ball    actor   \n",
      "154451                Suivez cet avion  1989  Fran?ois Beaulieu    actor   \n",
      "154754          Nous sommes les autres  2017       Marc Beaupr?    actor   \n",
      "...                                ...   ...                ...      ...   \n",
      "2517189                       Hamlet_X  2003       Meret Becker  actress   \n",
      "2622924  Bill Shakespeare in Hollywood  2011    Rafika Chawishe  actress   \n",
      "2825750    Intikam Melegi/Kadin Hamlet  1976        Fatma Girik  actress   \n",
      "3209199                         Hamlet  1921       Asta Nielsen  actress   \n",
      "3256505                         Hamlet  2015       Maxine Peake  actress   \n",
      "\n",
      "        character     n  \n",
      "6003       Hamlet  58.0  \n",
      "94018      Hamlet   6.0  \n",
      "120093     Hamlet   NaN  \n",
      "154451     Hamlet  26.0  \n",
      "154754     Hamlet   NaN  \n",
      "...           ...   ...  \n",
      "2517189    Hamlet   NaN  \n",
      "2622924    Hamlet   NaN  \n",
      "2825750    Hamlet   1.0  \n",
      "3209199    Hamlet   1.0  \n",
      "3256505    Hamlet   1.0  \n",
      "\n",
      "[91 rows x 6 columns]\n"
     ]
    }
   ],
   "source": [
    "Ham_char=cast[cast['character'].isin(['Hamlet'])]\n",
    "print(Ham_char)"
   ]
  },
  {
   "cell_type": "code",
   "execution_count": 86,
   "metadata": {},
   "outputs": [
    {
     "data": {
      "text/plain": [
       "array([2008, 1937, 2014, 1989, 2017, 2007, 1973, 1935, 1996, 1977, 1964,\n",
       "       1910, 2005, 2014, 2016, 1999, 1995, 1965, 2016, 1965, 1935, 2007,\n",
       "       2008, 2016, 1913, 1993, 2014, 1952, 1990, 1990, 2016, 2008, 1991,\n",
       "       2012, 1969, 2000, 1954, 2005, 2011, 2010, 2003, 2009, 2016, 2000,\n",
       "       1973, 2000, 1936, 2009, 1976, 1976, 2007, 1935, 1933, 1910, 2009,\n",
       "       1911, 2016, 1959, 2012, 1987, 1995, 2017, 2007, 1991, 2011, 1914,\n",
       "       1917, 1964, 2012, 1992, 2014, 1974, 2009, 1949, 1964, 2009, 2012,\n",
       "       2017, 2010, 2015, 2015, 2015, 1969, 1972, 2014, 1997, 2003, 2011,\n",
       "       1976, 1921, 2015], dtype=int64)"
      ]
     },
     "execution_count": 86,
     "metadata": {},
     "output_type": "execute_result"
    }
   ],
   "source": [
    "year_hamchar=np.array(Ham_char[\"year\"])\n",
    "year_hamchar"
   ]
  },
  {
   "cell_type": "code",
   "execution_count": 87,
   "metadata": {},
   "outputs": [
    {
     "data": {
      "text/plain": [
       "1910"
      ]
     },
     "execution_count": 87,
     "metadata": {},
     "output_type": "execute_result"
    }
   ],
   "source": [
    "min(year_hamchar)"
   ]
  },
  {
   "cell_type": "code",
   "execution_count": 88,
   "metadata": {},
   "outputs": [
    {
     "data": {
      "text/plain": [
       "2017"
      ]
     },
     "execution_count": 88,
     "metadata": {},
     "output_type": "execute_result"
    }
   ],
   "source": [
    "max(year_hamchar)"
   ]
  },
  {
   "cell_type": "code",
   "execution_count": 89,
   "metadata": {},
   "outputs": [],
   "source": [
    "list311=np.array([])\n",
    "list312=np.array([])\n",
    "list313=np.array([])\n",
    "list314=np.array([])\n",
    "list315=np.array([])\n",
    "list316=np.array([])\n",
    "list317=np.array([])\n",
    "list318=np.array([])\n",
    "list319=np.array([])\n",
    "list320=np.array([])\n",
    "list321=np.array([])"
   ]
  },
  {
   "cell_type": "code",
   "execution_count": 90,
   "metadata": {},
   "outputs": [
    {
     "name": "stdout",
     "output_type": "stream",
     "text": [
      "6\n",
      "1\n",
      "6\n",
      "1\n",
      "3\n",
      "7\n",
      "8\n",
      "2\n",
      "11\n",
      "0\n",
      "27\n"
     ]
    }
   ],
   "source": [
    "for i in year_hamchar:\n",
    "    if i<1920:\n",
    "        list311=np.append(list311,i)\n",
    "    elif i<1930:\n",
    "        list312=np.append(list312,i)\n",
    "    elif i<1940:\n",
    "        list313=np.append(list313,i)\n",
    "    elif i<1950:\n",
    "        list314=np.append(list314,i)\n",
    "    elif i<1960:\n",
    "        list315=np.append(list315,i)    \n",
    "    elif i<1970:\n",
    "        list316=np.append(list316,i)\n",
    "    elif i<1980:\n",
    "        list317=np.append(list317,i)   \n",
    "    elif i<1990:\n",
    "        list318=np.append(list318,i)\n",
    "    elif i<2000:\n",
    "        list319=np.append(list319,i)\n",
    "    elif i<2010:\n",
    "        list220=np.append(list320,i)\n",
    "    elif i<2020:\n",
    "        list321=np.append(list321,i)\n",
    "print(len(list311))\n",
    "print(len(list312))\n",
    "print(len(list313))\n",
    "print(len(list314))\n",
    "print(len(list315))\n",
    "print(len(list316))\n",
    "print(len(list317))\n",
    "print(len(list318))\n",
    "print(len(list319))\n",
    "print(len(list320))\n",
    "print(len(list321))"
   ]
  },
  {
   "cell_type": "code",
   "execution_count": 96,
   "metadata": {},
   "outputs": [
    {
     "data": {
      "text/html": [
       "<div>\n",
       "<style scoped>\n",
       "    .dataframe tbody tr th:only-of-type {\n",
       "        vertical-align: middle;\n",
       "    }\n",
       "\n",
       "    .dataframe tbody tr th {\n",
       "        vertical-align: top;\n",
       "    }\n",
       "\n",
       "    .dataframe thead th {\n",
       "        text-align: right;\n",
       "    }\n",
       "</style>\n",
       "<table border=\"1\" class=\"dataframe\">\n",
       "  <thead>\n",
       "    <tr style=\"text-align: right;\">\n",
       "      <th></th>\n",
       "      <th>Number of characters</th>\n",
       "    </tr>\n",
       "  </thead>\n",
       "  <tbody>\n",
       "    <tr>\n",
       "      <th>1920's</th>\n",
       "      <td>6</td>\n",
       "    </tr>\n",
       "    <tr>\n",
       "      <th>1930's</th>\n",
       "      <td>1</td>\n",
       "    </tr>\n",
       "    <tr>\n",
       "      <th>1940's</th>\n",
       "      <td>6</td>\n",
       "    </tr>\n",
       "    <tr>\n",
       "      <th>1950's</th>\n",
       "      <td>1</td>\n",
       "    </tr>\n",
       "    <tr>\n",
       "      <th>1960's</th>\n",
       "      <td>3</td>\n",
       "    </tr>\n",
       "    <tr>\n",
       "      <th>1970's</th>\n",
       "      <td>7</td>\n",
       "    </tr>\n",
       "    <tr>\n",
       "      <th>1980's</th>\n",
       "      <td>8</td>\n",
       "    </tr>\n",
       "    <tr>\n",
       "      <th>1990's</th>\n",
       "      <td>2</td>\n",
       "    </tr>\n",
       "    <tr>\n",
       "      <th>2000's</th>\n",
       "      <td>11</td>\n",
       "    </tr>\n",
       "    <tr>\n",
       "      <th>2010's</th>\n",
       "      <td>0</td>\n",
       "    </tr>\n",
       "    <tr>\n",
       "      <th>2020's</th>\n",
       "      <td>27</td>\n",
       "    </tr>\n",
       "  </tbody>\n",
       "</table>\n",
       "</div>"
      ],
      "text/plain": [
       "        Number of characters\n",
       "1920's                     6\n",
       "1930's                     1\n",
       "1940's                     6\n",
       "1950's                     1\n",
       "1960's                     3\n",
       "1970's                     7\n",
       "1980's                     8\n",
       "1990's                     2\n",
       "2000's                    11\n",
       "2010's                     0\n",
       "2020's                    27"
      ]
     },
     "execution_count": 96,
     "metadata": {},
     "output_type": "execute_result"
    }
   ],
   "source": [
    "ham_char_df=pd.DataFrame(([6],[1],[6],[1],[3],[7],[8],[2],[11],[0],[27]),\n",
    "                     index=([\"1920's\",\"1930's\",\"1940's\",\"1950's\",\"1960's\",\"1970's\",\"1980's\",\"1990's\",\"2000's\",\"2010's\",\"2020's\"]),\n",
    "                    columns=([\"Number of characters\"]))\n",
    "ham_char_df"
   ]
  },
  {
   "cell_type": "code",
   "execution_count": 101,
   "metadata": {},
   "outputs": [
    {
     "data": {
      "text/plain": [
       "<Axes: title={'center': 'Hamlet characters of each decade'}, xlabel='Each Decade', ylabel='number of characters'>"
      ]
     },
     "execution_count": 101,
     "metadata": {},
     "output_type": "execute_result"
    },
    {
     "data": {
      "image/png": "[encoded data removed]",
      "text/plain": [
       "<Figure size 1000x400 with 1 Axes>"
      ]
     },
     "metadata": {},
     "output_type": "display_data"
    }
   ],
   "source": [
    "ham_char_df[\"Number of characters\"].plot(title=\"Hamlet characters of each decade\",legend=True,\n",
    "                                             kind=\"bar\",grid=True,\n",
    "                                             fontsize=15,\n",
    "                                             ylabel=\"number of characters\",\n",
    "                                             xlabel=\"Each Decade\",\n",
    "                                             style=[\"r\"],\n",
    "                                             figsize=(10,4))"
   ]
  },
  {
   "cell_type": "raw",
   "metadata": {},
   "source": [
    " The least number of characters were played during 1930's and 1950's.\n",
    " No character was played during 2010's.\n",
    " The maximum number of characters were played during 2020's."
   ]
  },
  {
   "cell_type": "markdown",
   "metadata": {
    "collapsed": true
   },
   "source": [
    "### What are the 11 most common character names in movie history?"
   ]
  },
  {
   "cell_type": "code",
   "execution_count": 19,
   "metadata": {},
   "outputs": [
    {
     "data": {
      "text/plain": [
       "character\n",
       "Himself        19486\n",
       "Dancer         11995\n",
       "Extra          10887\n",
       "Reporter        8127\n",
       "Doctor          7402\n",
       "Student         7146\n",
       "Policeman       6855\n",
       "Party Guest     6718\n",
       "Nurse           6637\n",
       "Bartender       6583\n",
       "Minor Role      6219\n",
       "Name: count, dtype: int64"
      ]
     },
     "execution_count": 19,
     "metadata": {},
     "output_type": "execute_result"
    }
   ],
   "source": [
    "title_data.character.value_counts().head(11)"
   ]
  },
  {
   "cell_type": "markdown",
   "metadata": {
    "collapsed": true
   },
   "source": [
    "Above 11 names are the most common characters in the movie history"
   ]
  },
  {
   "cell_type": "markdown",
   "metadata": {
    "collapsed": true
   },
   "source": [
    "### Who are the 10 people most often credited as \"Herself\" in film history?"
   ]
  },
  {
   "cell_type": "code",
   "execution_count": null,
   "metadata": {
    "collapsed": true
   },
   "outputs": [],
   "source": []
  },
  {
   "cell_type": "code",
   "execution_count": null,
   "metadata": {
    "collapsed": true
   },
   "outputs": [],
   "source": []
  },
  {
   "cell_type": "markdown",
   "metadata": {
    "collapsed": true
   },
   "source": [
    "### Who are the 10 people most often credited as \"Himself\" in film history?"
   ]
  },
  {
   "cell_type": "code",
   "execution_count": null,
   "metadata": {
    "collapsed": true
   },
   "outputs": [],
   "source": []
  },
  {
   "cell_type": "code",
   "execution_count": null,
   "metadata": {
    "collapsed": true
   },
   "outputs": [],
   "source": []
  },
  {
   "cell_type": "markdown",
   "metadata": {
    "collapsed": true
   },
   "source": [
    "### Which actors or actresses appeared in the most movies in the year 1945?"
   ]
  },
  {
   "cell_type": "code",
   "execution_count": 104,
   "metadata": {},
   "outputs": [
    {
     "name": "stdout",
     "output_type": "stream",
     "text": [
      "                                            title  year               name  \\\n",
      "420                             Ristikon varjossa  1945    Heikki Aaltoila   \n",
      "834                          Kolmastoista koputus  1945    Kaarlo Aavajoki   \n",
      "837                      Valkoisen neilikan velho  1945    Kaarlo Aavajoki   \n",
      "1751                           God Is My Co-Pilot  1945          Leo Abbey   \n",
      "1884     Bud Abbott and Lou Costello in Hollywood  1945         Bud Abbott   \n",
      "...                                           ...   ...                ...   \n",
      "3610018                       Un beso en la noche  1945       Elba ?lvarez   \n",
      "3610215                     Den allvarsamma leken  1945  Inga-Lill ?hstr?m   \n",
      "3610221                                Resan bort  1945  Inga-Lill ?hstr?m   \n",
      "3610413                           La grande meute  1945  Paulette ?lambert   \n",
      "3610416                         La route du bagne  1945  Paulette ?lambert   \n",
      "\n",
      "            type                 character     n  \n",
      "420        actor                  Musician   NaN  \n",
      "834        actor                     Grisu  17.0  \n",
      "837        actor                     Romsu  10.0  \n",
      "1751       actor            Ground Crewman   NaN  \n",
      "1884       actor               Buzz Kurtis   1.0  \n",
      "...          ...                       ...   ...  \n",
      "3610018  actress                Secretaria   7.0  \n",
      "3610215  actress  Guest at Doncker's party   NaN  \n",
      "3610221  actress                     Nurse   NaN  \n",
      "3610413  actress                  Laurette   NaN  \n",
      "3610416  actress                La P?lotte   4.0  \n",
      "\n",
      "[18375 rows x 6 columns]\n"
     ]
    }
   ],
   "source": [
    "char_1945=cast[cast['year'].isin([1945])]\n",
    "print(char_1945)"
   ]
  },
  {
   "cell_type": "code",
   "execution_count": 108,
   "metadata": {},
   "outputs": [
    {
     "data": {
      "text/plain": [
       "name\n",
       "Emmett Vogan            39\n",
       "Sam (II) Harris         32\n",
       "Bess Flowers            29\n",
       "Harold Miller           29\n",
       "Frank O'Connor          27\n",
       "                        ..\n",
       "Larry (III) Jay          1\n",
       "Larisa Yemelyantseva     1\n",
       "Dulce Simone             1\n",
       "Laoura                   1\n",
       "'Big' Ben Moroz          1\n",
       "Name: count, Length: 7780, dtype: int64"
      ]
     },
     "execution_count": 108,
     "metadata": {},
     "output_type": "execute_result"
    }
   ],
   "source": [
    "char_1945.value_counts('name')"
   ]
  },
  {
   "cell_type": "markdown",
   "metadata": {},
   "source": [
    "## Emmett Vogan,Sam(II) Harris,Bess Flowers,Harold Miller have appeared in most number of \n",
    "## movies in the year 1945"
   ]
  },
  {
   "cell_type": "markdown",
   "metadata": {
    "collapsed": true
   },
   "source": [
    "### Which actors or actresses appeared in the most movies in the year 1985?"
   ]
  },
  {
   "cell_type": "code",
   "execution_count": 109,
   "metadata": {},
   "outputs": [
    {
     "name": "stdout",
     "output_type": "stream",
     "text": [
      "                      title  year                name     type      character  \\\n",
      "1           Suuri illusioni  1985              Homo $    actor         Guests   \n",
      "443        Hei kliffaa hei!  1985      Risto Aaltonen    actor     Taksikuski   \n",
      "475      Inferno in diretta  1985        Willie Aames    actor     Tommy Allo   \n",
      "596                Big Deal  1985           Bob Aaron    actor         Cabbie   \n",
      "615           A Chorus Line  1985          Eric Aaron    actor         Dancer   \n",
      "...                     ...   ...                 ...      ...            ...   \n",
      "3611002         Kanun adami  1985         Bahar ?ztan  actress          ?mran   \n",
      "3611004              Mahkum  1985         Bahar ?ztan  actress   Hemsire Ayse   \n",
      "3611031         Eroin hatti  1985    G?zin ?zyagcilar  actress          Bebek   \n",
      "3611170      Candan sevmeli  1985       Ayseg?l ?nsal  actress         Sermin   \n",
      "3611209           Skammdegi  1985  Dalla ??r?ard?ttir  actress  Hj?krunarkona   \n",
      "\n",
      "            n  \n",
      "1        22.0  \n",
      "443       9.0  \n",
      "475       3.0  \n",
      "596      20.0  \n",
      "615       NaN  \n",
      "...       ...  \n",
      "3611002   2.0  \n",
      "3611004   NaN  \n",
      "3611031   NaN  \n",
      "3611170   NaN  \n",
      "3611209   9.0  \n",
      "\n",
      "[27872 rows x 6 columns]\n"
     ]
    }
   ],
   "source": [
    "char_1985=cast[cast['year'].isin([1985])]\n",
    "print(char_1985)"
   ]
  },
  {
   "cell_type": "code",
   "execution_count": 111,
   "metadata": {},
   "outputs": [
    {
     "data": {
      "text/plain": [
       "name\n",
       "Shakti Kapoor      21\n",
       "Mammootty          21\n",
       "Sukumari           19\n",
       "Raj Babbar         15\n",
       "Aruna Irani        15\n",
       "                   ..\n",
       "Henning Jensen      1\n",
       "Hennie Velthuis     1\n",
       "Henki Kolstad       1\n",
       "Henk van Ulsen      1\n",
       "Kamel Cherif        1\n",
       "Name: count, Length: 22558, dtype: int64"
      ]
     },
     "execution_count": 111,
     "metadata": {},
     "output_type": "execute_result"
    }
   ],
   "source": [
    "char_1985.value_counts('name')"
   ]
  },
  {
   "cell_type": "markdown",
   "metadata": {},
   "source": [
    "## Shakthi Kapoor,Mammootty,Sukumari,RajBabbar,Aruna Irani have appeared in most numbers of movies in the year 1985. "
   ]
  },
  {
   "cell_type": "markdown",
   "metadata": {
    "collapsed": true
   },
   "source": [
    "### Plot how many roles Mammootty has played in each year of his career."
   ]
  },
  {
   "cell_type": "code",
   "execution_count": 113,
   "metadata": {},
   "outputs": [
    {
     "name": "stdout",
     "output_type": "stream",
     "text": [
      "                          title  year       name   type  \\\n",
      "1367407    1993 Bombay March 12  2011  Mammootty  actor   \n",
      "1367408    1993 Bombay March 12  2011  Mammootty  actor   \n",
      "1367409   Aa Neram Alppa Dooram  1985  Mammootty  actor   \n",
      "1367410               Aa Rathri  1983  Mammootty  actor   \n",
      "1367411  Aalkkoottathil Thaniye  1984  Mammootty  actor   \n",
      "...                         ...   ...        ...    ...   \n",
      "1367675             Vivekananda  1994  Mammootty  actor   \n",
      "1367676                   White  2016  Mammootty  actor   \n",
      "1367677                 Yaathra  1985  Mammootty  actor   \n",
      "1367678                Yavanika  1982  Mammootty  actor   \n",
      "1367679            Yugapurushan  2010  Mammootty  actor   \n",
      "\n",
      "                                      character    n  \n",
      "1367407                        Sathananda Bhatt  1.0  \n",
      "1367408                                   Samir  1.0  \n",
      "1367409                              Jameskutty  1.0  \n",
      "1367410                                    Ravi  1.0  \n",
      "1367411                                   Rajan  1.0  \n",
      "...                                         ...  ...  \n",
      "1367675                               Maharajah  NaN  \n",
      "1367676                             Prakash Roy  1.0  \n",
      "1367677                            Unnikrishnan  1.0  \n",
      "1367678  Jacob Eeraly (Sub Inspector of Police)  7.0  \n",
      "1367679                             K.C. Kuttan  NaN  \n",
      "\n",
      "[273 rows x 6 columns]\n"
     ]
    }
   ],
   "source": [
    "Mammootty_role=cast[cast['name'].isin(['Mammootty'])]\n",
    "print(Mammootty_role)"
   ]
  },
  {
   "cell_type": "code",
   "execution_count": 114,
   "metadata": {
    "scrolled": true
   },
   "outputs": [
    {
     "data": {
      "text/plain": [
       "array([2011, 2011, 1985, 1983, 1984, 2001, 1987, 1984, 1984, 1986, 1986,\n",
       "       1996, 1993, 1988, 2015, 1983, 1989, 1989, 1987, 1984, 1986, 1981,\n",
       "       1984, 1991, 1983, 1987, 2008, 2008, 1985, 1971, 2004, 1986, 2000,\n",
       "       1989, 1984, 1983, 1984, 2011, 1985, 1985, 1991, 1996, 2006, 2006,\n",
       "       2014, 2012, 2010, 2010, 2006, 2015, 1997, 2007, 2004, 2005, 1983,\n",
       "       1989, 2009, 2003, 2012, 2012, 2000, 2000, 2009, 2013, 2002, 2010,\n",
       "       2010, 1993, 2011, 2000, 2001, 1986, 1985, 2009, 2009, 1985, 1990,\n",
       "       1985, 1998, 1985, 1984, 1999, 2012, 2015, 1986, 2014, 1986, 2008,\n",
       "       1998, 1983, 1996, 1985, 2013, 1983, 1991, 1984, 1986, 1984, 1987,\n",
       "       1989, 2012, 1982, 2002, 2004, 2013, 2002, 1990, 1990, 1990, 1990,\n",
       "       1990, 1990, 1990, 2013, 1984, 1985, 1985, 2000, 1985, 1986, 2006,\n",
       "       2016, 2007, 1985, 2007, 2009, 2009, 1983, 1984, 1986, 2013, 1990,\n",
       "       2009, 1984, 1983, 2009, 2009, 1992, 1989, 1985, 2014, 1987, 1988,\n",
       "       1983, 2008, 2008, 2007, 1986, 1995, 1999, 1980, 1990, 2007, 1989,\n",
       "       1989, 1985, 1988, 2014, 1986, 2000, 2007, 1991, 1991, 2005, 1987,\n",
       "       1988, 1985, 1995, 1990, 1987, 1986, 1990, 2008, 1984, 1983, 1981,\n",
       "       1997, 2007, 1995, 1995, 1988, 1984, 1998, 1983, 1985, 1987, 1989,\n",
       "       1982, 1993, 1993, 2009, 2009, 2009, 1999, 2006, 1992, 1990, 1990,\n",
       "       1985, 2008, 2015, 2003, 1983, 2010, 1982, 1994, 1982, 2006, 2014,\n",
       "       2006, 2010, 2010, 1983, 1983, 2016, 1983, 2014, 2005, 2001, 2005,\n",
       "       1986, 2008, 1983, 1990, 2015, 1983, 1982, 2004, 2004, 2011, 1986,\n",
       "       1998, 1982, 1986, 1987, 1994, 1992, 1999, 1991, 1988, 2012, 2005,\n",
       "       2017, 1995, 2012, 2011, 1985, 1984, 2005, 1981, 2006, 2008, 1985,\n",
       "       1989, 2015, 2004, 2000, 2010, 1986, 1993, 1986, 2011, 2004, 1988,\n",
       "       1994, 1980, 1994, 2004, 1994, 2016, 1985, 1982, 2010], dtype=int64)"
      ]
     },
     "execution_count": 114,
     "metadata": {},
     "output_type": "execute_result"
    }
   ],
   "source": [
    "mam_year=np.array(Mammootty_role['year'])\n",
    "mam_year"
   ]
  },
  {
   "cell_type": "code",
   "execution_count": 115,
   "metadata": {},
   "outputs": [
    {
     "data": {
      "text/plain": [
       "1971"
      ]
     },
     "execution_count": 115,
     "metadata": {},
     "output_type": "execute_result"
    }
   ],
   "source": [
    "min(mam_year)"
   ]
  },
  {
   "cell_type": "code",
   "execution_count": 116,
   "metadata": {},
   "outputs": [
    {
     "data": {
      "text/plain": [
       "2017"
      ]
     },
     "execution_count": 116,
     "metadata": {},
     "output_type": "execute_result"
    }
   ],
   "source": [
    "max(mam_year)"
   ]
  },
  {
   "cell_type": "code",
   "execution_count": 117,
   "metadata": {},
   "outputs": [
    {
     "data": {
      "text/plain": [
       "year\n",
       "1985    21\n",
       "1983    18\n",
       "1986    18\n",
       "1984    16\n",
       "1990    15\n",
       "2009    12\n",
       "1989    10\n",
       "2008     9\n",
       "2010     9\n",
       "1987     9\n",
       "2004     8\n",
       "2006     8\n",
       "2000     7\n",
       "1988     7\n",
       "2007     7\n",
       "2011     7\n",
       "1982     7\n",
       "2012     7\n",
       "2015     6\n",
       "2005     6\n",
       "1991     6\n",
       "2014     6\n",
       "1995     5\n",
       "1994     5\n",
       "1993     5\n",
       "2013     5\n",
       "1998     4\n",
       "1999     4\n",
       "2002     3\n",
       "2001     3\n",
       "2016     3\n",
       "1996     3\n",
       "1992     3\n",
       "1981     3\n",
       "2003     2\n",
       "1980     2\n",
       "1997     2\n",
       "1971     1\n",
       "2017     1\n",
       "Name: count, dtype: int64"
      ]
     },
     "execution_count": 117,
     "metadata": {},
     "output_type": "execute_result"
    }
   ],
   "source": [
    "Mammootty_role.value_counts('year')"
   ]
  },
  {
   "cell_type": "markdown",
   "metadata": {},
   "source": [
    "### Above are number of roles played by Mammootty each year of his career."
   ]
  },
  {
   "cell_type": "markdown",
   "metadata": {
    "collapsed": true
   },
   "source": [
    "### What are the 10 most frequent roles that start with the phrase \"Patron in\"?"
   ]
  },
  {
   "cell_type": "code",
   "execution_count": 137,
   "metadata": {},
   "outputs": [
    {
     "name": "stdout",
     "output_type": "stream",
     "text": [
      "Empty DataFrame\n",
      "Columns: [title, year, name, type, character, n]\n",
      "Index: []\n"
     ]
    }
   ],
   "source": [
    "Patron_in=cast[cast['character'].isin(['Patron in'])]\n",
    "print(Patron_in)"
   ]
  },
  {
   "cell_type": "code",
   "execution_count": 129,
   "metadata": {},
   "outputs": [
    {
     "data": {
      "text/plain": [
       "(4, 6)"
      ]
     },
     "execution_count": 129,
     "metadata": {},
     "output_type": "execute_result"
    }
   ],
   "source": [
    "Patr.shape"
   ]
  },
  {
   "cell_type": "markdown",
   "metadata": {
    "collapsed": true
   },
   "source": [
    "### What are the 10 most frequent roles that start with the word \"Science\"?"
   ]
  },
  {
   "cell_type": "code",
   "execution_count": 125,
   "metadata": {},
   "outputs": [
    {
     "name": "stdout",
     "output_type": "stream",
     "text": [
      "572 number of roles start with the word 'Science'\n"
     ]
    }
   ],
   "source": [
    "Sci_num=cast['title'].str.contains('Science',case=False).sum()\n",
    "print(f\"{Sci_num} number of roles start with the word 'Science'\")\n"
   ]
  },
  {
   "cell_type": "code",
   "execution_count": 139,
   "metadata": {},
   "outputs": [
    {
     "name": "stdout",
     "output_type": "stream",
     "text": [
      "                                                 title  year  \\\n",
      "920267            Starship Valiant: The Ties That Bind  2017   \n",
      "1087752  So Fresh, So Clean... a Down and Dirty Comedy  2005   \n",
      "2147168                               Se1: Evan's Baby  2012   \n",
      "2374347                                           Pimp  2016   \n",
      "\n",
      "                       name   type character   n  \n",
      "920267   David (XIX) Harvey  actor   Science NaN  \n",
      "1087752   James (VI) Jordan  actor   Science NaN  \n",
      "2147168   Christopher Tajah  actor   Science NaN  \n",
      "2374347    Mike E. Winfield  actor   Science NaN  \n"
     ]
    }
   ],
   "source": [
    "Science_num=cast[cast['character'].isin(['Science'])]\n",
    "print(Science_num)"
   ]
  },
  {
   "cell_type": "markdown",
   "metadata": {
    "collapsed": true
   },
   "source": [
    "### Plot the n-values of the roles that Judi Dench has played over her career."
   ]
  },
  {
   "cell_type": "code",
   "execution_count": 145,
   "metadata": {},
   "outputs": [
    {
     "name": "stdout",
     "output_type": "stream",
     "text": [
      "False\n"
     ]
    }
   ],
   "source": [
    "res = data_title.isin(['Judy Dench']).any().any()\n",
    "print(res)"
   ]
  },
  {
   "cell_type": "code",
   "execution_count": 147,
   "metadata": {},
   "outputs": [
    {
     "name": "stdout",
     "output_type": "stream",
     "text": [
      "False\n"
     ]
    }
   ],
   "source": [
    "result=cast.isin(['Judy Dench']).any().any()\n",
    "print(result)"
   ]
  },
  {
   "cell_type": "markdown",
   "metadata": {
    "collapsed": true
   },
   "source": [
    "### Plot the n-values of Cary Grant's roles through his career."
   ]
  },
  {
   "cell_type": "code",
   "execution_count": 148,
   "metadata": {},
   "outputs": [
    {
     "name": "stdout",
     "output_type": "stream",
     "text": [
      "True\n"
     ]
    }
   ],
   "source": [
    "Cary_data = cast.isin(['Cary Grant']).any().any()\n",
    "print(Cary_data)"
   ]
  },
  {
   "cell_type": "code",
   "execution_count": 149,
   "metadata": {},
   "outputs": [
    {
     "name": "stdout",
     "output_type": "stream",
     "text": [
      "                        title  year        name   type            character  \\\n",
      "840334    Alice in Wonderland  1933  Cary Grant  actor          Mock Turtle   \n",
      "840335  An Affair to Remember  1957  Cary Grant  actor      Nickie Ferrante   \n",
      "840336   Arsenic and Old Lace  1944  Cary Grant  actor    Mortimer Brewster   \n",
      "840337         Big Brown Eyes  1936  Cary Grant  actor           Danny Barr   \n",
      "840338           Blonde Venus  1932  Cary Grant  actor        Nick Townsend   \n",
      "...                       ...   ...         ...    ...                  ...   \n",
      "840411         Walk Don't Run  1966  Cary Grant  actor  Sir William Rutland   \n",
      "840412        Wedding Present  1936  Cary Grant  actor        Charlie Mason   \n",
      "840413    When You're in Love  1937  Cary Grant  actor         Jimmy Hudson   \n",
      "840414      Wings in the Dark  1935  Cary Grant  actor           Ken Gordon   \n",
      "840415   Without Reservations  1946  Cary Grant  actor           Cary Grant   \n",
      "\n",
      "           n  \n",
      "840334  10.0  \n",
      "840335   1.0  \n",
      "840336   1.0  \n",
      "840337   1.0  \n",
      "840338   3.0  \n",
      "...      ...  \n",
      "840411   1.0  \n",
      "840412   2.0  \n",
      "840413   2.0  \n",
      "840414   2.0  \n",
      "840415   NaN  \n",
      "\n",
      "[82 rows x 6 columns]\n"
     ]
    }
   ],
   "source": [
    "Cary_df=cast[cast['name'].isin(['Cary Grant'])]\n",
    "print(Cary_df)"
   ]
  },
  {
   "cell_type": "code",
   "execution_count": 185,
   "metadata": {},
   "outputs": [
    {
     "data": {
      "text/plain": [
       "<Axes: title={'center': 'n-values of Cary Grant'}, ylabel='n-value'>"
      ]
     },
     "execution_count": 185,
     "metadata": {},
     "output_type": "execute_result"
    },
    {
     "data": {
      "image/png": "[encoded data removed]",
      "text/plain": [
       "<Figure size 1000x400 with 1 Axes>"
      ]
     },
     "metadata": {},
     "output_type": "display_data"
    }
   ],
   "source": [
    "Cary_df[['n']].plot(title=\"n-values of Cary Grant\",\n",
    "                    legend=True,\n",
    "                    kind=\"area\",grid=True,\n",
    "                    fontsize=15,\n",
    "                    ylabel=\"n-value\",\n",
    "                    style=[\"g\"],\n",
    "                    figsize=(10,4))"
   ]
  },
  {
   "cell_type": "markdown",
   "metadata": {},
   "source": [
    "Cary has received more number of n roles with n_value as 1,then with n-value as 2, "
   ]
  },
  {
   "cell_type": "markdown",
   "metadata": {
    "collapsed": true
   },
   "source": [
    "### Plot the n-value of the roles that Sidney Poitier has acted over the years."
   ]
  },
  {
   "cell_type": "code",
   "execution_count": 181,
   "metadata": {},
   "outputs": [
    {
     "data": {
      "text/html": [
       "<div>\n",
       "<style scoped>\n",
       "    .dataframe tbody tr th:only-of-type {\n",
       "        vertical-align: middle;\n",
       "    }\n",
       "\n",
       "    .dataframe tbody tr th {\n",
       "        vertical-align: top;\n",
       "    }\n",
       "\n",
       "    .dataframe thead th {\n",
       "        text-align: right;\n",
       "    }\n",
       "</style>\n",
       "<table border=\"1\" class=\"dataframe\">\n",
       "  <thead>\n",
       "    <tr style=\"text-align: right;\">\n",
       "      <th></th>\n",
       "      <th>title</th>\n",
       "      <th>year</th>\n",
       "      <th>name</th>\n",
       "      <th>type</th>\n",
       "      <th>character</th>\n",
       "      <th>n</th>\n",
       "    </tr>\n",
       "  </thead>\n",
       "  <tbody>\n",
       "    <tr>\n",
       "      <th>1751059</th>\n",
       "      <td>A Patch of Blue</td>\n",
       "      <td>1965</td>\n",
       "      <td>Sidney Poitier</td>\n",
       "      <td>actor</td>\n",
       "      <td>Gordon Ralfe</td>\n",
       "      <td>1.0</td>\n",
       "    </tr>\n",
       "    <tr>\n",
       "      <th>1751060</th>\n",
       "      <td>A Piece of the Action</td>\n",
       "      <td>1977</td>\n",
       "      <td>Sidney Poitier</td>\n",
       "      <td>actor</td>\n",
       "      <td>Manny Durrell</td>\n",
       "      <td>1.0</td>\n",
       "    </tr>\n",
       "    <tr>\n",
       "      <th>1751061</th>\n",
       "      <td>A Raisin in the Sun</td>\n",
       "      <td>1961</td>\n",
       "      <td>Sidney Poitier</td>\n",
       "      <td>actor</td>\n",
       "      <td>Walter Lee Younger</td>\n",
       "      <td>1.0</td>\n",
       "    </tr>\n",
       "    <tr>\n",
       "      <th>1751062</th>\n",
       "      <td>A Warm December</td>\n",
       "      <td>1973</td>\n",
       "      <td>Sidney Poitier</td>\n",
       "      <td>actor</td>\n",
       "      <td>Dr. Matt Younger</td>\n",
       "      <td>1.0</td>\n",
       "    </tr>\n",
       "    <tr>\n",
       "      <th>1751063</th>\n",
       "      <td>All the Young Men</td>\n",
       "      <td>1960</td>\n",
       "      <td>Sidney Poitier</td>\n",
       "      <td>actor</td>\n",
       "      <td>Sgt. Eddie Towler</td>\n",
       "      <td>2.0</td>\n",
       "    </tr>\n",
       "    <tr>\n",
       "      <th>1751064</th>\n",
       "      <td>Band of Angels</td>\n",
       "      <td>1957</td>\n",
       "      <td>Sidney Poitier</td>\n",
       "      <td>actor</td>\n",
       "      <td>Rau-Ru</td>\n",
       "      <td>3.0</td>\n",
       "    </tr>\n",
       "    <tr>\n",
       "      <th>1751065</th>\n",
       "      <td>Blackboard Jungle</td>\n",
       "      <td>1955</td>\n",
       "      <td>Sidney Poitier</td>\n",
       "      <td>actor</td>\n",
       "      <td>Gregory W. Miller</td>\n",
       "      <td>10.0</td>\n",
       "    </tr>\n",
       "    <tr>\n",
       "      <th>1751066</th>\n",
       "      <td>Brother John</td>\n",
       "      <td>1971</td>\n",
       "      <td>Sidney Poitier</td>\n",
       "      <td>actor</td>\n",
       "      <td>John Kane</td>\n",
       "      <td>1.0</td>\n",
       "    </tr>\n",
       "    <tr>\n",
       "      <th>1751067</th>\n",
       "      <td>Buck and the Preacher</td>\n",
       "      <td>1972</td>\n",
       "      <td>Sidney Poitier</td>\n",
       "      <td>actor</td>\n",
       "      <td>Buck</td>\n",
       "      <td>1.0</td>\n",
       "    </tr>\n",
       "    <tr>\n",
       "      <th>1751068</th>\n",
       "      <td>Cry, the Beloved Country</td>\n",
       "      <td>1951</td>\n",
       "      <td>Sidney Poitier</td>\n",
       "      <td>actor</td>\n",
       "      <td>Reverend Msimangu</td>\n",
       "      <td>3.0</td>\n",
       "    </tr>\n",
       "    <tr>\n",
       "      <th>1751069</th>\n",
       "      <td>Duel at Diablo</td>\n",
       "      <td>1966</td>\n",
       "      <td>Sidney Poitier</td>\n",
       "      <td>actor</td>\n",
       "      <td>Toller</td>\n",
       "      <td>2.0</td>\n",
       "    </tr>\n",
       "    <tr>\n",
       "      <th>1751070</th>\n",
       "      <td>Edge of the City</td>\n",
       "      <td>1957</td>\n",
       "      <td>Sidney Poitier</td>\n",
       "      <td>actor</td>\n",
       "      <td>Tommy Tyler</td>\n",
       "      <td>2.0</td>\n",
       "    </tr>\n",
       "    <tr>\n",
       "      <th>1751071</th>\n",
       "      <td>For Love of Ivy</td>\n",
       "      <td>1968</td>\n",
       "      <td>Sidney Poitier</td>\n",
       "      <td>actor</td>\n",
       "      <td>Jack Parks</td>\n",
       "      <td>1.0</td>\n",
       "    </tr>\n",
       "    <tr>\n",
       "      <th>1751072</th>\n",
       "      <td>Go Man Go</td>\n",
       "      <td>1954</td>\n",
       "      <td>Sidney Poitier</td>\n",
       "      <td>actor</td>\n",
       "      <td>Inman Jackson</td>\n",
       "      <td>3.0</td>\n",
       "    </tr>\n",
       "    <tr>\n",
       "      <th>1751073</th>\n",
       "      <td>Good-bye, My Lady</td>\n",
       "      <td>1956</td>\n",
       "      <td>Sidney Poitier</td>\n",
       "      <td>actor</td>\n",
       "      <td>Gates Watson</td>\n",
       "      <td>4.0</td>\n",
       "    </tr>\n",
       "    <tr>\n",
       "      <th>1751074</th>\n",
       "      <td>Guess Who's Coming to Dinner</td>\n",
       "      <td>1967</td>\n",
       "      <td>Sidney Poitier</td>\n",
       "      <td>actor</td>\n",
       "      <td>John Prentice</td>\n",
       "      <td>2.0</td>\n",
       "    </tr>\n",
       "    <tr>\n",
       "      <th>1751075</th>\n",
       "      <td>In the Heat of the Night</td>\n",
       "      <td>1967</td>\n",
       "      <td>Sidney Poitier</td>\n",
       "      <td>actor</td>\n",
       "      <td>Virgil Tibbs</td>\n",
       "      <td>1.0</td>\n",
       "    </tr>\n",
       "    <tr>\n",
       "      <th>1751076</th>\n",
       "      <td>Let's Do It Again</td>\n",
       "      <td>1975</td>\n",
       "      <td>Sidney Poitier</td>\n",
       "      <td>actor</td>\n",
       "      <td>Clyde Williams</td>\n",
       "      <td>1.0</td>\n",
       "    </tr>\n",
       "    <tr>\n",
       "      <th>1751077</th>\n",
       "      <td>Lilies of the Field</td>\n",
       "      <td>1963</td>\n",
       "      <td>Sidney Poitier</td>\n",
       "      <td>actor</td>\n",
       "      <td>Homer Smith</td>\n",
       "      <td>1.0</td>\n",
       "    </tr>\n",
       "    <tr>\n",
       "      <th>1751078</th>\n",
       "      <td>Little Nikita</td>\n",
       "      <td>1988</td>\n",
       "      <td>Sidney Poitier</td>\n",
       "      <td>actor</td>\n",
       "      <td>Roy Parmenter</td>\n",
       "      <td>1.0</td>\n",
       "    </tr>\n",
       "    <tr>\n",
       "      <th>1751079</th>\n",
       "      <td>No Way Out</td>\n",
       "      <td>1950</td>\n",
       "      <td>Sidney Poitier</td>\n",
       "      <td>actor</td>\n",
       "      <td>Dr. Luther Brooks</td>\n",
       "      <td>4.0</td>\n",
       "    </tr>\n",
       "    <tr>\n",
       "      <th>1751080</th>\n",
       "      <td>Paris Blues</td>\n",
       "      <td>1961</td>\n",
       "      <td>Sidney Poitier</td>\n",
       "      <td>actor</td>\n",
       "      <td>Eddie Cook</td>\n",
       "      <td>3.0</td>\n",
       "    </tr>\n",
       "    <tr>\n",
       "      <th>1751081</th>\n",
       "      <td>Porgy and Bess</td>\n",
       "      <td>1959</td>\n",
       "      <td>Sidney Poitier</td>\n",
       "      <td>actor</td>\n",
       "      <td>Porgy</td>\n",
       "      <td>1.0</td>\n",
       "    </tr>\n",
       "    <tr>\n",
       "      <th>1751082</th>\n",
       "      <td>Pressure Point</td>\n",
       "      <td>1962</td>\n",
       "      <td>Sidney Poitier</td>\n",
       "      <td>actor</td>\n",
       "      <td>Doctor</td>\n",
       "      <td>1.0</td>\n",
       "    </tr>\n",
       "    <tr>\n",
       "      <th>1751083</th>\n",
       "      <td>Red Ball Express</td>\n",
       "      <td>1952</td>\n",
       "      <td>Sidney Poitier</td>\n",
       "      <td>actor</td>\n",
       "      <td>Robertson</td>\n",
       "      <td>5.0</td>\n",
       "    </tr>\n",
       "    <tr>\n",
       "      <th>1751084</th>\n",
       "      <td>Sepia Cinderella</td>\n",
       "      <td>1947</td>\n",
       "      <td>Sidney Poitier</td>\n",
       "      <td>actor</td>\n",
       "      <td>Night Club Extra</td>\n",
       "      <td>0.0</td>\n",
       "    </tr>\n",
       "    <tr>\n",
       "      <th>1751085</th>\n",
       "      <td>Shoot to Kill</td>\n",
       "      <td>1988</td>\n",
       "      <td>Sidney Poitier</td>\n",
       "      <td>actor</td>\n",
       "      <td>Warren Stantin</td>\n",
       "      <td>1.0</td>\n",
       "    </tr>\n",
       "    <tr>\n",
       "      <th>1751086</th>\n",
       "      <td>Sneakers</td>\n",
       "      <td>1992</td>\n",
       "      <td>Sidney Poitier</td>\n",
       "      <td>actor</td>\n",
       "      <td>Donald Crease</td>\n",
       "      <td>4.0</td>\n",
       "    </tr>\n",
       "    <tr>\n",
       "      <th>1751087</th>\n",
       "      <td>Something of Value</td>\n",
       "      <td>1957</td>\n",
       "      <td>Sidney Poitier</td>\n",
       "      <td>actor</td>\n",
       "      <td>Kimani Wa Karanja</td>\n",
       "      <td>13.0</td>\n",
       "    </tr>\n",
       "    <tr>\n",
       "      <th>1751088</th>\n",
       "      <td>The Bedford Incident</td>\n",
       "      <td>1965</td>\n",
       "      <td>Sidney Poitier</td>\n",
       "      <td>actor</td>\n",
       "      <td>Ben Munceford</td>\n",
       "      <td>2.0</td>\n",
       "    </tr>\n",
       "    <tr>\n",
       "      <th>1751089</th>\n",
       "      <td>The Defiant Ones</td>\n",
       "      <td>1958</td>\n",
       "      <td>Sidney Poitier</td>\n",
       "      <td>actor</td>\n",
       "      <td>Noah Cullen</td>\n",
       "      <td>2.0</td>\n",
       "    </tr>\n",
       "    <tr>\n",
       "      <th>1751090</th>\n",
       "      <td>The Greatest Story Ever Told</td>\n",
       "      <td>1965</td>\n",
       "      <td>Sidney Poitier</td>\n",
       "      <td>actor</td>\n",
       "      <td>Simon of Cyrene</td>\n",
       "      <td>21.0</td>\n",
       "    </tr>\n",
       "    <tr>\n",
       "      <th>1751091</th>\n",
       "      <td>The Jackal</td>\n",
       "      <td>1997</td>\n",
       "      <td>Sidney Poitier</td>\n",
       "      <td>actor</td>\n",
       "      <td>FBI Deputy Director Carter Preston</td>\n",
       "      <td>3.0</td>\n",
       "    </tr>\n",
       "    <tr>\n",
       "      <th>1751092</th>\n",
       "      <td>The Long Ships</td>\n",
       "      <td>1964</td>\n",
       "      <td>Sidney Poitier</td>\n",
       "      <td>actor</td>\n",
       "      <td>Aly Mansuh</td>\n",
       "      <td>2.0</td>\n",
       "    </tr>\n",
       "    <tr>\n",
       "      <th>1751093</th>\n",
       "      <td>The Lost Man</td>\n",
       "      <td>1969</td>\n",
       "      <td>Sidney Poitier</td>\n",
       "      <td>actor</td>\n",
       "      <td>Jason Higgs</td>\n",
       "      <td>1.0</td>\n",
       "    </tr>\n",
       "    <tr>\n",
       "      <th>1751094</th>\n",
       "      <td>The Mark of the Hawk</td>\n",
       "      <td>1957</td>\n",
       "      <td>Sidney Poitier</td>\n",
       "      <td>actor</td>\n",
       "      <td>Obam</td>\n",
       "      <td>2.0</td>\n",
       "    </tr>\n",
       "    <tr>\n",
       "      <th>1751095</th>\n",
       "      <td>The Organization</td>\n",
       "      <td>1971</td>\n",
       "      <td>Sidney Poitier</td>\n",
       "      <td>actor</td>\n",
       "      <td>Virgil Tibbs</td>\n",
       "      <td>1.0</td>\n",
       "    </tr>\n",
       "    <tr>\n",
       "      <th>1751096</th>\n",
       "      <td>The Slender Thread</td>\n",
       "      <td>1965</td>\n",
       "      <td>Sidney Poitier</td>\n",
       "      <td>actor</td>\n",
       "      <td>Alan Newell</td>\n",
       "      <td>1.0</td>\n",
       "    </tr>\n",
       "    <tr>\n",
       "      <th>1751097</th>\n",
       "      <td>The Wilby Conspiracy</td>\n",
       "      <td>1975</td>\n",
       "      <td>Sidney Poitier</td>\n",
       "      <td>actor</td>\n",
       "      <td>Shack Twala</td>\n",
       "      <td>1.0</td>\n",
       "    </tr>\n",
       "    <tr>\n",
       "      <th>1751098</th>\n",
       "      <td>They Call Me Mister Tibbs!</td>\n",
       "      <td>1970</td>\n",
       "      <td>Sidney Poitier</td>\n",
       "      <td>actor</td>\n",
       "      <td>Virgil Tibbs</td>\n",
       "      <td>1.0</td>\n",
       "    </tr>\n",
       "    <tr>\n",
       "      <th>1751099</th>\n",
       "      <td>To Sir, with Love</td>\n",
       "      <td>1967</td>\n",
       "      <td>Sidney Poitier</td>\n",
       "      <td>actor</td>\n",
       "      <td>Mark Thackeray</td>\n",
       "      <td>1.0</td>\n",
       "    </tr>\n",
       "    <tr>\n",
       "      <th>1751100</th>\n",
       "      <td>Uptown Saturday Night</td>\n",
       "      <td>1974</td>\n",
       "      <td>Sidney Poitier</td>\n",
       "      <td>actor</td>\n",
       "      <td>Steve Jackson</td>\n",
       "      <td>1.0</td>\n",
       "    </tr>\n",
       "    <tr>\n",
       "      <th>1751101</th>\n",
       "      <td>Virgin Island</td>\n",
       "      <td>1958</td>\n",
       "      <td>Sidney Poitier</td>\n",
       "      <td>actor</td>\n",
       "      <td>Marcus</td>\n",
       "      <td>3.0</td>\n",
       "    </tr>\n",
       "  </tbody>\n",
       "</table>\n",
       "</div>"
      ],
      "text/plain": [
       "                                title  year            name   type  \\\n",
       "1751059               A Patch of Blue  1965  Sidney Poitier  actor   \n",
       "1751060         A Piece of the Action  1977  Sidney Poitier  actor   \n",
       "1751061           A Raisin in the Sun  1961  Sidney Poitier  actor   \n",
       "1751062               A Warm December  1973  Sidney Poitier  actor   \n",
       "1751063             All the Young Men  1960  Sidney Poitier  actor   \n",
       "1751064                Band of Angels  1957  Sidney Poitier  actor   \n",
       "1751065             Blackboard Jungle  1955  Sidney Poitier  actor   \n",
       "1751066                  Brother John  1971  Sidney Poitier  actor   \n",
       "1751067         Buck and the Preacher  1972  Sidney Poitier  actor   \n",
       "1751068      Cry, the Beloved Country  1951  Sidney Poitier  actor   \n",
       "1751069                Duel at Diablo  1966  Sidney Poitier  actor   \n",
       "1751070              Edge of the City  1957  Sidney Poitier  actor   \n",
       "1751071               For Love of Ivy  1968  Sidney Poitier  actor   \n",
       "1751072                     Go Man Go  1954  Sidney Poitier  actor   \n",
       "1751073             Good-bye, My Lady  1956  Sidney Poitier  actor   \n",
       "1751074  Guess Who's Coming to Dinner  1967  Sidney Poitier  actor   \n",
       "1751075      In the Heat of the Night  1967  Sidney Poitier  actor   \n",
       "1751076             Let's Do It Again  1975  Sidney Poitier  actor   \n",
       "1751077           Lilies of the Field  1963  Sidney Poitier  actor   \n",
       "1751078                 Little Nikita  1988  Sidney Poitier  actor   \n",
       "1751079                    No Way Out  1950  Sidney Poitier  actor   \n",
       "1751080                   Paris Blues  1961  Sidney Poitier  actor   \n",
       "1751081                Porgy and Bess  1959  Sidney Poitier  actor   \n",
       "1751082                Pressure Point  1962  Sidney Poitier  actor   \n",
       "1751083              Red Ball Express  1952  Sidney Poitier  actor   \n",
       "1751084              Sepia Cinderella  1947  Sidney Poitier  actor   \n",
       "1751085                 Shoot to Kill  1988  Sidney Poitier  actor   \n",
       "1751086                      Sneakers  1992  Sidney Poitier  actor   \n",
       "1751087            Something of Value  1957  Sidney Poitier  actor   \n",
       "1751088          The Bedford Incident  1965  Sidney Poitier  actor   \n",
       "1751089              The Defiant Ones  1958  Sidney Poitier  actor   \n",
       "1751090  The Greatest Story Ever Told  1965  Sidney Poitier  actor   \n",
       "1751091                    The Jackal  1997  Sidney Poitier  actor   \n",
       "1751092                The Long Ships  1964  Sidney Poitier  actor   \n",
       "1751093                  The Lost Man  1969  Sidney Poitier  actor   \n",
       "1751094          The Mark of the Hawk  1957  Sidney Poitier  actor   \n",
       "1751095              The Organization  1971  Sidney Poitier  actor   \n",
       "1751096            The Slender Thread  1965  Sidney Poitier  actor   \n",
       "1751097          The Wilby Conspiracy  1975  Sidney Poitier  actor   \n",
       "1751098    They Call Me Mister Tibbs!  1970  Sidney Poitier  actor   \n",
       "1751099             To Sir, with Love  1967  Sidney Poitier  actor   \n",
       "1751100         Uptown Saturday Night  1974  Sidney Poitier  actor   \n",
       "1751101                 Virgin Island  1958  Sidney Poitier  actor   \n",
       "\n",
       "                                  character     n  \n",
       "1751059                        Gordon Ralfe   1.0  \n",
       "1751060                       Manny Durrell   1.0  \n",
       "1751061                  Walter Lee Younger   1.0  \n",
       "1751062                    Dr. Matt Younger   1.0  \n",
       "1751063                   Sgt. Eddie Towler   2.0  \n",
       "1751064                              Rau-Ru   3.0  \n",
       "1751065                   Gregory W. Miller  10.0  \n",
       "1751066                           John Kane   1.0  \n",
       "1751067                                Buck   1.0  \n",
       "1751068                   Reverend Msimangu   3.0  \n",
       "1751069                              Toller   2.0  \n",
       "1751070                         Tommy Tyler   2.0  \n",
       "1751071                          Jack Parks   1.0  \n",
       "1751072                       Inman Jackson   3.0  \n",
       "1751073                        Gates Watson   4.0  \n",
       "1751074                       John Prentice   2.0  \n",
       "1751075                        Virgil Tibbs   1.0  \n",
       "1751076                      Clyde Williams   1.0  \n",
       "1751077                         Homer Smith   1.0  \n",
       "1751078                       Roy Parmenter   1.0  \n",
       "1751079                   Dr. Luther Brooks   4.0  \n",
       "1751080                          Eddie Cook   3.0  \n",
       "1751081                               Porgy   1.0  \n",
       "1751082                              Doctor   1.0  \n",
       "1751083                           Robertson   5.0  \n",
       "1751084                    Night Club Extra   0.0  \n",
       "1751085                      Warren Stantin   1.0  \n",
       "1751086                       Donald Crease   4.0  \n",
       "1751087                   Kimani Wa Karanja  13.0  \n",
       "1751088                       Ben Munceford   2.0  \n",
       "1751089                         Noah Cullen   2.0  \n",
       "1751090                     Simon of Cyrene  21.0  \n",
       "1751091  FBI Deputy Director Carter Preston   3.0  \n",
       "1751092                          Aly Mansuh   2.0  \n",
       "1751093                         Jason Higgs   1.0  \n",
       "1751094                                Obam   2.0  \n",
       "1751095                        Virgil Tibbs   1.0  \n",
       "1751096                         Alan Newell   1.0  \n",
       "1751097                         Shack Twala   1.0  \n",
       "1751098                        Virgil Tibbs   1.0  \n",
       "1751099                      Mark Thackeray   1.0  \n",
       "1751100                       Steve Jackson   1.0  \n",
       "1751101                              Marcus   3.0  "
      ]
     },
     "execution_count": 181,
     "metadata": {},
     "output_type": "execute_result"
    }
   ],
   "source": [
    "SyPoitier=cast[cast['name'].isin(['Sidney Poitier'])]\n",
    "SyPoitier"
   ]
  },
  {
   "cell_type": "code",
   "execution_count": 183,
   "metadata": {},
   "outputs": [
    {
     "data": {
      "text/plain": [
       "(43, 6)"
      ]
     },
     "execution_count": 183,
     "metadata": {},
     "output_type": "execute_result"
    }
   ],
   "source": [
    "SyPoitier.shape"
   ]
  },
  {
   "cell_type": "code",
   "execution_count": 190,
   "metadata": {},
   "outputs": [
    {
     "data": {
      "text/plain": [
       "<Axes: title={'center': \"Sidney Pointier's ranking\"}, ylabel='n-value or rank'>"
      ]
     },
     "execution_count": 190,
     "metadata": {},
     "output_type": "execute_result"
    },
    {
     "data": {
      "image/png": "[encoded data removed]",
      "text/plain": [
       "<Figure size 640x480 with 1 Axes>"
      ]
     },
     "metadata": {},
     "output_type": "display_data"
    }
   ],
   "source": [
    "SyPoitier['n'].plot(kind=\"line\",legend=True,style=\"r\",grid=True,ylabel=\"n-value or rank\",title=\"Sidney Pointier's ranking\")"
   ]
  },
  {
   "cell_type": "markdown",
   "metadata": {},
   "source": [
    "Sydney Poitier ha got rankings from 1 to maximium of 21."
   ]
  },
  {
   "cell_type": "markdown",
   "metadata": {
    "collapsed": true
   },
   "source": [
    "### How many leading (n=1) roles were available to actors, and how many to actresses, in the 1950s?"
   ]
  },
  {
   "cell_type": "code",
   "execution_count": 193,
   "metadata": {},
   "outputs": [
    {
     "data": {
      "text/html": [
       "<div>\n",
       "<style scoped>\n",
       "    .dataframe tbody tr th:only-of-type {\n",
       "        vertical-align: middle;\n",
       "    }\n",
       "\n",
       "    .dataframe tbody tr th {\n",
       "        vertical-align: top;\n",
       "    }\n",
       "\n",
       "    .dataframe thead th {\n",
       "        text-align: right;\n",
       "    }\n",
       "</style>\n",
       "<table border=\"1\" class=\"dataframe\">\n",
       "  <thead>\n",
       "    <tr style=\"text-align: right;\">\n",
       "      <th></th>\n",
       "      <th>title</th>\n",
       "      <th>year</th>\n",
       "      <th>name</th>\n",
       "      <th>type</th>\n",
       "      <th>character</th>\n",
       "      <th>n</th>\n",
       "    </tr>\n",
       "  </thead>\n",
       "  <tbody>\n",
       "    <tr>\n",
       "      <th>266</th>\n",
       "      <td>Palletoori Pilla</td>\n",
       "      <td>1950</td>\n",
       "      <td>Subba Rao A.V.</td>\n",
       "      <td>actor</td>\n",
       "      <td>Kampanna Dora</td>\n",
       "      <td>4.0</td>\n",
       "    </tr>\n",
       "    <tr>\n",
       "      <th>429</th>\n",
       "      <td>Hallin Janne</td>\n",
       "      <td>1950</td>\n",
       "      <td>Kosti Aaltonen</td>\n",
       "      <td>actor</td>\n",
       "      <td>Rosvo</td>\n",
       "      <td>0.0</td>\n",
       "    </tr>\n",
       "    <tr>\n",
       "      <th>430</th>\n",
       "      <td>Hallin Janne</td>\n",
       "      <td>1950</td>\n",
       "      <td>Kosti Aaltonen</td>\n",
       "      <td>actor</td>\n",
       "      <td>Vartija</td>\n",
       "      <td>0.0</td>\n",
       "    </tr>\n",
       "    <tr>\n",
       "      <th>1481</th>\n",
       "      <td>Fortunes of Captain Blood</td>\n",
       "      <td>1950</td>\n",
       "      <td>Abdullah Abbas</td>\n",
       "      <td>actor</td>\n",
       "      <td>Crew Member</td>\n",
       "      <td>0.0</td>\n",
       "    </tr>\n",
       "    <tr>\n",
       "      <th>1497</th>\n",
       "      <td>The Baron of Arizona</td>\n",
       "      <td>1950</td>\n",
       "      <td>Abdullah Abbas</td>\n",
       "      <td>actor</td>\n",
       "      <td>Indian</td>\n",
       "      <td>0.0</td>\n",
       "    </tr>\n",
       "    <tr>\n",
       "      <th>...</th>\n",
       "      <td>...</td>\n",
       "      <td>...</td>\n",
       "      <td>...</td>\n",
       "      <td>...</td>\n",
       "      <td>...</td>\n",
       "      <td>...</td>\n",
       "    </tr>\n",
       "    <tr>\n",
       "      <th>3610440</th>\n",
       "      <td>La vida en broma</td>\n",
       "      <td>1950</td>\n",
       "      <td>Dalia ??iguez</td>\n",
       "      <td>actress</td>\n",
       "      <td>Rebeca Mata</td>\n",
       "      <td>4.0</td>\n",
       "    </tr>\n",
       "    <tr>\n",
       "      <th>3610445</th>\n",
       "      <td>Quinto patio</td>\n",
       "      <td>1950</td>\n",
       "      <td>Dalia ??iguez</td>\n",
       "      <td>actress</td>\n",
       "      <td>Do?a Blanquita Z??iga de Vallarta</td>\n",
       "      <td>5.0</td>\n",
       "    </tr>\n",
       "    <tr>\n",
       "      <th>3610681</th>\n",
       "      <td>Harukanari haha no kuni</td>\n",
       "      <td>1950</td>\n",
       "      <td>Chiharu ?tomo</td>\n",
       "      <td>actress</td>\n",
       "      <td>May Takebayashi</td>\n",
       "      <td>0.0</td>\n",
       "    </tr>\n",
       "    <tr>\n",
       "      <th>3610827</th>\n",
       "      <td>Anderssonskans Kalle</td>\n",
       "      <td>1950</td>\n",
       "      <td>Ingrid ?stergren</td>\n",
       "      <td>actress</td>\n",
       "      <td>Summer Camp Manager</td>\n",
       "      <td>0.0</td>\n",
       "    </tr>\n",
       "    <tr>\n",
       "      <th>3611137</th>\n",
       "      <td>Akdeniz korsanlari</td>\n",
       "      <td>1950</td>\n",
       "      <td>Muazzez ?lkerer</td>\n",
       "      <td>actress</td>\n",
       "      <td>Maria</td>\n",
       "      <td>2.0</td>\n",
       "    </tr>\n",
       "  </tbody>\n",
       "</table>\n",
       "<p>22006 rows × 6 columns</p>\n",
       "</div>"
      ],
      "text/plain": [
       "                             title  year              name     type  \\\n",
       "266               Palletoori Pilla  1950    Subba Rao A.V.    actor   \n",
       "429                   Hallin Janne  1950    Kosti Aaltonen    actor   \n",
       "430                   Hallin Janne  1950    Kosti Aaltonen    actor   \n",
       "1481     Fortunes of Captain Blood  1950    Abdullah Abbas    actor   \n",
       "1497          The Baron of Arizona  1950    Abdullah Abbas    actor   \n",
       "...                            ...   ...               ...      ...   \n",
       "3610440           La vida en broma  1950     Dalia ??iguez  actress   \n",
       "3610445               Quinto patio  1950     Dalia ??iguez  actress   \n",
       "3610681    Harukanari haha no kuni  1950     Chiharu ?tomo  actress   \n",
       "3610827       Anderssonskans Kalle  1950  Ingrid ?stergren  actress   \n",
       "3611137         Akdeniz korsanlari  1950   Muazzez ?lkerer  actress   \n",
       "\n",
       "                                 character    n  \n",
       "266                          Kampanna Dora  4.0  \n",
       "429                                  Rosvo  0.0  \n",
       "430                                Vartija  0.0  \n",
       "1481                           Crew Member  0.0  \n",
       "1497                                Indian  0.0  \n",
       "...                                    ...  ...  \n",
       "3610440                        Rebeca Mata  4.0  \n",
       "3610445  Do?a Blanquita Z??iga de Vallarta  5.0  \n",
       "3610681                    May Takebayashi  0.0  \n",
       "3610827                Summer Camp Manager  0.0  \n",
       "3611137                              Maria  2.0  \n",
       "\n",
       "[22006 rows x 6 columns]"
      ]
     },
     "execution_count": 193,
     "metadata": {},
     "output_type": "execute_result"
    }
   ],
   "source": [
    "lead_1950=cast[cast['year'].isin([1950])]\n",
    "lead_1950"
   ]
  },
  {
   "cell_type": "code",
   "execution_count": 195,
   "metadata": {},
   "outputs": [
    {
     "data": {
      "text/plain": [
       "type\n",
       "actor      16512\n",
       "actress     5494\n",
       "Name: count, dtype: int64"
      ]
     },
     "execution_count": 195,
     "metadata": {},
     "output_type": "execute_result"
    }
   ],
   "source": [
    "lead_1950.value_counts('type')"
   ]
  },
  {
   "cell_type": "code",
   "execution_count": 196,
   "metadata": {},
   "outputs": [
    {
     "data": {
      "text/plain": [
       "n\n",
       "0.0     11355\n",
       "1.0       900\n",
       "2.0       845\n",
       "3.0       814\n",
       "4.0       796\n",
       "5.0       777\n",
       "6.0       752\n",
       "7.0       734\n",
       "8.0       685\n",
       "9.0       628\n",
       "10.0      586\n",
       "11.0      511\n",
       "12.0      438\n",
       "13.0      374\n",
       "14.0      331\n",
       "15.0      267\n",
       "16.0      218\n",
       "17.0      169\n",
       "18.0      136\n",
       "19.0      116\n",
       "20.0       89\n",
       "21.0       76\n",
       "22.0       59\n",
       "23.0       55\n",
       "24.0       43\n",
       "25.0       38\n",
       "26.0       30\n",
       "27.0       29\n",
       "28.0       22\n",
       "29.0       19\n",
       "30.0       17\n",
       "31.0       17\n",
       "32.0       13\n",
       "33.0       11\n",
       "34.0        9\n",
       "35.0        9\n",
       "36.0        8\n",
       "37.0        5\n",
       "38.0        3\n",
       "43.0        2\n",
       "46.0        2\n",
       "45.0        2\n",
       "44.0        2\n",
       "40.0        2\n",
       "42.0        2\n",
       "41.0        2\n",
       "39.0        2\n",
       "47.0        1\n",
       "48.0        1\n",
       "49.0        1\n",
       "50.0        1\n",
       "51.0        1\n",
       "53.0        1\n",
       "Name: count, dtype: int64"
      ]
     },
     "execution_count": 196,
     "metadata": {},
     "output_type": "execute_result"
    }
   ],
   "source": [
    "lead_1950.value_counts('n')"
   ]
  },
  {
   "cell_type": "code",
   "execution_count": 201,
   "metadata": {},
   "outputs": [
    {
     "data": {
      "text/html": [
       "<div>\n",
       "<style scoped>\n",
       "    .dataframe tbody tr th:only-of-type {\n",
       "        vertical-align: middle;\n",
       "    }\n",
       "\n",
       "    .dataframe tbody tr th {\n",
       "        vertical-align: top;\n",
       "    }\n",
       "\n",
       "    .dataframe thead th {\n",
       "        text-align: right;\n",
       "    }\n",
       "</style>\n",
       "<table border=\"1\" class=\"dataframe\">\n",
       "  <thead>\n",
       "    <tr style=\"text-align: right;\">\n",
       "      <th></th>\n",
       "      <th>title</th>\n",
       "      <th>year</th>\n",
       "      <th>name</th>\n",
       "      <th>type</th>\n",
       "      <th>character</th>\n",
       "      <th>n</th>\n",
       "    </tr>\n",
       "  </thead>\n",
       "  <tbody>\n",
       "    <tr>\n",
       "      <th>1874</th>\n",
       "      <td>Abbott and Costello in the Foreign Legion</td>\n",
       "      <td>1950</td>\n",
       "      <td>Bud Abbott</td>\n",
       "      <td>actor</td>\n",
       "      <td>Bud Jones</td>\n",
       "      <td>1.0</td>\n",
       "    </tr>\n",
       "    <tr>\n",
       "      <th>6081</th>\n",
       "      <td>Alitet ukhodit v gory</td>\n",
       "      <td>1950</td>\n",
       "      <td>Andrei Abrikosov</td>\n",
       "      <td>actor</td>\n",
       "      <td>Nikita Sergeevich Los</td>\n",
       "      <td>1.0</td>\n",
       "    </tr>\n",
       "    <tr>\n",
       "      <th>18365</th>\n",
       "      <td>Dos gallos de pelea</td>\n",
       "      <td>1950</td>\n",
       "      <td>Luis Aguilar</td>\n",
       "      <td>actor</td>\n",
       "      <td>Pancho Peralta</td>\n",
       "      <td>1.0</td>\n",
       "    </tr>\n",
       "    <tr>\n",
       "      <th>24532</th>\n",
       "      <td>Akher kedba</td>\n",
       "      <td>1950</td>\n",
       "      <td>Farid Al Atrache</td>\n",
       "      <td>actor</td>\n",
       "      <td>Samir</td>\n",
       "      <td>1.0</td>\n",
       "    </tr>\n",
       "    <tr>\n",
       "      <th>26963</th>\n",
       "      <td>Vom Teufel gejagt</td>\n",
       "      <td>1950</td>\n",
       "      <td>Hans Albers</td>\n",
       "      <td>actor</td>\n",
       "      <td>Dr. Blank</td>\n",
       "      <td>1.0</td>\n",
       "    </tr>\n",
       "    <tr>\n",
       "      <th>...</th>\n",
       "      <td>...</td>\n",
       "      <td>...</td>\n",
       "      <td>...</td>\n",
       "      <td>...</td>\n",
       "      <td>...</td>\n",
       "      <td>...</td>\n",
       "    </tr>\n",
       "    <tr>\n",
       "      <th>3589600</th>\n",
       "      <td>Stage Fright</td>\n",
       "      <td>1950</td>\n",
       "      <td>Jane Wyman</td>\n",
       "      <td>actress</td>\n",
       "      <td>Eve Gill</td>\n",
       "      <td>1.0</td>\n",
       "    </tr>\n",
       "    <tr>\n",
       "      <th>3589609</th>\n",
       "      <td>The Glass Menagerie</td>\n",
       "      <td>1950</td>\n",
       "      <td>Jane Wyman</td>\n",
       "      <td>actress</td>\n",
       "      <td>Laura Wingfield</td>\n",
       "      <td>1.0</td>\n",
       "    </tr>\n",
       "    <tr>\n",
       "      <th>3603481</th>\n",
       "      <td>U nikh est Rodina</td>\n",
       "      <td>1950</td>\n",
       "      <td>Natalya Zashchipina</td>\n",
       "      <td>actress</td>\n",
       "      <td>Ira Sokolova</td>\n",
       "      <td>1.0</td>\n",
       "    </tr>\n",
       "    <tr>\n",
       "      <th>3606765</th>\n",
       "      <td>Die lustigen Weiber von Windsor</td>\n",
       "      <td>1950</td>\n",
       "      <td>Sonja Ziemann</td>\n",
       "      <td>actress</td>\n",
       "      <td>Frau Fluth (Mistress Ford)</td>\n",
       "      <td>1.0</td>\n",
       "    </tr>\n",
       "    <tr>\n",
       "      <th>3608813</th>\n",
       "      <td>Valentina</td>\n",
       "      <td>1950</td>\n",
       "      <td>Olga Zubarry</td>\n",
       "      <td>actress</td>\n",
       "      <td>Valentina Gonz?lez Garc?a</td>\n",
       "      <td>1.0</td>\n",
       "    </tr>\n",
       "  </tbody>\n",
       "</table>\n",
       "<p>900 rows × 6 columns</p>\n",
       "</div>"
      ],
      "text/plain": [
       "                                             title  year                 name  \\\n",
       "1874     Abbott and Costello in the Foreign Legion  1950           Bud Abbott   \n",
       "6081                         Alitet ukhodit v gory  1950     Andrei Abrikosov   \n",
       "18365                          Dos gallos de pelea  1950         Luis Aguilar   \n",
       "24532                                  Akher kedba  1950     Farid Al Atrache   \n",
       "26963                            Vom Teufel gejagt  1950          Hans Albers   \n",
       "...                                            ...   ...                  ...   \n",
       "3589600                               Stage Fright  1950           Jane Wyman   \n",
       "3589609                        The Glass Menagerie  1950           Jane Wyman   \n",
       "3603481                          U nikh est Rodina  1950  Natalya Zashchipina   \n",
       "3606765            Die lustigen Weiber von Windsor  1950        Sonja Ziemann   \n",
       "3608813                                  Valentina  1950         Olga Zubarry   \n",
       "\n",
       "            type                   character    n  \n",
       "1874       actor                   Bud Jones  1.0  \n",
       "6081       actor       Nikita Sergeevich Los  1.0  \n",
       "18365      actor              Pancho Peralta  1.0  \n",
       "24532      actor                       Samir  1.0  \n",
       "26963      actor                   Dr. Blank  1.0  \n",
       "...          ...                         ...  ...  \n",
       "3589600  actress                    Eve Gill  1.0  \n",
       "3589609  actress             Laura Wingfield  1.0  \n",
       "3603481  actress                Ira Sokolova  1.0  \n",
       "3606765  actress  Frau Fluth (Mistress Ford)  1.0  \n",
       "3608813  actress   Valentina Gonz?lez Garc?a  1.0  \n",
       "\n",
       "[900 rows x 6 columns]"
      ]
     },
     "execution_count": 201,
     "metadata": {},
     "output_type": "execute_result"
    }
   ],
   "source": [
    "rank_1=lead_1950[lead_1950['n'].isin([1])]\n",
    "rank_1"
   ]
  },
  {
   "cell_type": "code",
   "execution_count": 206,
   "metadata": {},
   "outputs": [
    {
     "data": {
      "text/html": [
       "<div>\n",
       "<style scoped>\n",
       "    .dataframe tbody tr th:only-of-type {\n",
       "        vertical-align: middle;\n",
       "    }\n",
       "\n",
       "    .dataframe tbody tr th {\n",
       "        vertical-align: top;\n",
       "    }\n",
       "\n",
       "    .dataframe thead th {\n",
       "        text-align: right;\n",
       "    }\n",
       "</style>\n",
       "<table border=\"1\" class=\"dataframe\">\n",
       "  <thead>\n",
       "    <tr style=\"text-align: right;\">\n",
       "      <th></th>\n",
       "      <th>title</th>\n",
       "      <th>year</th>\n",
       "      <th>name</th>\n",
       "      <th>type</th>\n",
       "      <th>character</th>\n",
       "      <th>n</th>\n",
       "    </tr>\n",
       "  </thead>\n",
       "  <tbody>\n",
       "    <tr>\n",
       "      <th>1874</th>\n",
       "      <td>Abbott and Costello in the Foreign Legion</td>\n",
       "      <td>1950</td>\n",
       "      <td>Bud Abbott</td>\n",
       "      <td>actor</td>\n",
       "      <td>Bud Jones</td>\n",
       "      <td>1.0</td>\n",
       "    </tr>\n",
       "    <tr>\n",
       "      <th>6081</th>\n",
       "      <td>Alitet ukhodit v gory</td>\n",
       "      <td>1950</td>\n",
       "      <td>Andrei Abrikosov</td>\n",
       "      <td>actor</td>\n",
       "      <td>Nikita Sergeevich Los</td>\n",
       "      <td>1.0</td>\n",
       "    </tr>\n",
       "    <tr>\n",
       "      <th>18365</th>\n",
       "      <td>Dos gallos de pelea</td>\n",
       "      <td>1950</td>\n",
       "      <td>Luis Aguilar</td>\n",
       "      <td>actor</td>\n",
       "      <td>Pancho Peralta</td>\n",
       "      <td>1.0</td>\n",
       "    </tr>\n",
       "    <tr>\n",
       "      <th>24532</th>\n",
       "      <td>Akher kedba</td>\n",
       "      <td>1950</td>\n",
       "      <td>Farid Al Atrache</td>\n",
       "      <td>actor</td>\n",
       "      <td>Samir</td>\n",
       "      <td>1.0</td>\n",
       "    </tr>\n",
       "    <tr>\n",
       "      <th>26963</th>\n",
       "      <td>Vom Teufel gejagt</td>\n",
       "      <td>1950</td>\n",
       "      <td>Hans Albers</td>\n",
       "      <td>actor</td>\n",
       "      <td>Dr. Blank</td>\n",
       "      <td>1.0</td>\n",
       "    </tr>\n",
       "    <tr>\n",
       "      <th>...</th>\n",
       "      <td>...</td>\n",
       "      <td>...</td>\n",
       "      <td>...</td>\n",
       "      <td>...</td>\n",
       "      <td>...</td>\n",
       "      <td>...</td>\n",
       "    </tr>\n",
       "    <tr>\n",
       "      <th>2415556</th>\n",
       "      <td>Na Zha da zhan Hong Hai Er</td>\n",
       "      <td>1950</td>\n",
       "      <td>Kai Yu</td>\n",
       "      <td>actor</td>\n",
       "      <td>Red Boy, Na Cha</td>\n",
       "      <td>1.0</td>\n",
       "    </tr>\n",
       "    <tr>\n",
       "      <th>2417353</th>\n",
       "      <td>Jiggs and Maggie Out West</td>\n",
       "      <td>1950</td>\n",
       "      <td>Joe Yule</td>\n",
       "      <td>actor</td>\n",
       "      <td>Jiggs</td>\n",
       "      <td>1.0</td>\n",
       "    </tr>\n",
       "    <tr>\n",
       "      <th>2418143</th>\n",
       "      <td>Zhukovsky</td>\n",
       "      <td>1950</td>\n",
       "      <td>Yuri Yurovsky</td>\n",
       "      <td>actor</td>\n",
       "      <td>N. E. Zhukovskiy</td>\n",
       "      <td>1.0</td>\n",
       "    </tr>\n",
       "    <tr>\n",
       "      <th>2418682</th>\n",
       "      <td>Akdeniz korsanlari</td>\n",
       "      <td>1950</td>\n",
       "      <td>Daver Y?ken</td>\n",
       "      <td>actor</td>\n",
       "      <td>Davut</td>\n",
       "      <td>1.0</td>\n",
       "    </tr>\n",
       "    <tr>\n",
       "      <th>2432768</th>\n",
       "      <td>Jezero</td>\n",
       "      <td>1950</td>\n",
       "      <td>Milivoje Zivanovic</td>\n",
       "      <td>actor</td>\n",
       "      <td>Petar</td>\n",
       "      <td>1.0</td>\n",
       "    </tr>\n",
       "  </tbody>\n",
       "</table>\n",
       "<p>621 rows × 6 columns</p>\n",
       "</div>"
      ],
      "text/plain": [
       "                                             title  year                name  \\\n",
       "1874     Abbott and Costello in the Foreign Legion  1950          Bud Abbott   \n",
       "6081                         Alitet ukhodit v gory  1950    Andrei Abrikosov   \n",
       "18365                          Dos gallos de pelea  1950        Luis Aguilar   \n",
       "24532                                  Akher kedba  1950    Farid Al Atrache   \n",
       "26963                            Vom Teufel gejagt  1950         Hans Albers   \n",
       "...                                            ...   ...                 ...   \n",
       "2415556                 Na Zha da zhan Hong Hai Er  1950              Kai Yu   \n",
       "2417353                  Jiggs and Maggie Out West  1950            Joe Yule   \n",
       "2418143                                  Zhukovsky  1950       Yuri Yurovsky   \n",
       "2418682                         Akdeniz korsanlari  1950         Daver Y?ken   \n",
       "2432768                                     Jezero  1950  Milivoje Zivanovic   \n",
       "\n",
       "          type              character    n  \n",
       "1874     actor              Bud Jones  1.0  \n",
       "6081     actor  Nikita Sergeevich Los  1.0  \n",
       "18365    actor         Pancho Peralta  1.0  \n",
       "24532    actor                  Samir  1.0  \n",
       "26963    actor              Dr. Blank  1.0  \n",
       "...        ...                    ...  ...  \n",
       "2415556  actor        Red Boy, Na Cha  1.0  \n",
       "2417353  actor                  Jiggs  1.0  \n",
       "2418143  actor       N. E. Zhukovskiy  1.0  \n",
       "2418682  actor                  Davut  1.0  \n",
       "2432768  actor                  Petar  1.0  \n",
       "\n",
       "[621 rows x 6 columns]"
      ]
     },
     "execution_count": 206,
     "metadata": {},
     "output_type": "execute_result"
    }
   ],
   "source": [
    "actor_1=rank_1[rank_1['type'].isin(['actor'])]\n",
    "actor_1"
   ]
  },
  {
   "cell_type": "markdown",
   "metadata": {},
   "source": [
    "621 leading roles were available for the actors in 1950."
   ]
  },
  {
   "cell_type": "code",
   "execution_count": 207,
   "metadata": {},
   "outputs": [
    {
     "data": {
      "text/html": [
       "<div>\n",
       "<style scoped>\n",
       "    .dataframe tbody tr th:only-of-type {\n",
       "        vertical-align: middle;\n",
       "    }\n",
       "\n",
       "    .dataframe tbody tr th {\n",
       "        vertical-align: top;\n",
       "    }\n",
       "\n",
       "    .dataframe thead th {\n",
       "        text-align: right;\n",
       "    }\n",
       "</style>\n",
       "<table border=\"1\" class=\"dataframe\">\n",
       "  <thead>\n",
       "    <tr style=\"text-align: right;\">\n",
       "      <th></th>\n",
       "      <th>title</th>\n",
       "      <th>year</th>\n",
       "      <th>name</th>\n",
       "      <th>type</th>\n",
       "      <th>character</th>\n",
       "      <th>n</th>\n",
       "    </tr>\n",
       "  </thead>\n",
       "  <tbody>\n",
       "    <tr>\n",
       "      <th>2448337</th>\n",
       "      <td>Al son del mambo</td>\n",
       "      <td>1950</td>\n",
       "      <td>Amalia Aguilar</td>\n",
       "      <td>actress</td>\n",
       "      <td>Reina</td>\n",
       "      <td>1.0</td>\n",
       "    </tr>\n",
       "    <tr>\n",
       "      <th>2448342</th>\n",
       "      <td>La vida en broma</td>\n",
       "      <td>1950</td>\n",
       "      <td>Amalia Aguilar</td>\n",
       "      <td>actress</td>\n",
       "      <td>Amalia</td>\n",
       "      <td>1.0</td>\n",
       "    </tr>\n",
       "    <tr>\n",
       "      <th>2448734</th>\n",
       "      <td>La liga de las muchachas</td>\n",
       "      <td>1950</td>\n",
       "      <td>Elsa Aguirre</td>\n",
       "      <td>actress</td>\n",
       "      <td>Dorita</td>\n",
       "      <td>1.0</td>\n",
       "    </tr>\n",
       "    <tr>\n",
       "      <th>2448744</th>\n",
       "      <td>Una mujer decente</td>\n",
       "      <td>1950</td>\n",
       "      <td>Elsa Aguirre</td>\n",
       "      <td>actress</td>\n",
       "      <td>Rosa G?mez</td>\n",
       "      <td>1.0</td>\n",
       "    </tr>\n",
       "    <tr>\n",
       "      <th>2457448</th>\n",
       "      <td>Square Dance Katy</td>\n",
       "      <td>1950</td>\n",
       "      <td>Barbara Jo Allen</td>\n",
       "      <td>actress</td>\n",
       "      <td>Gypsy Jones</td>\n",
       "      <td>1.0</td>\n",
       "    </tr>\n",
       "    <tr>\n",
       "      <th>...</th>\n",
       "      <td>...</td>\n",
       "      <td>...</td>\n",
       "      <td>...</td>\n",
       "      <td>...</td>\n",
       "      <td>...</td>\n",
       "      <td>...</td>\n",
       "    </tr>\n",
       "    <tr>\n",
       "      <th>3589600</th>\n",
       "      <td>Stage Fright</td>\n",
       "      <td>1950</td>\n",
       "      <td>Jane Wyman</td>\n",
       "      <td>actress</td>\n",
       "      <td>Eve Gill</td>\n",
       "      <td>1.0</td>\n",
       "    </tr>\n",
       "    <tr>\n",
       "      <th>3589609</th>\n",
       "      <td>The Glass Menagerie</td>\n",
       "      <td>1950</td>\n",
       "      <td>Jane Wyman</td>\n",
       "      <td>actress</td>\n",
       "      <td>Laura Wingfield</td>\n",
       "      <td>1.0</td>\n",
       "    </tr>\n",
       "    <tr>\n",
       "      <th>3603481</th>\n",
       "      <td>U nikh est Rodina</td>\n",
       "      <td>1950</td>\n",
       "      <td>Natalya Zashchipina</td>\n",
       "      <td>actress</td>\n",
       "      <td>Ira Sokolova</td>\n",
       "      <td>1.0</td>\n",
       "    </tr>\n",
       "    <tr>\n",
       "      <th>3606765</th>\n",
       "      <td>Die lustigen Weiber von Windsor</td>\n",
       "      <td>1950</td>\n",
       "      <td>Sonja Ziemann</td>\n",
       "      <td>actress</td>\n",
       "      <td>Frau Fluth (Mistress Ford)</td>\n",
       "      <td>1.0</td>\n",
       "    </tr>\n",
       "    <tr>\n",
       "      <th>3608813</th>\n",
       "      <td>Valentina</td>\n",
       "      <td>1950</td>\n",
       "      <td>Olga Zubarry</td>\n",
       "      <td>actress</td>\n",
       "      <td>Valentina Gonz?lez Garc?a</td>\n",
       "      <td>1.0</td>\n",
       "    </tr>\n",
       "  </tbody>\n",
       "</table>\n",
       "<p>279 rows × 6 columns</p>\n",
       "</div>"
      ],
      "text/plain": [
       "                                   title  year                 name     type  \\\n",
       "2448337                 Al son del mambo  1950       Amalia Aguilar  actress   \n",
       "2448342                 La vida en broma  1950       Amalia Aguilar  actress   \n",
       "2448734         La liga de las muchachas  1950         Elsa Aguirre  actress   \n",
       "2448744                Una mujer decente  1950         Elsa Aguirre  actress   \n",
       "2457448                Square Dance Katy  1950     Barbara Jo Allen  actress   \n",
       "...                                  ...   ...                  ...      ...   \n",
       "3589600                     Stage Fright  1950           Jane Wyman  actress   \n",
       "3589609              The Glass Menagerie  1950           Jane Wyman  actress   \n",
       "3603481                U nikh est Rodina  1950  Natalya Zashchipina  actress   \n",
       "3606765  Die lustigen Weiber von Windsor  1950        Sonja Ziemann  actress   \n",
       "3608813                        Valentina  1950         Olga Zubarry  actress   \n",
       "\n",
       "                          character    n  \n",
       "2448337                       Reina  1.0  \n",
       "2448342                      Amalia  1.0  \n",
       "2448734                      Dorita  1.0  \n",
       "2448744                  Rosa G?mez  1.0  \n",
       "2457448                 Gypsy Jones  1.0  \n",
       "...                             ...  ...  \n",
       "3589600                    Eve Gill  1.0  \n",
       "3589609             Laura Wingfield  1.0  \n",
       "3603481                Ira Sokolova  1.0  \n",
       "3606765  Frau Fluth (Mistress Ford)  1.0  \n",
       "3608813   Valentina Gonz?lez Garc?a  1.0  \n",
       "\n",
       "[279 rows x 6 columns]"
      ]
     },
     "execution_count": 207,
     "metadata": {},
     "output_type": "execute_result"
    }
   ],
   "source": [
    "actress_1=rank_1[rank_1['type'].isin(['actress'])]\n",
    "actress_1"
   ]
  },
  {
   "cell_type": "markdown",
   "metadata": {},
   "source": [
    "279 roles were available for the actress in 1950."
   ]
  },
  {
   "cell_type": "markdown",
   "metadata": {
    "collapsed": true
   },
   "source": [
    "### How many supporting (n=2) roles were available to actors, and how many to actresses, in the 1950s?"
   ]
  },
  {
   "cell_type": "code",
   "execution_count": 208,
   "metadata": {},
   "outputs": [
    {
     "data": {
      "text/html": [
       "<div>\n",
       "<style scoped>\n",
       "    .dataframe tbody tr th:only-of-type {\n",
       "        vertical-align: middle;\n",
       "    }\n",
       "\n",
       "    .dataframe tbody tr th {\n",
       "        vertical-align: top;\n",
       "    }\n",
       "\n",
       "    .dataframe thead th {\n",
       "        text-align: right;\n",
       "    }\n",
       "</style>\n",
       "<table border=\"1\" class=\"dataframe\">\n",
       "  <thead>\n",
       "    <tr style=\"text-align: right;\">\n",
       "      <th></th>\n",
       "      <th>title</th>\n",
       "      <th>year</th>\n",
       "      <th>name</th>\n",
       "      <th>type</th>\n",
       "      <th>character</th>\n",
       "      <th>n</th>\n",
       "    </tr>\n",
       "  </thead>\n",
       "  <tbody>\n",
       "    <tr>\n",
       "      <th>16534</th>\n",
       "      <td>Breakthrough</td>\n",
       "      <td>1950</td>\n",
       "      <td>John Agar</td>\n",
       "      <td>actor</td>\n",
       "      <td>Lt. Joe Mallory</td>\n",
       "      <td>2.0</td>\n",
       "    </tr>\n",
       "    <tr>\n",
       "      <th>18415</th>\n",
       "      <td>Primero soy mexicano</td>\n",
       "      <td>1950</td>\n",
       "      <td>Luis Aguilar</td>\n",
       "      <td>actor</td>\n",
       "      <td>Doctor Rafael Fuentes</td>\n",
       "      <td>2.0</td>\n",
       "    </tr>\n",
       "    <tr>\n",
       "      <th>26215</th>\n",
       "      <td>Der Mann, der sich selber sucht</td>\n",
       "      <td>1950</td>\n",
       "      <td>Wolf Albach-Retty</td>\n",
       "      <td>actor</td>\n",
       "      <td>Marius Aldon</td>\n",
       "      <td>2.0</td>\n",
       "    </tr>\n",
       "    <tr>\n",
       "      <th>26256</th>\n",
       "      <td>Zwei in einem Anzug</td>\n",
       "      <td>1950</td>\n",
       "      <td>Wolf Albach-Retty</td>\n",
       "      <td>actor</td>\n",
       "      <td>Otto Vogel</td>\n",
       "      <td>2.0</td>\n",
       "    </tr>\n",
       "    <tr>\n",
       "      <th>27089</th>\n",
       "      <td>The Fuller Brush Girl</td>\n",
       "      <td>1950</td>\n",
       "      <td>Eddie Albert</td>\n",
       "      <td>actor</td>\n",
       "      <td>Humphrey Briggs</td>\n",
       "      <td>2.0</td>\n",
       "    </tr>\n",
       "    <tr>\n",
       "      <th>...</th>\n",
       "      <td>...</td>\n",
       "      <td>...</td>\n",
       "      <td>...</td>\n",
       "      <td>...</td>\n",
       "      <td>...</td>\n",
       "      <td>...</td>\n",
       "    </tr>\n",
       "    <tr>\n",
       "      <th>3591559</th>\n",
       "      <td>Harukanari haha no kuni</td>\n",
       "      <td>1950</td>\n",
       "      <td>Isuzu Yamada</td>\n",
       "      <td>actress</td>\n",
       "      <td>Masako</td>\n",
       "      <td>2.0</td>\n",
       "    </tr>\n",
       "    <tr>\n",
       "      <th>3591729</th>\n",
       "      <td>Akatsuki no dasso</td>\n",
       "      <td>1950</td>\n",
       "      <td>Shirley Yamaguchi</td>\n",
       "      <td>actress</td>\n",
       "      <td>Harumi</td>\n",
       "      <td>2.0</td>\n",
       "    </tr>\n",
       "    <tr>\n",
       "      <th>3598151</th>\n",
       "      <td>Key to the City</td>\n",
       "      <td>1950</td>\n",
       "      <td>Loretta Young</td>\n",
       "      <td>actress</td>\n",
       "      <td>Clarissa Standish</td>\n",
       "      <td>2.0</td>\n",
       "    </tr>\n",
       "    <tr>\n",
       "      <th>3603918</th>\n",
       "      <td>El amor no es negocio</td>\n",
       "      <td>1950</td>\n",
       "      <td>Mar?a Luisa Zea</td>\n",
       "      <td>actress</td>\n",
       "      <td>Margarita</td>\n",
       "      <td>2.0</td>\n",
       "    </tr>\n",
       "    <tr>\n",
       "      <th>3611137</th>\n",
       "      <td>Akdeniz korsanlari</td>\n",
       "      <td>1950</td>\n",
       "      <td>Muazzez ?lkerer</td>\n",
       "      <td>actress</td>\n",
       "      <td>Maria</td>\n",
       "      <td>2.0</td>\n",
       "    </tr>\n",
       "  </tbody>\n",
       "</table>\n",
       "<p>845 rows × 6 columns</p>\n",
       "</div>"
      ],
      "text/plain": [
       "                                   title  year               name     type  \\\n",
       "16534                       Breakthrough  1950          John Agar    actor   \n",
       "18415               Primero soy mexicano  1950       Luis Aguilar    actor   \n",
       "26215    Der Mann, der sich selber sucht  1950  Wolf Albach-Retty    actor   \n",
       "26256                Zwei in einem Anzug  1950  Wolf Albach-Retty    actor   \n",
       "27089              The Fuller Brush Girl  1950       Eddie Albert    actor   \n",
       "...                                  ...   ...                ...      ...   \n",
       "3591559          Harukanari haha no kuni  1950       Isuzu Yamada  actress   \n",
       "3591729                Akatsuki no dasso  1950  Shirley Yamaguchi  actress   \n",
       "3598151                  Key to the City  1950      Loretta Young  actress   \n",
       "3603918            El amor no es negocio  1950    Mar?a Luisa Zea  actress   \n",
       "3611137               Akdeniz korsanlari  1950    Muazzez ?lkerer  actress   \n",
       "\n",
       "                     character    n  \n",
       "16534          Lt. Joe Mallory  2.0  \n",
       "18415    Doctor Rafael Fuentes  2.0  \n",
       "26215             Marius Aldon  2.0  \n",
       "26256               Otto Vogel  2.0  \n",
       "27089          Humphrey Briggs  2.0  \n",
       "...                        ...  ...  \n",
       "3591559                 Masako  2.0  \n",
       "3591729                 Harumi  2.0  \n",
       "3598151      Clarissa Standish  2.0  \n",
       "3603918              Margarita  2.0  \n",
       "3611137                  Maria  2.0  \n",
       "\n",
       "[845 rows x 6 columns]"
      ]
     },
     "execution_count": 208,
     "metadata": {},
     "output_type": "execute_result"
    }
   ],
   "source": [
    "rank_2=lead_1950[lead_1950['n'].isin([2])]\n",
    "rank_2"
   ]
  },
  {
   "cell_type": "code",
   "execution_count": 209,
   "metadata": {},
   "outputs": [
    {
     "data": {
      "text/html": [
       "<div>\n",
       "<style scoped>\n",
       "    .dataframe tbody tr th:only-of-type {\n",
       "        vertical-align: middle;\n",
       "    }\n",
       "\n",
       "    .dataframe tbody tr th {\n",
       "        vertical-align: top;\n",
       "    }\n",
       "\n",
       "    .dataframe thead th {\n",
       "        text-align: right;\n",
       "    }\n",
       "</style>\n",
       "<table border=\"1\" class=\"dataframe\">\n",
       "  <thead>\n",
       "    <tr style=\"text-align: right;\">\n",
       "      <th></th>\n",
       "      <th>title</th>\n",
       "      <th>year</th>\n",
       "      <th>name</th>\n",
       "      <th>type</th>\n",
       "      <th>character</th>\n",
       "      <th>n</th>\n",
       "    </tr>\n",
       "  </thead>\n",
       "  <tbody>\n",
       "    <tr>\n",
       "      <th>16534</th>\n",
       "      <td>Breakthrough</td>\n",
       "      <td>1950</td>\n",
       "      <td>John Agar</td>\n",
       "      <td>actor</td>\n",
       "      <td>Lt. Joe Mallory</td>\n",
       "      <td>2.0</td>\n",
       "    </tr>\n",
       "    <tr>\n",
       "      <th>18415</th>\n",
       "      <td>Primero soy mexicano</td>\n",
       "      <td>1950</td>\n",
       "      <td>Luis Aguilar</td>\n",
       "      <td>actor</td>\n",
       "      <td>Doctor Rafael Fuentes</td>\n",
       "      <td>2.0</td>\n",
       "    </tr>\n",
       "    <tr>\n",
       "      <th>26215</th>\n",
       "      <td>Der Mann, der sich selber sucht</td>\n",
       "      <td>1950</td>\n",
       "      <td>Wolf Albach-Retty</td>\n",
       "      <td>actor</td>\n",
       "      <td>Marius Aldon</td>\n",
       "      <td>2.0</td>\n",
       "    </tr>\n",
       "    <tr>\n",
       "      <th>26256</th>\n",
       "      <td>Zwei in einem Anzug</td>\n",
       "      <td>1950</td>\n",
       "      <td>Wolf Albach-Retty</td>\n",
       "      <td>actor</td>\n",
       "      <td>Otto Vogel</td>\n",
       "      <td>2.0</td>\n",
       "    </tr>\n",
       "    <tr>\n",
       "      <th>27089</th>\n",
       "      <td>The Fuller Brush Girl</td>\n",
       "      <td>1950</td>\n",
       "      <td>Eddie Albert</td>\n",
       "      <td>actor</td>\n",
       "      <td>Humphrey Briggs</td>\n",
       "      <td>2.0</td>\n",
       "    </tr>\n",
       "    <tr>\n",
       "      <th>...</th>\n",
       "      <td>...</td>\n",
       "      <td>...</td>\n",
       "      <td>...</td>\n",
       "      <td>...</td>\n",
       "      <td>...</td>\n",
       "      <td>...</td>\n",
       "    </tr>\n",
       "    <tr>\n",
       "      <th>2367328</th>\n",
       "      <td>High Lonesome</td>\n",
       "      <td>1950</td>\n",
       "      <td>Chill Wills</td>\n",
       "      <td>actor</td>\n",
       "      <td>Boatwhistle, Ranch Cook</td>\n",
       "      <td>2.0</td>\n",
       "    </tr>\n",
       "    <tr>\n",
       "      <th>2388714</th>\n",
       "      <td>The Lost Volcano</td>\n",
       "      <td>1950</td>\n",
       "      <td>Donald Woods</td>\n",
       "      <td>actor</td>\n",
       "      <td>Paul Gordon</td>\n",
       "      <td>2.0</td>\n",
       "    </tr>\n",
       "    <tr>\n",
       "      <th>2390230</th>\n",
       "      <td>Madeleine</td>\n",
       "      <td>1950</td>\n",
       "      <td>Norman Wooland</td>\n",
       "      <td>actor</td>\n",
       "      <td>William Minnoch</td>\n",
       "      <td>2.0</td>\n",
       "    </tr>\n",
       "    <tr>\n",
       "      <th>2406706</th>\n",
       "      <td>Xi lu xiang</td>\n",
       "      <td>1950</td>\n",
       "      <td>Chau-Shui Yee</td>\n",
       "      <td>actor</td>\n",
       "      <td>Uncle Ho</td>\n",
       "      <td>2.0</td>\n",
       "    </tr>\n",
       "    <tr>\n",
       "      <th>2432765</th>\n",
       "      <td>Crveni cvet</td>\n",
       "      <td>1950</td>\n",
       "      <td>Milivoje Zivanovic</td>\n",
       "      <td>actor</td>\n",
       "      <td>General Mitrovic</td>\n",
       "      <td>2.0</td>\n",
       "    </tr>\n",
       "  </tbody>\n",
       "</table>\n",
       "<p>433 rows × 6 columns</p>\n",
       "</div>"
      ],
      "text/plain": [
       "                                   title  year                name   type  \\\n",
       "16534                       Breakthrough  1950           John Agar  actor   \n",
       "18415               Primero soy mexicano  1950        Luis Aguilar  actor   \n",
       "26215    Der Mann, der sich selber sucht  1950   Wolf Albach-Retty  actor   \n",
       "26256                Zwei in einem Anzug  1950   Wolf Albach-Retty  actor   \n",
       "27089              The Fuller Brush Girl  1950        Eddie Albert  actor   \n",
       "...                                  ...   ...                 ...    ...   \n",
       "2367328                    High Lonesome  1950         Chill Wills  actor   \n",
       "2388714                 The Lost Volcano  1950        Donald Woods  actor   \n",
       "2390230                        Madeleine  1950      Norman Wooland  actor   \n",
       "2406706                      Xi lu xiang  1950       Chau-Shui Yee  actor   \n",
       "2432765                      Crveni cvet  1950  Milivoje Zivanovic  actor   \n",
       "\n",
       "                       character    n  \n",
       "16534            Lt. Joe Mallory  2.0  \n",
       "18415      Doctor Rafael Fuentes  2.0  \n",
       "26215               Marius Aldon  2.0  \n",
       "26256                 Otto Vogel  2.0  \n",
       "27089            Humphrey Briggs  2.0  \n",
       "...                          ...  ...  \n",
       "2367328  Boatwhistle, Ranch Cook  2.0  \n",
       "2388714              Paul Gordon  2.0  \n",
       "2390230          William Minnoch  2.0  \n",
       "2406706                 Uncle Ho  2.0  \n",
       "2432765         General Mitrovic  2.0  \n",
       "\n",
       "[433 rows x 6 columns]"
      ]
     },
     "execution_count": 209,
     "metadata": {},
     "output_type": "execute_result"
    }
   ],
   "source": [
    "actor_2=rank_2[rank_2['type'].isin(['actor'])]\n",
    "actor_2"
   ]
  },
  {
   "cell_type": "markdown",
   "metadata": {},
   "source": [
    "433 supporting roles were available for actors in the year 1950."
   ]
  },
  {
   "cell_type": "code",
   "execution_count": 210,
   "metadata": {},
   "outputs": [
    {
     "data": {
      "text/html": [
       "<div>\n",
       "<style scoped>\n",
       "    .dataframe tbody tr th:only-of-type {\n",
       "        vertical-align: middle;\n",
       "    }\n",
       "\n",
       "    .dataframe tbody tr th {\n",
       "        vertical-align: top;\n",
       "    }\n",
       "\n",
       "    .dataframe thead th {\n",
       "        text-align: right;\n",
       "    }\n",
       "</style>\n",
       "<table border=\"1\" class=\"dataframe\">\n",
       "  <thead>\n",
       "    <tr style=\"text-align: right;\">\n",
       "      <th></th>\n",
       "      <th>title</th>\n",
       "      <th>year</th>\n",
       "      <th>name</th>\n",
       "      <th>type</th>\n",
       "      <th>character</th>\n",
       "      <th>n</th>\n",
       "    </tr>\n",
       "  </thead>\n",
       "  <tbody>\n",
       "    <tr>\n",
       "      <th>2444584</th>\n",
       "      <td>Law of the Panhandle</td>\n",
       "      <td>1950</td>\n",
       "      <td>Jane Adams</td>\n",
       "      <td>actress</td>\n",
       "      <td>Margie Kendal</td>\n",
       "      <td>2.0</td>\n",
       "    </tr>\n",
       "    <tr>\n",
       "      <th>2444589</th>\n",
       "      <td>Outlaw Gold</td>\n",
       "      <td>1950</td>\n",
       "      <td>Jane Adams</td>\n",
       "      <td>actress</td>\n",
       "      <td>Kathy Martin</td>\n",
       "      <td>2.0</td>\n",
       "    </tr>\n",
       "    <tr>\n",
       "      <th>2448350</th>\n",
       "      <td>Ritmos del Caribe</td>\n",
       "      <td>1950</td>\n",
       "      <td>Amalia Aguilar</td>\n",
       "      <td>actress</td>\n",
       "      <td>Magali</td>\n",
       "      <td>2.0</td>\n",
       "    </tr>\n",
       "    <tr>\n",
       "      <th>2448700</th>\n",
       "      <td>Sobre las olas</td>\n",
       "      <td>1950</td>\n",
       "      <td>Beatriz Aguirre</td>\n",
       "      <td>actress</td>\n",
       "      <td>Lolita</td>\n",
       "      <td>2.0</td>\n",
       "    </tr>\n",
       "    <tr>\n",
       "      <th>2448738</th>\n",
       "      <td>Lluvia roja</td>\n",
       "      <td>1950</td>\n",
       "      <td>Elsa Aguirre</td>\n",
       "      <td>actress</td>\n",
       "      <td>Elisa</td>\n",
       "      <td>2.0</td>\n",
       "    </tr>\n",
       "    <tr>\n",
       "      <th>...</th>\n",
       "      <td>...</td>\n",
       "      <td>...</td>\n",
       "      <td>...</td>\n",
       "      <td>...</td>\n",
       "      <td>...</td>\n",
       "      <td>...</td>\n",
       "    </tr>\n",
       "    <tr>\n",
       "      <th>3591559</th>\n",
       "      <td>Harukanari haha no kuni</td>\n",
       "      <td>1950</td>\n",
       "      <td>Isuzu Yamada</td>\n",
       "      <td>actress</td>\n",
       "      <td>Masako</td>\n",
       "      <td>2.0</td>\n",
       "    </tr>\n",
       "    <tr>\n",
       "      <th>3591729</th>\n",
       "      <td>Akatsuki no dasso</td>\n",
       "      <td>1950</td>\n",
       "      <td>Shirley Yamaguchi</td>\n",
       "      <td>actress</td>\n",
       "      <td>Harumi</td>\n",
       "      <td>2.0</td>\n",
       "    </tr>\n",
       "    <tr>\n",
       "      <th>3598151</th>\n",
       "      <td>Key to the City</td>\n",
       "      <td>1950</td>\n",
       "      <td>Loretta Young</td>\n",
       "      <td>actress</td>\n",
       "      <td>Clarissa Standish</td>\n",
       "      <td>2.0</td>\n",
       "    </tr>\n",
       "    <tr>\n",
       "      <th>3603918</th>\n",
       "      <td>El amor no es negocio</td>\n",
       "      <td>1950</td>\n",
       "      <td>Mar?a Luisa Zea</td>\n",
       "      <td>actress</td>\n",
       "      <td>Margarita</td>\n",
       "      <td>2.0</td>\n",
       "    </tr>\n",
       "    <tr>\n",
       "      <th>3611137</th>\n",
       "      <td>Akdeniz korsanlari</td>\n",
       "      <td>1950</td>\n",
       "      <td>Muazzez ?lkerer</td>\n",
       "      <td>actress</td>\n",
       "      <td>Maria</td>\n",
       "      <td>2.0</td>\n",
       "    </tr>\n",
       "  </tbody>\n",
       "</table>\n",
       "<p>412 rows × 6 columns</p>\n",
       "</div>"
      ],
      "text/plain": [
       "                           title  year               name     type  \\\n",
       "2444584     Law of the Panhandle  1950         Jane Adams  actress   \n",
       "2444589              Outlaw Gold  1950         Jane Adams  actress   \n",
       "2448350        Ritmos del Caribe  1950     Amalia Aguilar  actress   \n",
       "2448700           Sobre las olas  1950    Beatriz Aguirre  actress   \n",
       "2448738              Lluvia roja  1950       Elsa Aguirre  actress   \n",
       "...                          ...   ...                ...      ...   \n",
       "3591559  Harukanari haha no kuni  1950       Isuzu Yamada  actress   \n",
       "3591729        Akatsuki no dasso  1950  Shirley Yamaguchi  actress   \n",
       "3598151          Key to the City  1950      Loretta Young  actress   \n",
       "3603918    El amor no es negocio  1950    Mar?a Luisa Zea  actress   \n",
       "3611137       Akdeniz korsanlari  1950    Muazzez ?lkerer  actress   \n",
       "\n",
       "                 character    n  \n",
       "2444584      Margie Kendal  2.0  \n",
       "2444589       Kathy Martin  2.0  \n",
       "2448350             Magali  2.0  \n",
       "2448700             Lolita  2.0  \n",
       "2448738              Elisa  2.0  \n",
       "...                    ...  ...  \n",
       "3591559             Masako  2.0  \n",
       "3591729             Harumi  2.0  \n",
       "3598151  Clarissa Standish  2.0  \n",
       "3603918          Margarita  2.0  \n",
       "3611137              Maria  2.0  \n",
       "\n",
       "[412 rows x 6 columns]"
      ]
     },
     "execution_count": 210,
     "metadata": {},
     "output_type": "execute_result"
    }
   ],
   "source": [
    "actress_2=rank_2[rank_2['type'].isin(['actress'])]\n",
    "actress_2"
   ]
  },
  {
   "cell_type": "markdown",
   "metadata": {},
   "source": [
    "412 supporting roles were available to the actress in the year 1950 "
   ]
  },
  {
   "cell_type": "code",
   "execution_count": null,
   "metadata": {},
   "outputs": [],
   "source": []
  }
 ],
 "metadata": {
  "kernelspec": {
   "display_name": "Python 3 (ipykernel)",
   "language": "python",
   "name": "python3"
  },
  "language_info": {
   "codemirror_mode": {
    "name": "ipython",
    "version": 3
   },
   "file_extension": ".py",
   "mimetype": "text/x-python",
   "name": "python",
   "nbconvert_exporter": "python",
   "pygments_lexer": "ipython3",
   "version": "3.11.5"
  }
 },
 "nbformat": 4,
 "nbformat_minor": 1
}
